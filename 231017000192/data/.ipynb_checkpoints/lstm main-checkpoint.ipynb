{
 "cells": [
  {
   "cell_type": "code",
   "execution_count": 1,
   "id": "6b0c9b4b",
   "metadata": {},
   "outputs": [],
   "source": [
    "import jieba \n",
    "import pandas as pd \n",
    "import numpy as np \n",
    "from tensorflow.keras.layers import Dense,Input,Dropout,Embedding,LSTM,Bidirectional\n",
    "from tensorflow.keras.preprocessing.text import Tokenizer\n",
    "from tensorflow.keras.preprocessing.sequence import pad_sequences\n",
    "from tensorflow.keras.models import Model\n",
    "from sklearn.model_selection import train_test_split"
   ]
  },
  {
   "cell_type": "code",
   "execution_count": 2,
   "id": "4f790d3d",
   "metadata": {},
   "outputs": [],
   "source": [
    "# In[2]:\n",
    "\n",
    "\n",
    "# 批次大小\n",
    "batch_size = 8\n",
    "# 训练周期\n",
    "epochs = 3\n",
    "# 词向量长度\n",
    "embedding_dims = 128\n",
    "# cell数量\n",
    "lstm_cell = 64"
   ]
  },
  {
   "cell_type": "code",
   "execution_count": 3,
   "id": "765e6c02",
   "metadata": {},
   "outputs": [
    {
     "data": {
      "text/html": [
       "<div>\n",
       "<style scoped>\n",
       "    .dataframe tbody tr th:only-of-type {\n",
       "        vertical-align: middle;\n",
       "    }\n",
       "\n",
       "    .dataframe tbody tr th {\n",
       "        vertical-align: top;\n",
       "    }\n",
       "\n",
       "    .dataframe thead th {\n",
       "        text-align: right;\n",
       "    }\n",
       "</style>\n",
       "<table border=\"1\" class=\"dataframe\">\n",
       "  <thead>\n",
       "    <tr style=\"text-align: right;\">\n",
       "      <th></th>\n",
       "      <th>text</th>\n",
       "      <th>label</th>\n",
       "    </tr>\n",
       "  </thead>\n",
       "  <tbody>\n",
       "    <tr>\n",
       "      <th>0</th>\n",
       "      <td>我的感受：1 远超预期 2比第一部强 3 格局打开 境界打开 4中国影史第一科幻系列作可期！...</td>\n",
       "      <td>1</td>\n",
       "    </tr>\n",
       "    <tr>\n",
       "      <th>1</th>\n",
       "      <td>最近看了主创团队的路演，和观众交流的时候又透露出很多新的细节，感兴趣的大家也可以去其他平台上...</td>\n",
       "      <td>1</td>\n",
       "    </tr>\n",
       "    <tr>\n",
       "      <th>2</th>\n",
       "      <td>《流浪地球2》是《流浪地球》的前传，讲述的是2044年太空电梯危机和2058月球坠落危机。以...</td>\n",
       "      <td>1</td>\n",
       "    </tr>\n",
       "    <tr>\n",
       "      <th>3</th>\n",
       "      <td>我觉得全片这些动人看点中，片尾那句“致敬吴孟达先生”一定是最让人有感触的一个。_x000D_...</td>\n",
       "      <td>1</td>\n",
       "    </tr>\n",
       "    <tr>\n",
       "      <th>4</th>\n",
       "      <td>好评夸赞不说了，豆瓣满街都是。这一部非常震撼，中国式科幻美学巅峰。说说那些打差评的，无非两种...</td>\n",
       "      <td>1</td>\n",
       "    </tr>\n",
       "  </tbody>\n",
       "</table>\n",
       "</div>"
      ],
      "text/plain": [
       "                                                text  label\n",
       "0  我的感受：1 远超预期 2比第一部强 3 格局打开 境界打开 4中国影史第一科幻系列作可期！...      1\n",
       "1  最近看了主创团队的路演，和观众交流的时候又透露出很多新的细节，感兴趣的大家也可以去其他平台上...      1\n",
       "2  《流浪地球2》是《流浪地球》的前传，讲述的是2044年太空电梯危机和2058月球坠落危机。以...      1\n",
       "3  我觉得全片这些动人看点中，片尾那句“致敬吴孟达先生”一定是最让人有感触的一个。_x000D_...      1\n",
       "4  好评夸赞不说了，豆瓣满街都是。这一部非常震撼，中国式科幻美学巅峰。说说那些打差评的，无非两种...      1"
      ]
     },
     "execution_count": 3,
     "metadata": {},
     "output_type": "execute_result"
    }
   ],
   "source": [
    "# In[3]:\n",
    "\n",
    "\n",
    "########step1-数据预处理########\n",
    "\n",
    "data = pd.read_excel('标签处理后数据.xlsx')\n",
    "data.head()"
   ]
  },
  {
   "cell_type": "code",
   "execution_count": 7,
   "id": "9fcb0306",
   "metadata": {},
   "outputs": [],
   "source": [
    "data.columns=['review','label']"
   ]
  },
  {
   "cell_type": "code",
   "execution_count": 5,
   "id": "afafabfa",
   "metadata": {},
   "outputs": [],
   "source": [
    "# 计算正样本数量\n",
    "poslen = sum(data['label']==1)\n",
    "# 计算负样本数量\n",
    "neglen = sum(data['label']==0)"
   ]
  },
  {
   "cell_type": "code",
   "execution_count": 9,
   "id": "59ee8f6c",
   "metadata": {},
   "outputs": [],
   "source": [
    "#定义分词函数，对传入的x进行分词\n",
    "cw = lambda x: list(jieba.cut(str(x)))\n",
    "# apply传入一个函数，把cw函数应用到data['review']的每一行\n",
    "# 把分词后的结果保存到data['words']中\n",
    "data['words'] = data['review'].apply(cw)"
   ]
  },
  {
   "cell_type": "code",
   "execution_count": 10,
   "id": "ab98767c",
   "metadata": {},
   "outputs": [],
   "source": [
    "# 计算一条数据最多有多少个词汇\n",
    "max_length = max([len(x) for x in data['words']])\n",
    "# 把data['words']中所有的list都变成字符串格式\n",
    "texts = [' '.join(x) for x in data['words']]"
   ]
  },
  {
   "cell_type": "code",
   "execution_count": 11,
   "id": "b04b66b6",
   "metadata": {},
   "outputs": [],
   "source": [
    "# 实例化Tokenizer，设置字典中最大词汇数为30000\n",
    "# Tokenizer会自动过滤掉一些符号比如：!\"#$%&()*+,-./:;<=>?@[\\\\]^_`{|}~\\t\\n\n",
    "tokenizer = Tokenizer(num_words=30000)\n",
    "# 传入我们的训练数据，建立词典，词的编号根据词频设定，频率越大，编号越小，\n",
    "tokenizer.fit_on_texts(texts) "
   ]
  },
  {
   "cell_type": "code",
   "execution_count": 12,
   "id": "c9ce83ca",
   "metadata": {},
   "outputs": [],
   "source": [
    "# 把词转换为编号，编号大于30000的词会被过滤掉\n",
    "sequences = tokenizer.texts_to_sequences(texts) \n",
    "# 把序列设定为max_length的长度，超过max_length的部分舍弃，不到max_length则补0\n",
    "# padding='pre'在句子前面进行填充，padding='post'在句子后面进行填充\n",
    "X = pad_sequences(sequences, maxlen=max_length, padding='pre')"
   ]
  },
  {
   "cell_type": "code",
   "execution_count": 13,
   "id": "087c3f17",
   "metadata": {},
   "outputs": [],
   "source": [
    "########step3-定义标签切分数据########\n",
    "# 定义标签\n",
    "# 01为正样本，10为负样本\n",
    "positive_labels = [[0, 1] for _ in range(poslen)]\n",
    "negative_labels = [[1, 0] for _ in range(neglen)]\n",
    "# 合并标签\n",
    "Y = np.array(positive_labels + negative_labels)\n",
    "# 切分数据集\n",
    "x_train,x_test,y_train,y_test = train_test_split(X, Y, test_size=0.2)"
   ]
  },
  {
   "cell_type": "code",
   "execution_count": 14,
   "id": "67220ab6",
   "metadata": {},
   "outputs": [],
   "source": [
    "########step4-搭建模型########\n",
    "# 定义函数式模型\n",
    "# 定义模型输入，shape-(batch, 202)\n",
    "sequence_input = Input(shape=(max_length,))\n",
    "# Embedding层，30000表示30000个词，每个词对应的向量为128维\n",
    "embedding_layer = Embedding(input_dim=30000, output_dim=embedding_dims)\n",
    "# embedded_sequences的shape-(batch, 202, 128)\n",
    "embedded_sequences = embedding_layer(sequence_input)\n",
    "# 双向LSTM\n",
    "x = Bidirectional(LSTM(lstm_cell))(embedded_sequences)\n",
    "\n",
    "# 全连接层\n",
    "x = Dense(128, activation='relu')(x)\n",
    "# Dropout层\n",
    "x = Dropout(0.5)(x)\n",
    "# 输出层\n",
    "preds = Dense(2, activation='softmax')(x)\n",
    "# 定义模型\n",
    "model = Model(sequence_input, preds)"
   ]
  },
  {
   "cell_type": "code",
   "execution_count": 15,
   "id": "978f76c2",
   "metadata": {},
   "outputs": [
    {
     "name": "stdout",
     "output_type": "stream",
     "text": [
      "Model: \"model\"\n",
      "_________________________________________________________________\n",
      "Layer (type)                 Output Shape              Param #   \n",
      "=================================================================\n",
      "input_1 (InputLayer)         [(None, 13139)]           0         \n",
      "_________________________________________________________________\n",
      "embedding (Embedding)        (None, 13139, 128)        3840000   \n",
      "_________________________________________________________________\n",
      "bidirectional (Bidirectional (None, 128)               98816     \n",
      "_________________________________________________________________\n",
      "dense (Dense)                (None, 128)               16512     \n",
      "_________________________________________________________________\n",
      "dropout (Dropout)            (None, 128)               0         \n",
      "_________________________________________________________________\n",
      "dense_1 (Dense)              (None, 2)                 258       \n",
      "=================================================================\n",
      "Total params: 3,955,586\n",
      "Trainable params: 3,955,586\n",
      "Non-trainable params: 0\n",
      "_________________________________________________________________\n"
     ]
    }
   ],
   "source": [
    "model.summary()"
   ]
  },
  {
   "cell_type": "code",
   "execution_count": 16,
   "id": "bdeb875b",
   "metadata": {},
   "outputs": [
    {
     "name": "stdout",
     "output_type": "stream",
     "text": [
      "Train on 955 samples, validate on 239 samples\n",
      "Epoch 1/3\n",
      "955/955 [==============================] - 162s 170ms/sample - loss: 0.0987 - acc: 0.9885 - val_loss: 0.1376 - val_acc: 0.9791\n",
      "Epoch 2/3\n",
      "955/955 [==============================] - 154s 161ms/sample - loss: 0.0536 - acc: 0.9927 - val_loss: 0.1141 - val_acc: 0.9791\n",
      "Epoch 3/3\n",
      "955/955 [==============================] - 153s 161ms/sample - loss: 0.0397 - acc: 0.9916 - val_loss: 0.1672 - val_acc: 0.9791\n"
     ]
    }
   ],
   "source": [
    "# In[4]:\n",
    "\n",
    "\n",
    "########step5-模型训练和保存########\n",
    "# 定义代价函数，优化器\n",
    "model.compile(loss='categorical_crossentropy',\n",
    "              optimizer='adam',\n",
    "              metrics=['acc'])\n",
    "\n",
    "# 训练模型\n",
    "history = model.fit(x_train, y_train,\n",
    "          batch_size=batch_size,\n",
    "          epochs=epochs,\n",
    "          validation_data=(x_test, y_test))"
   ]
  },
  {
   "cell_type": "code",
   "execution_count": 19,
   "id": "6c0f89ec",
   "metadata": {},
   "outputs": [
    {
     "data": {
      "image/png": "[encoded data removed]",
      "text/plain": [
       "<Figure size 1152x864 with 1 Axes>"
      ]
     },
     "metadata": {
      "needs_background": "light"
     },
     "output_type": "display_data"
    },
    {
     "data": {
      "image/png": "[encoded data removed]",
      "text/plain": [
       "<Figure size 1152x864 with 1 Axes>"
      ]
     },
     "metadata": {
      "needs_background": "light"
     },
     "output_type": "display_data"
    }
   ],
   "source": [
    "import matplotlib.pyplot as plt\n",
    "def plot_curve(history):\n",
    "    acc = history.history['acc']\n",
    "    val_acc = history.history['val_acc']\n",
    "    loss = history.history['loss']\n",
    "    val_loss = history.history['val_loss']\n",
    "    \n",
    "    epochs = range(1,len(acc)+1)\n",
    "    \n",
    "    plt.figure(figsize=(16,12))\n",
    "    plt.plot(epochs,acc,'bo',label='Training acc')\n",
    "    plt.plot(epochs,val_acc,'b',label='Validation acc')\n",
    "    plt.title('Training and validation accuracy')\n",
    "    plt.legend()\n",
    "    \n",
    "    plt.figure(figsize=(16,12))\n",
    "    plt.plot(epochs,loss,'bo',label='Training loss')\n",
    "    plt.plot(epochs,val_loss,'b',label='Validation loss')\n",
    "    plt.title('Training and validation loss')\n",
    "    plt.legend()\n",
    "    \n",
    "plot_curve(history)"
   ]
  },
  {
   "cell_type": "code",
   "execution_count": null,
   "id": "7a5678d7",
   "metadata": {},
   "outputs": [],
   "source": []
  }
 ],
 "metadata": {
  "kernelspec": {
   "display_name": "Python 3 (ipykernel)",
   "language": "python",
   "name": "python3"
  },
  "language_info": {
   "codemirror_mode": {
    "name": "ipython",
    "version": 3
   },
   "file_extension": ".py",
   "mimetype": "text/x-python",
   "name": "python",
   "nbconvert_exporter": "python",
   "pygments_lexer": "ipython3",
   "version": "3.7.11"
  }
 },
 "nbformat": 4,
 "nbformat_minor": 5
}
