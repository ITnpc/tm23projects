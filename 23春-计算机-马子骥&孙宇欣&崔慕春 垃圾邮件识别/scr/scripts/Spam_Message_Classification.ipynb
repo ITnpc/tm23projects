{
 "nbformat": 4,
 "nbformat_minor": 0,
 "metadata": {
  "colab": {
   "provenance": []
  },
  "kernelspec": {
   "name": "python3",
   "language": "python",
   "display_name": "Python 3 (ipykernel)"
  }
 },
 "cells": [
  {
   "cell_type": "markdown",
   "metadata": {
    "id": "Kmg2oX1-sIBB"
   },
   "source": [
    "# Spam Message Classification"
   ]
  },
  {
   "cell_type": "markdown",
   "metadata": {
    "id": "S57OW0kjrjO6"
   },
   "source": [
    "# 1) Data Preprocessing"
   ]
  },
  {
   "cell_type": "code",
   "metadata": {
    "id": "4p2iJZlIsv26",
    "ExecuteTime": {
     "end_time": "2023-12-14T08:13:08.889757100Z",
     "start_time": "2023-12-14T08:13:08.175265400Z"
    }
   },
   "source": [
    "import numpy as np\n",
    "import pandas as pd\n",
    "import matplotlib.pyplot as plt"
   ],
   "execution_count": 1,
   "outputs": []
  },
  {
   "cell_type": "code",
   "metadata": {
    "id": "YYGRBHHB980M",
    "ExecuteTime": {
     "end_time": "2023-12-14T08:13:23.752377700Z",
     "start_time": "2023-12-14T08:13:23.723374Z"
    }
   },
   "source": [
    "df = pd.read_csv('../datasets/spam.tsv', sep='\\t')"
   ],
   "execution_count": 2,
   "outputs": []
  },
  {
   "cell_type": "code",
   "metadata": {
    "id": "tMRG2Dk8-LJj",
    "colab": {
     "base_uri": "https://localhost:8080/",
     "height": 206
    },
    "outputId": "39159c0c-d7cb-4b8b-ec67-464cb814f763",
    "ExecuteTime": {
     "end_time": "2023-12-14T08:13:34.684514700Z",
     "start_time": "2023-12-14T08:13:34.615352100Z"
    }
   },
   "source": [
    "df.head()"
   ],
   "execution_count": 3,
   "outputs": [
    {
     "data": {
      "text/plain": "  label                                            message  length  punct\n0   ham  Go until jurong point, crazy.. Available only ...     111      9\n1   ham                      Ok lar... Joking wif u oni...      29      6\n2  spam  Free entry in 2 a wkly comp to win FA Cup fina...     155      6\n3   ham  U dun say so early hor... U c already then say...      49      6\n4   ham  Nah I don't think he goes to usf, he lives aro...      61      2",
      "text/html": "<div>\n<style scoped>\n    .dataframe tbody tr th:only-of-type {\n        vertical-align: middle;\n    }\n\n    .dataframe tbody tr th {\n        vertical-align: top;\n    }\n\n    .dataframe thead th {\n        text-align: right;\n    }\n</style>\n<table border=\"1\" class=\"dataframe\">\n  <thead>\n    <tr style=\"text-align: right;\">\n      <th></th>\n      <th>label</th>\n      <th>message</th>\n      <th>length</th>\n      <th>punct</th>\n    </tr>\n  </thead>\n  <tbody>\n    <tr>\n      <th>0</th>\n      <td>ham</td>\n      <td>Go until jurong point, crazy.. Available only ...</td>\n      <td>111</td>\n      <td>9</td>\n    </tr>\n    <tr>\n      <th>1</th>\n      <td>ham</td>\n      <td>Ok lar... Joking wif u oni...</td>\n      <td>29</td>\n      <td>6</td>\n    </tr>\n    <tr>\n      <th>2</th>\n      <td>spam</td>\n      <td>Free entry in 2 a wkly comp to win FA Cup fina...</td>\n      <td>155</td>\n      <td>6</td>\n    </tr>\n    <tr>\n      <th>3</th>\n      <td>ham</td>\n      <td>U dun say so early hor... U c already then say...</td>\n      <td>49</td>\n      <td>6</td>\n    </tr>\n    <tr>\n      <th>4</th>\n      <td>ham</td>\n      <td>Nah I don't think he goes to usf, he lives aro...</td>\n      <td>61</td>\n      <td>2</td>\n    </tr>\n  </tbody>\n</table>\n</div>"
     },
     "execution_count": 3,
     "metadata": {},
     "output_type": "execute_result"
    }
   ]
  },
  {
   "cell_type": "code",
   "metadata": {
    "id": "3053wfTa-LpF",
    "colab": {
     "base_uri": "https://localhost:8080/",
     "height": 106
    },
    "outputId": "01e405fb-4699-4a4a-e9d1-a6d604c46f5f",
    "ExecuteTime": {
     "end_time": "2023-12-14T08:13:35.852094400Z",
     "start_time": "2023-12-14T08:13:35.817095300Z"
    }
   },
   "source": [
    "df.isna().sum()"
   ],
   "execution_count": 4,
   "outputs": [
    {
     "data": {
      "text/plain": "label      0\nmessage    0\nlength     0\npunct      0\ndtype: int64"
     },
     "execution_count": 4,
     "metadata": {},
     "output_type": "execute_result"
    }
   ]
  },
  {
   "cell_type": "code",
   "metadata": {
    "id": "v_MNZbuY-eS7",
    "colab": {
     "base_uri": "https://localhost:8080/",
     "height": 206
    },
    "outputId": "7f5d34a9-05cb-49e1-9b3a-94043a82be71",
    "ExecuteTime": {
     "end_time": "2023-12-14T08:13:36.795328900Z",
     "start_time": "2023-12-14T08:13:36.710645500Z"
    }
   },
   "source": [
    "df.tail()"
   ],
   "execution_count": 5,
   "outputs": [
    {
     "data": {
      "text/plain": "     label                                            message  length  punct\n5567  spam  This is the 2nd time we have tried 2 contact u...     160      8\n5568   ham               Will ü b going to esplanade fr home?      36      1\n5569   ham  Pity, * was in mood for that. So...any other s...      57      7\n5570   ham  The guy did some bitching but I acted like i'd...     125      1\n5571   ham                         Rofl. Its true to its name      26      1",
      "text/html": "<div>\n<style scoped>\n    .dataframe tbody tr th:only-of-type {\n        vertical-align: middle;\n    }\n\n    .dataframe tbody tr th {\n        vertical-align: top;\n    }\n\n    .dataframe thead th {\n        text-align: right;\n    }\n</style>\n<table border=\"1\" class=\"dataframe\">\n  <thead>\n    <tr style=\"text-align: right;\">\n      <th></th>\n      <th>label</th>\n      <th>message</th>\n      <th>length</th>\n      <th>punct</th>\n    </tr>\n  </thead>\n  <tbody>\n    <tr>\n      <th>5567</th>\n      <td>spam</td>\n      <td>This is the 2nd time we have tried 2 contact u...</td>\n      <td>160</td>\n      <td>8</td>\n    </tr>\n    <tr>\n      <th>5568</th>\n      <td>ham</td>\n      <td>Will ü b going to esplanade fr home?</td>\n      <td>36</td>\n      <td>1</td>\n    </tr>\n    <tr>\n      <th>5569</th>\n      <td>ham</td>\n      <td>Pity, * was in mood for that. So...any other s...</td>\n      <td>57</td>\n      <td>7</td>\n    </tr>\n    <tr>\n      <th>5570</th>\n      <td>ham</td>\n      <td>The guy did some bitching but I acted like i'd...</td>\n      <td>125</td>\n      <td>1</td>\n    </tr>\n    <tr>\n      <th>5571</th>\n      <td>ham</td>\n      <td>Rofl. Its true to its name</td>\n      <td>26</td>\n      <td>1</td>\n    </tr>\n  </tbody>\n</table>\n</div>"
     },
     "execution_count": 5,
     "metadata": {},
     "output_type": "execute_result"
    }
   ]
  },
  {
   "cell_type": "code",
   "metadata": {
    "id": "Dvzqtus8-ejq",
    "colab": {
     "base_uri": "https://localhost:8080/",
     "height": 300
    },
    "outputId": "3994696b-bb17-4ae9-ac57-0db1163cb429",
    "ExecuteTime": {
     "end_time": "2023-12-14T08:13:37.608172Z",
     "start_time": "2023-12-14T08:13:37.589170500Z"
    }
   },
   "source": [
    "df.describe()"
   ],
   "execution_count": 6,
   "outputs": [
    {
     "data": {
      "text/plain": "            length        punct\ncount  5572.000000  5572.000000\nmean     80.489950     4.177495\nstd      59.942907     4.623919\nmin       2.000000     0.000000\n25%      36.000000     2.000000\n50%      62.000000     3.000000\n75%     122.000000     6.000000\nmax     910.000000   133.000000",
      "text/html": "<div>\n<style scoped>\n    .dataframe tbody tr th:only-of-type {\n        vertical-align: middle;\n    }\n\n    .dataframe tbody tr th {\n        vertical-align: top;\n    }\n\n    .dataframe thead th {\n        text-align: right;\n    }\n</style>\n<table border=\"1\" class=\"dataframe\">\n  <thead>\n    <tr style=\"text-align: right;\">\n      <th></th>\n      <th>length</th>\n      <th>punct</th>\n    </tr>\n  </thead>\n  <tbody>\n    <tr>\n      <th>count</th>\n      <td>5572.000000</td>\n      <td>5572.000000</td>\n    </tr>\n    <tr>\n      <th>mean</th>\n      <td>80.489950</td>\n      <td>4.177495</td>\n    </tr>\n    <tr>\n      <th>std</th>\n      <td>59.942907</td>\n      <td>4.623919</td>\n    </tr>\n    <tr>\n      <th>min</th>\n      <td>2.000000</td>\n      <td>0.000000</td>\n    </tr>\n    <tr>\n      <th>25%</th>\n      <td>36.000000</td>\n      <td>2.000000</td>\n    </tr>\n    <tr>\n      <th>50%</th>\n      <td>62.000000</td>\n      <td>3.000000</td>\n    </tr>\n    <tr>\n      <th>75%</th>\n      <td>122.000000</td>\n      <td>6.000000</td>\n    </tr>\n    <tr>\n      <th>max</th>\n      <td>910.000000</td>\n      <td>133.000000</td>\n    </tr>\n  </tbody>\n</table>\n</div>"
     },
     "execution_count": 6,
     "metadata": {},
     "output_type": "execute_result"
    }
   ]
  },
  {
   "cell_type": "code",
   "metadata": {
    "id": "ow7F-szZ-13L",
    "colab": {
     "base_uri": "https://localhost:8080/",
     "height": 71
    },
    "outputId": "e84a94db-a44a-4939-c84b-dba2847e7b54",
    "ExecuteTime": {
     "end_time": "2023-12-14T08:13:38.548287100Z",
     "start_time": "2023-12-14T08:13:38.482258200Z"
    }
   },
   "source": [
    "df['label'].value_counts()/ (len(df))"
   ],
   "execution_count": 7,
   "outputs": [
    {
     "data": {
      "text/plain": "ham     0.865937\nspam    0.134063\nName: label, dtype: float64"
     },
     "execution_count": 7,
     "metadata": {},
     "output_type": "execute_result"
    }
   ]
  },
  {
   "cell_type": "code",
   "metadata": {
    "id": "Vrfs54_K_GuE",
    "colab": {
     "base_uri": "https://localhost:8080/",
     "height": 71
    },
    "outputId": "19856b81-59e9-4c4f-cbb1-e7aa12fd4274",
    "ExecuteTime": {
     "end_time": "2023-12-14T08:13:40.111005600Z",
     "start_time": "2023-12-14T08:13:40.069971800Z"
    }
   },
   "source": [
    "df['label'].value_counts()"
   ],
   "execution_count": 8,
   "outputs": [
    {
     "data": {
      "text/plain": "ham     4825\nspam     747\nName: label, dtype: int64"
     },
     "execution_count": 8,
     "metadata": {},
     "output_type": "execute_result"
    }
   ]
  },
  {
   "cell_type": "code",
   "metadata": {
    "id": "lRYoYyGn_mpb",
    "ExecuteTime": {
     "end_time": "2023-12-14T08:13:40.868173200Z",
     "start_time": "2023-12-14T08:13:40.848172500Z"
    }
   },
   "source": [
    "ham = df[df['label'] == 'ham']\n",
    "spam = df[df['label'] == 'spam']"
   ],
   "execution_count": 9,
   "outputs": []
  },
  {
   "cell_type": "code",
   "metadata": {
    "id": "Nin-3VkEAqgv",
    "colab": {
     "base_uri": "https://localhost:8080/",
     "height": 35
    },
    "outputId": "9299f899-f53f-40d5-a8a7-c9f625b11e5f",
    "ExecuteTime": {
     "end_time": "2023-12-14T08:13:41.971269700Z",
     "start_time": "2023-12-14T08:13:41.934322900Z"
    }
   },
   "source": [
    "ham.shape, spam.shape"
   ],
   "execution_count": 10,
   "outputs": [
    {
     "data": {
      "text/plain": "((4825, 4), (747, 4))"
     },
     "execution_count": 10,
     "metadata": {},
     "output_type": "execute_result"
    }
   ]
  },
  {
   "cell_type": "code",
   "metadata": {
    "id": "vJjZXRcKAqrj",
    "ExecuteTime": {
     "end_time": "2023-12-14T08:13:42.750571100Z",
     "start_time": "2023-12-14T08:13:42.725571800Z"
    }
   },
   "source": [
    "ham = ham.sample(spam.shape[0])"
   ],
   "execution_count": 11,
   "outputs": []
  },
  {
   "cell_type": "code",
   "metadata": {
    "id": "qm0h8JcOAqvV",
    "colab": {
     "base_uri": "https://localhost:8080/",
     "height": 35
    },
    "outputId": "f4b0919a-cb83-4214-9158-716d7051bb15",
    "ExecuteTime": {
     "end_time": "2023-12-14T08:13:43.585470400Z",
     "start_time": "2023-12-14T08:13:43.563525800Z"
    }
   },
   "source": [
    "ham.shape, spam.shape"
   ],
   "execution_count": 12,
   "outputs": [
    {
     "data": {
      "text/plain": "((747, 4), (747, 4))"
     },
     "execution_count": 12,
     "metadata": {},
     "output_type": "execute_result"
    }
   ]
  },
  {
   "cell_type": "code",
   "metadata": {
    "id": "wiv3teWjAq1M",
    "ExecuteTime": {
     "end_time": "2023-12-14T08:13:44.141590400Z",
     "start_time": "2023-12-14T08:13:44.127556200Z"
    }
   },
   "source": [
    "data = ham.append(spam, ignore_index=True)"
   ],
   "execution_count": 13,
   "outputs": [
    {
     "name": "stderr",
     "output_type": "stream",
     "text": [
      "C:\\Users\\alfre\\AppData\\Local\\Temp\\ipykernel_21880\\3341520306.py:1: FutureWarning: The frame.append method is deprecated and will be removed from pandas in a future version. Use pandas.concat instead.\n",
      "  data = ham.append(spam, ignore_index=True)\n"
     ]
    }
   ]
  },
  {
   "cell_type": "code",
   "metadata": {
    "id": "WAs_po9h_mt8",
    "colab": {
     "base_uri": "https://localhost:8080/",
     "height": 35
    },
    "outputId": "841d7a0d-5946-48aa-d410-3e34e163548c",
    "ExecuteTime": {
     "end_time": "2023-12-14T08:13:44.722490100Z",
     "start_time": "2023-12-14T08:13:44.707492700Z"
    }
   },
   "source": [
    "data.shape"
   ],
   "execution_count": 14,
   "outputs": [
    {
     "data": {
      "text/plain": "(1494, 4)"
     },
     "execution_count": 14,
     "metadata": {},
     "output_type": "execute_result"
    }
   ]
  },
  {
   "cell_type": "code",
   "metadata": {
    "id": "iI5HKyzgBSL_",
    "colab": {
     "base_uri": "https://localhost:8080/",
     "height": 71
    },
    "outputId": "e29e9ec2-b323-4287-8b3a-90d3b70b2018",
    "ExecuteTime": {
     "end_time": "2023-12-14T08:13:45.798572Z",
     "start_time": "2023-12-14T08:13:45.783063300Z"
    }
   },
   "source": [
    "data['label'].value_counts()"
   ],
   "execution_count": 15,
   "outputs": [
    {
     "data": {
      "text/plain": "ham     747\nspam    747\nName: label, dtype: int64"
     },
     "execution_count": 15,
     "metadata": {},
     "output_type": "execute_result"
    }
   ]
  },
  {
   "cell_type": "code",
   "metadata": {
    "id": "WvywhmJfBSSa",
    "colab": {
     "base_uri": "https://localhost:8080/",
     "height": 206
    },
    "outputId": "ac4695dc-e3f2-4be8-8262-4a249acc4733",
    "ExecuteTime": {
     "end_time": "2023-12-14T08:13:46.612422500Z",
     "start_time": "2023-12-14T08:13:46.572167500Z"
    }
   },
   "source": [
    "data.head()"
   ],
   "execution_count": 16,
   "outputs": [
    {
     "data": {
      "text/plain": "  label                                            message  length  punct\n0   ham  E admin building there? I might b slightly ear...      86      9\n1   ham  I'm on my way home. Went to change batt 4 my w...      74      3\n2   ham  Hello, my love! How goes that day ? I wish you...     149     10\n3   ham  Was doing my test earlier. I appreciate you. W...      68      3\n4   ham  I take it the post has come then! You must hav...     151      4",
      "text/html": "<div>\n<style scoped>\n    .dataframe tbody tr th:only-of-type {\n        vertical-align: middle;\n    }\n\n    .dataframe tbody tr th {\n        vertical-align: top;\n    }\n\n    .dataframe thead th {\n        text-align: right;\n    }\n</style>\n<table border=\"1\" class=\"dataframe\">\n  <thead>\n    <tr style=\"text-align: right;\">\n      <th></th>\n      <th>label</th>\n      <th>message</th>\n      <th>length</th>\n      <th>punct</th>\n    </tr>\n  </thead>\n  <tbody>\n    <tr>\n      <th>0</th>\n      <td>ham</td>\n      <td>E admin building there? I might b slightly ear...</td>\n      <td>86</td>\n      <td>9</td>\n    </tr>\n    <tr>\n      <th>1</th>\n      <td>ham</td>\n      <td>I'm on my way home. Went to change batt 4 my w...</td>\n      <td>74</td>\n      <td>3</td>\n    </tr>\n    <tr>\n      <th>2</th>\n      <td>ham</td>\n      <td>Hello, my love! How goes that day ? I wish you...</td>\n      <td>149</td>\n      <td>10</td>\n    </tr>\n    <tr>\n      <th>3</th>\n      <td>ham</td>\n      <td>Was doing my test earlier. I appreciate you. W...</td>\n      <td>68</td>\n      <td>3</td>\n    </tr>\n    <tr>\n      <th>4</th>\n      <td>ham</td>\n      <td>I take it the post has come then! You must hav...</td>\n      <td>151</td>\n      <td>4</td>\n    </tr>\n  </tbody>\n</table>\n</div>"
     },
     "execution_count": 16,
     "metadata": {},
     "output_type": "execute_result"
    }
   ]
  },
  {
   "cell_type": "code",
   "metadata": {
    "id": "wPr5_2w7BSXf",
    "colab": {
     "base_uri": "https://localhost:8080/",
     "height": 267
    },
    "outputId": "3e6b0f85-0ebc-40cc-a6ef-f5170925956f",
    "ExecuteTime": {
     "end_time": "2023-12-14T08:13:48.090799100Z",
     "start_time": "2023-12-14T08:13:47.203938100Z"
    }
   },
   "source": [
    "plt.hist(data[data['label'] == 'ham']['length'], bins = 100, alpha = 0.7)\n",
    "plt.hist(data[data['label'] == 'spam']['length'], bins = 100, alpha = 0.7)\n",
    "plt.show()"
   ],
   "execution_count": 17,
   "outputs": [
    {
     "data": {
      "text/plain": "<Figure size 640x480 with 1 Axes>",
      "image/png": "[encoded data removed]"
     },
     "metadata": {},
     "output_type": "display_data"
    }
   ]
  },
  {
   "cell_type": "code",
   "metadata": {
    "id": "TZfCDVlGBSat",
    "colab": {
     "base_uri": "https://localhost:8080/",
     "height": 265
    },
    "outputId": "0eebc3fe-c32c-4a25-cb1f-1636eb28dc5d",
    "ExecuteTime": {
     "end_time": "2023-12-14T08:13:49.931558300Z",
     "start_time": "2023-12-14T08:13:48.981798700Z"
    }
   },
   "source": [
    "plt.hist(data[data['label'] == 'ham']['punct'], bins = 100, alpha = 0.7)\n",
    "plt.hist(data[data['label'] == 'spam']['punct'], bins = 100, alpha = 0.7)\n",
    "plt.show()"
   ],
   "execution_count": 18,
   "outputs": [
    {
     "data": {
      "text/plain": "<Figure size 640x480 with 1 Axes>",
      "image/png": "[encoded data removed]"
     },
     "metadata": {},
     "output_type": "display_data"
    }
   ]
  },
  {
   "cell_type": "code",
   "metadata": {
    "id": "0IwTAQDwBSdp",
    "colab": {
     "base_uri": "https://localhost:8080/",
     "height": 424
    },
    "outputId": "9ccac758-26c7-497e-e4da-d67da867cc83",
    "ExecuteTime": {
     "end_time": "2023-12-14T08:13:50.644687500Z",
     "start_time": "2023-12-14T08:13:50.615686600Z"
    }
   },
   "source": [
    "data"
   ],
   "execution_count": 19,
   "outputs": [
    {
     "data": {
      "text/plain": "     label                                            message  length  punct\n0      ham  E admin building there? I might b slightly ear...      86      9\n1      ham  I'm on my way home. Went to change batt 4 my w...      74      3\n2      ham  Hello, my love! How goes that day ? I wish you...     149     10\n3      ham  Was doing my test earlier. I appreciate you. W...      68      3\n4      ham  I take it the post has come then! You must hav...     151      4\n...    ...                                                ...     ...    ...\n1489  spam  Want explicit SEX in 30 secs? Ring 02073162414...      90      3\n1490  spam  ASKED 3MOBILE IF 0870 CHATLINES INCLU IN FREE ...     158      5\n1491  spam  Had your contract mobile 11 Mnths? Latest Moto...     160      8\n1492  spam  REMINDER FROM O2: To get 2.50 pounds free call...     147      3\n1493  spam  This is the 2nd time we have tried 2 contact u...     160      8\n\n[1494 rows x 4 columns]",
      "text/html": "<div>\n<style scoped>\n    .dataframe tbody tr th:only-of-type {\n        vertical-align: middle;\n    }\n\n    .dataframe tbody tr th {\n        vertical-align: top;\n    }\n\n    .dataframe thead th {\n        text-align: right;\n    }\n</style>\n<table border=\"1\" class=\"dataframe\">\n  <thead>\n    <tr style=\"text-align: right;\">\n      <th></th>\n      <th>label</th>\n      <th>message</th>\n      <th>length</th>\n      <th>punct</th>\n    </tr>\n  </thead>\n  <tbody>\n    <tr>\n      <th>0</th>\n      <td>ham</td>\n      <td>E admin building there? I might b slightly ear...</td>\n      <td>86</td>\n      <td>9</td>\n    </tr>\n    <tr>\n      <th>1</th>\n      <td>ham</td>\n      <td>I'm on my way home. Went to change batt 4 my w...</td>\n      <td>74</td>\n      <td>3</td>\n    </tr>\n    <tr>\n      <th>2</th>\n      <td>ham</td>\n      <td>Hello, my love! How goes that day ? I wish you...</td>\n      <td>149</td>\n      <td>10</td>\n    </tr>\n    <tr>\n      <th>3</th>\n      <td>ham</td>\n      <td>Was doing my test earlier. I appreciate you. W...</td>\n      <td>68</td>\n      <td>3</td>\n    </tr>\n    <tr>\n      <th>4</th>\n      <td>ham</td>\n      <td>I take it the post has come then! You must hav...</td>\n      <td>151</td>\n      <td>4</td>\n    </tr>\n    <tr>\n      <th>...</th>\n      <td>...</td>\n      <td>...</td>\n      <td>...</td>\n      <td>...</td>\n    </tr>\n    <tr>\n      <th>1489</th>\n      <td>spam</td>\n      <td>Want explicit SEX in 30 secs? Ring 02073162414...</td>\n      <td>90</td>\n      <td>3</td>\n    </tr>\n    <tr>\n      <th>1490</th>\n      <td>spam</td>\n      <td>ASKED 3MOBILE IF 0870 CHATLINES INCLU IN FREE ...</td>\n      <td>158</td>\n      <td>5</td>\n    </tr>\n    <tr>\n      <th>1491</th>\n      <td>spam</td>\n      <td>Had your contract mobile 11 Mnths? Latest Moto...</td>\n      <td>160</td>\n      <td>8</td>\n    </tr>\n    <tr>\n      <th>1492</th>\n      <td>spam</td>\n      <td>REMINDER FROM O2: To get 2.50 pounds free call...</td>\n      <td>147</td>\n      <td>3</td>\n    </tr>\n    <tr>\n      <th>1493</th>\n      <td>spam</td>\n      <td>This is the 2nd time we have tried 2 contact u...</td>\n      <td>160</td>\n      <td>8</td>\n    </tr>\n  </tbody>\n</table>\n<p>1494 rows × 4 columns</p>\n</div>"
     },
     "execution_count": 19,
     "metadata": {},
     "output_type": "execute_result"
    }
   ]
  },
  {
   "cell_type": "code",
   "metadata": {
    "id": "_bww6PL3DItc",
    "ExecuteTime": {
     "end_time": "2023-12-14T08:13:53.772954100Z",
     "start_time": "2023-12-14T08:13:51.946139300Z"
    }
   },
   "source": [
    "from sklearn.model_selection import train_test_split"
   ],
   "execution_count": 20,
   "outputs": []
  },
  {
   "cell_type": "code",
   "metadata": {
    "id": "oY-nkXfcDIyS",
    "ExecuteTime": {
     "end_time": "2023-12-14T08:13:54.374371Z",
     "start_time": "2023-12-14T08:13:54.340373Z"
    }
   },
   "source": [
    "X_train, X_test, y_train, y_test =  train_test_split(data['message'], data['label'], test_size = 0.3, random_state =0, shuffle = True)"
   ],
   "execution_count": 21,
   "outputs": []
  },
  {
   "cell_type": "code",
   "metadata": {
    "id": "w_S4XRNQDI4F",
    "colab": {
     "base_uri": "https://localhost:8080/",
     "height": 35
    },
    "outputId": "41a66949-1ab3-4379-8553-b77deb262243",
    "ExecuteTime": {
     "end_time": "2023-12-14T08:13:56.313353200Z",
     "start_time": "2023-12-14T08:13:56.294880700Z"
    }
   },
   "source": [
    "1494 * 0.3"
   ],
   "execution_count": 22,
   "outputs": [
    {
     "data": {
      "text/plain": "448.2"
     },
     "execution_count": 22,
     "metadata": {},
     "output_type": "execute_result"
    }
   ]
  },
  {
   "cell_type": "code",
   "metadata": {
    "id": "rCklJoD1DI_Y",
    "colab": {
     "base_uri": "https://localhost:8080/",
     "height": 35
    },
    "outputId": "1d59e35b-91b0-4d2b-be21-8c13deb0ccf4",
    "ExecuteTime": {
     "end_time": "2023-12-14T08:13:56.930168400Z",
     "start_time": "2023-12-14T08:13:56.881017400Z"
    }
   },
   "source": [
    "X_train.shape"
   ],
   "execution_count": 23,
   "outputs": [
    {
     "data": {
      "text/plain": "(1045,)"
     },
     "execution_count": 23,
     "metadata": {},
     "output_type": "execute_result"
    }
   ]
  },
  {
   "cell_type": "code",
   "metadata": {
    "id": "Q8fZ_ZWODJCv",
    "colab": {
     "base_uri": "https://localhost:8080/",
     "height": 35
    },
    "outputId": "21c81a6c-1c50-4ce2-e8f4-84e9a5068421",
    "ExecuteTime": {
     "end_time": "2023-12-14T08:13:57.727943100Z",
     "start_time": "2023-12-14T08:13:57.708042900Z"
    }
   },
   "source": [
    "X_test.shape"
   ],
   "execution_count": 24,
   "outputs": [
    {
     "data": {
      "text/plain": "(449,)"
     },
     "execution_count": 24,
     "metadata": {},
     "output_type": "execute_result"
    }
   ]
  },
  {
   "cell_type": "markdown",
   "metadata": {
    "id": "xEbhLqOTrk3I"
   },
   "source": [
    "# 2) Building the Model (Random Forest)"
   ]
  },
  {
   "cell_type": "code",
   "metadata": {
    "id": "ZsiDoVjULfmu",
    "ExecuteTime": {
     "end_time": "2023-12-14T08:14:03.741041600Z",
     "start_time": "2023-12-14T08:14:02.898241100Z"
    }
   },
   "source": [
    "from sklearn.feature_extraction.text import TfidfVectorizer\n",
    "from sklearn.ensemble import RandomForestClassifier\n",
    "\n",
    "from sklearn.pipeline import Pipeline"
   ],
   "execution_count": 25,
   "outputs": []
  },
  {
   "cell_type": "code",
   "metadata": {
    "id": "vfF3wNms-GyD",
    "ExecuteTime": {
     "end_time": "2023-12-14T08:14:04.270310800Z",
     "start_time": "2023-12-14T08:14:04.241320800Z"
    }
   },
   "source": [
    "classifier = Pipeline([(\"tfidf\", TfidfVectorizer()) , (\"classifier\", RandomForestClassifier(n_estimators=100))])"
   ],
   "execution_count": 26,
   "outputs": []
  },
  {
   "cell_type": "code",
   "metadata": {
    "id": "gMwmsF0EsMXq",
    "colab": {
     "base_uri": "https://localhost:8080/",
     "height": 446
    },
    "outputId": "8b320baf-5e45-41c0-d0f2-d806b9ab6598",
    "ExecuteTime": {
     "end_time": "2023-12-14T08:14:08.167239600Z",
     "start_time": "2023-12-14T08:14:06.454013500Z"
    }
   },
   "source": [
    "classifier.fit(X_train, y_train)"
   ],
   "execution_count": 27,
   "outputs": [
    {
     "data": {
      "text/plain": "Pipeline(steps=[('tfidf', TfidfVectorizer()),\n                ('classifier', RandomForestClassifier())])",
      "text/html": "<style>#sk-container-id-1 {color: black;background-color: white;}#sk-container-id-1 pre{padding: 0;}#sk-container-id-1 div.sk-toggleable {background-color: white;}#sk-container-id-1 label.sk-toggleable__label {cursor: pointer;display: block;width: 100%;margin-bottom: 0;padding: 0.3em;box-sizing: border-box;text-align: center;}#sk-container-id-1 label.sk-toggleable__label-arrow:before {content: \"▸\";float: left;margin-right: 0.25em;color: #696969;}#sk-container-id-1 label.sk-toggleable__label-arrow:hover:before {color: black;}#sk-container-id-1 div.sk-estimator:hover label.sk-toggleable__label-arrow:before {color: black;}#sk-container-id-1 div.sk-toggleable__content {max-height: 0;max-width: 0;overflow: hidden;text-align: left;background-color: #f0f8ff;}#sk-container-id-1 div.sk-toggleable__content pre {margin: 0.2em;color: black;border-radius: 0.25em;background-color: #f0f8ff;}#sk-container-id-1 input.sk-toggleable__control:checked~div.sk-toggleable__content {max-height: 200px;max-width: 100%;overflow: auto;}#sk-container-id-1 input.sk-toggleable__control:checked~label.sk-toggleable__label-arrow:before {content: \"▾\";}#sk-container-id-1 div.sk-estimator input.sk-toggleable__control:checked~label.sk-toggleable__label {background-color: #d4ebff;}#sk-container-id-1 div.sk-label input.sk-toggleable__control:checked~label.sk-toggleable__label {background-color: #d4ebff;}#sk-container-id-1 input.sk-hidden--visually {border: 0;clip: rect(1px 1px 1px 1px);clip: rect(1px, 1px, 1px, 1px);height: 1px;margin: -1px;overflow: hidden;padding: 0;position: absolute;width: 1px;}#sk-container-id-1 div.sk-estimator {font-family: monospace;background-color: #f0f8ff;border: 1px dotted black;border-radius: 0.25em;box-sizing: border-box;margin-bottom: 0.5em;}#sk-container-id-1 div.sk-estimator:hover {background-color: #d4ebff;}#sk-container-id-1 div.sk-parallel-item::after {content: \"\";width: 100%;border-bottom: 1px solid gray;flex-grow: 1;}#sk-container-id-1 div.sk-label:hover label.sk-toggleable__label {background-color: #d4ebff;}#sk-container-id-1 div.sk-serial::before {content: \"\";position: absolute;border-left: 1px solid gray;box-sizing: border-box;top: 0;bottom: 0;left: 50%;z-index: 0;}#sk-container-id-1 div.sk-serial {display: flex;flex-direction: column;align-items: center;background-color: white;padding-right: 0.2em;padding-left: 0.2em;position: relative;}#sk-container-id-1 div.sk-item {position: relative;z-index: 1;}#sk-container-id-1 div.sk-parallel {display: flex;align-items: stretch;justify-content: center;background-color: white;position: relative;}#sk-container-id-1 div.sk-item::before, #sk-container-id-1 div.sk-parallel-item::before {content: \"\";position: absolute;border-left: 1px solid gray;box-sizing: border-box;top: 0;bottom: 0;left: 50%;z-index: -1;}#sk-container-id-1 div.sk-parallel-item {display: flex;flex-direction: column;z-index: 1;position: relative;background-color: white;}#sk-container-id-1 div.sk-parallel-item:first-child::after {align-self: flex-end;width: 50%;}#sk-container-id-1 div.sk-parallel-item:last-child::after {align-self: flex-start;width: 50%;}#sk-container-id-1 div.sk-parallel-item:only-child::after {width: 0;}#sk-container-id-1 div.sk-dashed-wrapped {border: 1px dashed gray;margin: 0 0.4em 0.5em 0.4em;box-sizing: border-box;padding-bottom: 0.4em;background-color: white;}#sk-container-id-1 div.sk-label label {font-family: monospace;font-weight: bold;display: inline-block;line-height: 1.2em;}#sk-container-id-1 div.sk-label-container {text-align: center;}#sk-container-id-1 div.sk-container {/* jupyter's `normalize.less` sets `[hidden] { display: none; }` but bootstrap.min.css set `[hidden] { display: none !important; }` so we also need the `!important` here to be able to override the default hidden behavior on the sphinx rendered scikit-learn.org. See: https://github.com/scikit-learn/scikit-learn/issues/21755 */display: inline-block !important;position: relative;}#sk-container-id-1 div.sk-text-repr-fallback {display: none;}</style><div id=\"sk-container-id-1\" class=\"sk-top-container\"><div class=\"sk-text-repr-fallback\"><pre>Pipeline(steps=[(&#x27;tfidf&#x27;, TfidfVectorizer()),\n                (&#x27;classifier&#x27;, RandomForestClassifier())])</pre><b>In a Jupyter environment, please rerun this cell to show the HTML representation or trust the notebook. <br />On GitHub, the HTML representation is unable to render, please try loading this page with nbviewer.org.</b></div><div class=\"sk-container\" hidden><div class=\"sk-item sk-dashed-wrapped\"><div class=\"sk-label-container\"><div class=\"sk-label sk-toggleable\"><input class=\"sk-toggleable__control sk-hidden--visually\" id=\"sk-estimator-id-1\" type=\"checkbox\" ><label for=\"sk-estimator-id-1\" class=\"sk-toggleable__label sk-toggleable__label-arrow\">Pipeline</label><div class=\"sk-toggleable__content\"><pre>Pipeline(steps=[(&#x27;tfidf&#x27;, TfidfVectorizer()),\n                (&#x27;classifier&#x27;, RandomForestClassifier())])</pre></div></div></div><div class=\"sk-serial\"><div class=\"sk-item\"><div class=\"sk-estimator sk-toggleable\"><input class=\"sk-toggleable__control sk-hidden--visually\" id=\"sk-estimator-id-2\" type=\"checkbox\" ><label for=\"sk-estimator-id-2\" class=\"sk-toggleable__label sk-toggleable__label-arrow\">TfidfVectorizer</label><div class=\"sk-toggleable__content\"><pre>TfidfVectorizer()</pre></div></div></div><div class=\"sk-item\"><div class=\"sk-estimator sk-toggleable\"><input class=\"sk-toggleable__control sk-hidden--visually\" id=\"sk-estimator-id-3\" type=\"checkbox\" ><label for=\"sk-estimator-id-3\" class=\"sk-toggleable__label sk-toggleable__label-arrow\">RandomForestClassifier</label><div class=\"sk-toggleable__content\"><pre>RandomForestClassifier()</pre></div></div></div></div></div></div></div>"
     },
     "execution_count": 27,
     "metadata": {},
     "output_type": "execute_result"
    }
   ]
  },
  {
   "cell_type": "markdown",
   "metadata": {
    "id": "XNJ_wmTkrrmG"
   },
   "source": [
    "# 3) Predicting the results (Random Forest)"
   ]
  },
  {
   "cell_type": "code",
   "metadata": {
    "id": "EyBoviLzsM8-",
    "ExecuteTime": {
     "end_time": "2023-12-14T08:14:11.089410800Z",
     "start_time": "2023-12-14T08:14:11.045442800Z"
    }
   },
   "source": [
    "y_pred = classifier.predict(X_test)"
   ],
   "execution_count": 28,
   "outputs": []
  },
  {
   "cell_type": "code",
   "metadata": {
    "id": "Z--M72FHMnt_",
    "ExecuteTime": {
     "end_time": "2023-12-14T08:14:13.541514Z",
     "start_time": "2023-12-14T08:14:13.512678200Z"
    }
   },
   "source": [
    "y_test, y_pred"
   ],
   "execution_count": 29,
   "outputs": [
    {
     "data": {
      "text/plain": "(799     spam\n 1047    spam\n 1436    spam\n 54       ham\n 793     spam\n         ... \n 824     spam\n 822     spam\n 644      ham\n 1034    spam\n 1356    spam\n Name: label, Length: 449, dtype: object,\n array(['spam', 'spam', 'spam', 'ham', 'spam', 'spam', 'ham', 'ham', 'ham',\n        'ham', 'spam', 'ham', 'ham', 'spam', 'spam', 'spam', 'spam', 'ham',\n        'ham', 'spam', 'spam', 'ham', 'spam', 'spam', 'ham', 'spam', 'ham',\n        'ham', 'spam', 'ham', 'ham', 'spam', 'spam', 'spam', 'spam',\n        'spam', 'ham', 'ham', 'ham', 'ham', 'spam', 'ham', 'spam', 'ham',\n        'ham', 'spam', 'ham', 'ham', 'spam', 'ham', 'ham', 'ham', 'ham',\n        'spam', 'spam', 'spam', 'ham', 'ham', 'spam', 'ham', 'ham', 'ham',\n        'ham', 'spam', 'spam', 'ham', 'ham', 'ham', 'spam', 'spam', 'spam',\n        'spam', 'spam', 'ham', 'ham', 'spam', 'spam', 'ham', 'ham', 'ham',\n        'spam', 'ham', 'ham', 'ham', 'ham', 'spam', 'spam', 'ham', 'spam',\n        'ham', 'ham', 'spam', 'ham', 'ham', 'spam', 'spam', 'spam', 'ham',\n        'ham', 'ham', 'spam', 'ham', 'ham', 'spam', 'ham', 'ham', 'ham',\n        'ham', 'spam', 'spam', 'spam', 'ham', 'ham', 'ham', 'ham', 'spam',\n        'spam', 'ham', 'spam', 'ham', 'ham', 'ham', 'ham', 'ham', 'ham',\n        'ham', 'ham', 'ham', 'spam', 'spam', 'ham', 'spam', 'spam', 'ham',\n        'spam', 'spam', 'spam', 'spam', 'spam', 'spam', 'ham', 'ham',\n        'ham', 'ham', 'ham', 'spam', 'spam', 'spam', 'ham', 'spam', 'ham',\n        'spam', 'ham', 'spam', 'ham', 'ham', 'spam', 'ham', 'ham', 'ham',\n        'ham', 'ham', 'ham', 'spam', 'spam', 'ham', 'ham', 'ham', 'ham',\n        'ham', 'ham', 'spam', 'spam', 'ham', 'spam', 'ham', 'spam', 'ham',\n        'ham', 'ham', 'spam', 'ham', 'spam', 'spam', 'spam', 'spam',\n        'spam', 'ham', 'ham', 'ham', 'ham', 'ham', 'ham', 'ham', 'ham',\n        'spam', 'ham', 'spam', 'spam', 'spam', 'ham', 'spam', 'ham', 'ham',\n        'spam', 'ham', 'spam', 'spam', 'spam', 'spam', 'ham', 'ham', 'ham',\n        'ham', 'ham', 'ham', 'ham', 'spam', 'spam', 'spam', 'ham', 'ham',\n        'spam', 'spam', 'ham', 'ham', 'spam', 'ham', 'spam', 'spam', 'ham',\n        'ham', 'ham', 'spam', 'spam', 'spam', 'spam', 'spam', 'ham',\n        'spam', 'spam', 'spam', 'ham', 'ham', 'spam', 'spam', 'ham', 'ham',\n        'ham', 'spam', 'spam', 'ham', 'ham', 'ham', 'ham', 'spam', 'spam',\n        'ham', 'ham', 'spam', 'ham', 'spam', 'spam', 'ham', 'spam', 'ham',\n        'ham', 'spam', 'ham', 'spam', 'ham', 'ham', 'spam', 'ham', 'spam',\n        'spam', 'spam', 'ham', 'spam', 'ham', 'spam', 'spam', 'ham',\n        'spam', 'ham', 'spam', 'spam', 'ham', 'spam', 'spam', 'spam',\n        'ham', 'spam', 'spam', 'ham', 'ham', 'spam', 'ham', 'ham', 'ham',\n        'spam', 'spam', 'spam', 'ham', 'ham', 'ham', 'ham', 'ham', 'spam',\n        'spam', 'ham', 'ham', 'spam', 'spam', 'spam', 'spam', 'ham',\n        'spam', 'spam', 'spam', 'ham', 'ham', 'ham', 'ham', 'spam', 'ham',\n        'ham', 'spam', 'spam', 'ham', 'spam', 'ham', 'spam', 'ham', 'ham',\n        'ham', 'spam', 'ham', 'spam', 'ham', 'spam', 'ham', 'spam', 'spam',\n        'spam', 'ham', 'ham', 'spam', 'spam', 'ham', 'ham', 'spam', 'spam',\n        'ham', 'ham', 'ham', 'ham', 'spam', 'ham', 'ham', 'ham', 'spam',\n        'ham', 'spam', 'spam', 'spam', 'spam', 'ham', 'ham', 'ham', 'ham',\n        'ham', 'ham', 'spam', 'ham', 'ham', 'ham', 'spam', 'spam', 'ham',\n        'ham', 'ham', 'spam', 'spam', 'ham', 'spam', 'spam', 'spam', 'ham',\n        'ham', 'spam', 'ham', 'ham', 'spam', 'ham', 'spam', 'ham', 'ham',\n        'spam', 'ham', 'ham', 'spam', 'ham', 'ham', 'spam', 'ham', 'ham',\n        'spam', 'spam', 'ham', 'ham', 'spam', 'spam', 'ham', 'ham', 'spam',\n        'spam', 'spam', 'ham', 'ham', 'ham', 'spam', 'spam', 'ham', 'spam',\n        'ham', 'ham', 'ham', 'ham', 'spam', 'spam', 'ham', 'spam', 'ham',\n        'spam', 'ham', 'ham', 'spam', 'ham', 'spam', 'spam', 'spam', 'ham',\n        'spam', 'ham', 'spam', 'ham', 'spam', 'spam'], dtype=object))"
     },
     "execution_count": 29,
     "metadata": {},
     "output_type": "execute_result"
    }
   ]
  },
  {
   "cell_type": "code",
   "metadata": {
    "id": "R88_ZgwlMnyN",
    "ExecuteTime": {
     "end_time": "2023-12-14T08:14:14.374551700Z",
     "start_time": "2023-12-14T08:14:14.363551100Z"
    }
   },
   "source": [
    "from sklearn.metrics import classification_report, accuracy_score, confusion_matrix"
   ],
   "execution_count": 30,
   "outputs": []
  },
  {
   "cell_type": "code",
   "metadata": {
    "id": "gakKmcz0Mn2_",
    "colab": {
     "base_uri": "https://localhost:8080/",
     "height": 35
    },
    "outputId": "5788e626-9dfd-4157-e0b4-bf9af9de489d",
    "ExecuteTime": {
     "end_time": "2023-12-14T08:14:15.483357300Z",
     "start_time": "2023-12-14T08:14:15.473358300Z"
    }
   },
   "source": [
    "accuracy_score(y_test, y_pred)"
   ],
   "execution_count": 31,
   "outputs": [
    {
     "data": {
      "text/plain": "0.9510022271714922"
     },
     "execution_count": 31,
     "metadata": {},
     "output_type": "execute_result"
    }
   ]
  },
  {
   "cell_type": "code",
   "metadata": {
    "id": "kEu1nHreNTXG",
    "colab": {
     "base_uri": "https://localhost:8080/",
     "height": 35
    },
    "outputId": "cd518e81-2827-4bb5-ab4e-164b40718e5b",
    "ExecuteTime": {
     "end_time": "2023-12-14T08:14:16.515601600Z",
     "start_time": "2023-12-14T08:14:16.499597700Z"
    }
   },
   "source": [
    "0.9465478841870824 * 449"
   ],
   "execution_count": 32,
   "outputs": [
    {
     "data": {
      "text/plain": "425.0"
     },
     "execution_count": 32,
     "metadata": {},
     "output_type": "execute_result"
    }
   ]
  },
  {
   "cell_type": "code",
   "metadata": {
    "id": "5cXGTGRCNTa1",
    "colab": {
     "base_uri": "https://localhost:8080/",
     "height": 53
    },
    "outputId": "ead64dcb-dc81-4c30-80ed-7b0775823237",
    "ExecuteTime": {
     "end_time": "2023-12-14T08:14:17.281188400Z",
     "start_time": "2023-12-14T08:14:17.268188500Z"
    }
   },
   "source": [
    "confusion_matrix(y_test, y_pred)"
   ],
   "execution_count": 33,
   "outputs": [
    {
     "data": {
      "text/plain": "array([[224,   3],\n       [ 19, 203]], dtype=int64)"
     },
     "execution_count": 33,
     "metadata": {},
     "output_type": "execute_result"
    }
   ]
  },
  {
   "cell_type": "code",
   "metadata": {
    "id": "EruJr1_oNThS",
    "colab": {
     "base_uri": "https://localhost:8080/",
     "height": 178
    },
    "outputId": "63a11aa6-c66f-4872-9ed9-47a6abf5793a",
    "ExecuteTime": {
     "end_time": "2023-12-14T08:14:18.034340300Z",
     "start_time": "2023-12-14T08:14:18.005124500Z"
    }
   },
   "source": [
    "print(classification_report(y_test, y_pred))"
   ],
   "execution_count": 34,
   "outputs": [
    {
     "name": "stdout",
     "output_type": "stream",
     "text": [
      "              precision    recall  f1-score   support\n",
      "\n",
      "         ham       0.92      0.99      0.95       227\n",
      "        spam       0.99      0.91      0.95       222\n",
      "\n",
      "    accuracy                           0.95       449\n",
      "   macro avg       0.95      0.95      0.95       449\n",
      "weighted avg       0.95      0.95      0.95       449\n"
     ]
    }
   ]
  },
  {
   "cell_type": "code",
   "metadata": {
    "id": "4IbhbSBGMn7W",
    "ExecuteTime": {
     "end_time": "2023-12-14T08:14:19.726647900Z",
     "start_time": "2023-12-14T08:14:19.710646600Z"
    }
   },
   "source": [],
   "execution_count": 34,
   "outputs": []
  },
  {
   "cell_type": "markdown",
   "metadata": {
    "id": "zD61iFOLrtRe"
   },
   "source": [
    "# 4) Building the Model (SVM)"
   ]
  },
  {
   "cell_type": "code",
   "metadata": {
    "id": "26d3SIzksNaY",
    "ExecuteTime": {
     "end_time": "2023-12-14T08:14:21.592641900Z",
     "start_time": "2023-12-14T08:14:21.573556900Z"
    }
   },
   "source": [
    "from sklearn.svm import SVC"
   ],
   "execution_count": 35,
   "outputs": []
  },
  {
   "cell_type": "code",
   "metadata": {
    "id": "6CDia023OaZq",
    "ExecuteTime": {
     "end_time": "2023-12-14T08:14:25.031414900Z",
     "start_time": "2023-12-14T08:14:25.000039300Z"
    }
   },
   "source": [
    "svm = Pipeline([(\"tfidf\", TfidfVectorizer()) , (\"classifier\", SVC(C = 100, gamma='auto'))])"
   ],
   "execution_count": 36,
   "outputs": []
  },
  {
   "cell_type": "code",
   "metadata": {
    "id": "0chJpfJ5O8wD",
    "colab": {
     "base_uri": "https://localhost:8080/",
     "height": 392
    },
    "outputId": "c9de9043-f5df-47fc-b885-459f764b31e7",
    "ExecuteTime": {
     "end_time": "2023-12-14T08:14:26.643589600Z",
     "start_time": "2023-12-14T08:14:26.192633200Z"
    }
   },
   "source": [
    "svm.fit(X_train, y_train)"
   ],
   "execution_count": 37,
   "outputs": [
    {
     "data": {
      "text/plain": "Pipeline(steps=[('tfidf', TfidfVectorizer()),\n                ('classifier', SVC(C=100, gamma='auto'))])",
      "text/html": "<style>#sk-container-id-2 {color: black;background-color: white;}#sk-container-id-2 pre{padding: 0;}#sk-container-id-2 div.sk-toggleable {background-color: white;}#sk-container-id-2 label.sk-toggleable__label {cursor: pointer;display: block;width: 100%;margin-bottom: 0;padding: 0.3em;box-sizing: border-box;text-align: center;}#sk-container-id-2 label.sk-toggleable__label-arrow:before {content: \"▸\";float: left;margin-right: 0.25em;color: #696969;}#sk-container-id-2 label.sk-toggleable__label-arrow:hover:before {color: black;}#sk-container-id-2 div.sk-estimator:hover label.sk-toggleable__label-arrow:before {color: black;}#sk-container-id-2 div.sk-toggleable__content {max-height: 0;max-width: 0;overflow: hidden;text-align: left;background-color: #f0f8ff;}#sk-container-id-2 div.sk-toggleable__content pre {margin: 0.2em;color: black;border-radius: 0.25em;background-color: #f0f8ff;}#sk-container-id-2 input.sk-toggleable__control:checked~div.sk-toggleable__content {max-height: 200px;max-width: 100%;overflow: auto;}#sk-container-id-2 input.sk-toggleable__control:checked~label.sk-toggleable__label-arrow:before {content: \"▾\";}#sk-container-id-2 div.sk-estimator input.sk-toggleable__control:checked~label.sk-toggleable__label {background-color: #d4ebff;}#sk-container-id-2 div.sk-label input.sk-toggleable__control:checked~label.sk-toggleable__label {background-color: #d4ebff;}#sk-container-id-2 input.sk-hidden--visually {border: 0;clip: rect(1px 1px 1px 1px);clip: rect(1px, 1px, 1px, 1px);height: 1px;margin: -1px;overflow: hidden;padding: 0;position: absolute;width: 1px;}#sk-container-id-2 div.sk-estimator {font-family: monospace;background-color: #f0f8ff;border: 1px dotted black;border-radius: 0.25em;box-sizing: border-box;margin-bottom: 0.5em;}#sk-container-id-2 div.sk-estimator:hover {background-color: #d4ebff;}#sk-container-id-2 div.sk-parallel-item::after {content: \"\";width: 100%;border-bottom: 1px solid gray;flex-grow: 1;}#sk-container-id-2 div.sk-label:hover label.sk-toggleable__label {background-color: #d4ebff;}#sk-container-id-2 div.sk-serial::before {content: \"\";position: absolute;border-left: 1px solid gray;box-sizing: border-box;top: 0;bottom: 0;left: 50%;z-index: 0;}#sk-container-id-2 div.sk-serial {display: flex;flex-direction: column;align-items: center;background-color: white;padding-right: 0.2em;padding-left: 0.2em;position: relative;}#sk-container-id-2 div.sk-item {position: relative;z-index: 1;}#sk-container-id-2 div.sk-parallel {display: flex;align-items: stretch;justify-content: center;background-color: white;position: relative;}#sk-container-id-2 div.sk-item::before, #sk-container-id-2 div.sk-parallel-item::before {content: \"\";position: absolute;border-left: 1px solid gray;box-sizing: border-box;top: 0;bottom: 0;left: 50%;z-index: -1;}#sk-container-id-2 div.sk-parallel-item {display: flex;flex-direction: column;z-index: 1;position: relative;background-color: white;}#sk-container-id-2 div.sk-parallel-item:first-child::after {align-self: flex-end;width: 50%;}#sk-container-id-2 div.sk-parallel-item:last-child::after {align-self: flex-start;width: 50%;}#sk-container-id-2 div.sk-parallel-item:only-child::after {width: 0;}#sk-container-id-2 div.sk-dashed-wrapped {border: 1px dashed gray;margin: 0 0.4em 0.5em 0.4em;box-sizing: border-box;padding-bottom: 0.4em;background-color: white;}#sk-container-id-2 div.sk-label label {font-family: monospace;font-weight: bold;display: inline-block;line-height: 1.2em;}#sk-container-id-2 div.sk-label-container {text-align: center;}#sk-container-id-2 div.sk-container {/* jupyter's `normalize.less` sets `[hidden] { display: none; }` but bootstrap.min.css set `[hidden] { display: none !important; }` so we also need the `!important` here to be able to override the default hidden behavior on the sphinx rendered scikit-learn.org. See: https://github.com/scikit-learn/scikit-learn/issues/21755 */display: inline-block !important;position: relative;}#sk-container-id-2 div.sk-text-repr-fallback {display: none;}</style><div id=\"sk-container-id-2\" class=\"sk-top-container\"><div class=\"sk-text-repr-fallback\"><pre>Pipeline(steps=[(&#x27;tfidf&#x27;, TfidfVectorizer()),\n                (&#x27;classifier&#x27;, SVC(C=100, gamma=&#x27;auto&#x27;))])</pre><b>In a Jupyter environment, please rerun this cell to show the HTML representation or trust the notebook. <br />On GitHub, the HTML representation is unable to render, please try loading this page with nbviewer.org.</b></div><div class=\"sk-container\" hidden><div class=\"sk-item sk-dashed-wrapped\"><div class=\"sk-label-container\"><div class=\"sk-label sk-toggleable\"><input class=\"sk-toggleable__control sk-hidden--visually\" id=\"sk-estimator-id-4\" type=\"checkbox\" ><label for=\"sk-estimator-id-4\" class=\"sk-toggleable__label sk-toggleable__label-arrow\">Pipeline</label><div class=\"sk-toggleable__content\"><pre>Pipeline(steps=[(&#x27;tfidf&#x27;, TfidfVectorizer()),\n                (&#x27;classifier&#x27;, SVC(C=100, gamma=&#x27;auto&#x27;))])</pre></div></div></div><div class=\"sk-serial\"><div class=\"sk-item\"><div class=\"sk-estimator sk-toggleable\"><input class=\"sk-toggleable__control sk-hidden--visually\" id=\"sk-estimator-id-5\" type=\"checkbox\" ><label for=\"sk-estimator-id-5\" class=\"sk-toggleable__label sk-toggleable__label-arrow\">TfidfVectorizer</label><div class=\"sk-toggleable__content\"><pre>TfidfVectorizer()</pre></div></div></div><div class=\"sk-item\"><div class=\"sk-estimator sk-toggleable\"><input class=\"sk-toggleable__control sk-hidden--visually\" id=\"sk-estimator-id-6\" type=\"checkbox\" ><label for=\"sk-estimator-id-6\" class=\"sk-toggleable__label sk-toggleable__label-arrow\">SVC</label><div class=\"sk-toggleable__content\"><pre>SVC(C=100, gamma=&#x27;auto&#x27;)</pre></div></div></div></div></div></div></div>"
     },
     "execution_count": 37,
     "metadata": {},
     "output_type": "execute_result"
    }
   ]
  },
  {
   "cell_type": "markdown",
   "metadata": {
    "id": "nhYvi4SWrthe"
   },
   "source": [
    "# 5) Predicting the results (SVM)"
   ]
  },
  {
   "cell_type": "code",
   "metadata": {
    "id": "fLz_o_bSsFRF",
    "ExecuteTime": {
     "end_time": "2023-12-14T08:14:29.711185900Z",
     "start_time": "2023-12-14T08:14:29.566953200Z"
    }
   },
   "source": [
    "y_pred = svm.predict(X_test)"
   ],
   "execution_count": 38,
   "outputs": []
  },
  {
   "cell_type": "code",
   "metadata": {
    "id": "d2eGY7rXPKHX",
    "colab": {
     "base_uri": "https://localhost:8080/",
     "height": 35
    },
    "outputId": "dea62ae5-f669-4d66-92d8-914cff30d4d7",
    "ExecuteTime": {
     "end_time": "2023-12-14T08:14:30.452115800Z",
     "start_time": "2023-12-14T08:14:30.422985300Z"
    }
   },
   "source": [
    "accuracy_score(y_test, y_pred)"
   ],
   "execution_count": 39,
   "outputs": [
    {
     "data": {
      "text/plain": "0.955456570155902"
     },
     "execution_count": 39,
     "metadata": {},
     "output_type": "execute_result"
    }
   ]
  },
  {
   "cell_type": "code",
   "metadata": {
    "id": "nDsC-IgXPTlX",
    "colab": {
     "base_uri": "https://localhost:8080/",
     "height": 53
    },
    "outputId": "a80dc4b3-ca55-4cd5-f5cc-fd8ccf4a6d4a",
    "ExecuteTime": {
     "end_time": "2023-12-14T08:14:31.182137Z",
     "start_time": "2023-12-14T08:14:31.161092100Z"
    }
   },
   "source": [
    "confusion_matrix(y_test, y_pred)"
   ],
   "execution_count": 40,
   "outputs": [
    {
     "data": {
      "text/plain": "array([[223,   4],\n       [ 16, 206]], dtype=int64)"
     },
     "execution_count": 40,
     "metadata": {},
     "output_type": "execute_result"
    }
   ]
  },
  {
   "cell_type": "code",
   "metadata": {
    "id": "tmK6jvLHPZUy",
    "colab": {
     "base_uri": "https://localhost:8080/",
     "height": 178
    },
    "outputId": "82438ef9-5831-4cb7-f7e9-9703dbfe27e2",
    "ExecuteTime": {
     "end_time": "2023-12-14T08:14:31.872129400Z",
     "start_time": "2023-12-14T08:14:31.841391400Z"
    }
   },
   "source": [
    "print(classification_report(y_test, y_pred))"
   ],
   "execution_count": 41,
   "outputs": [
    {
     "name": "stdout",
     "output_type": "stream",
     "text": [
      "              precision    recall  f1-score   support\n",
      "\n",
      "         ham       0.93      0.98      0.96       227\n",
      "        spam       0.98      0.93      0.95       222\n",
      "\n",
      "    accuracy                           0.96       449\n",
      "   macro avg       0.96      0.96      0.96       449\n",
      "weighted avg       0.96      0.96      0.96       449\n"
     ]
    }
   ]
  },
  {
   "cell_type": "code",
   "metadata": {
    "id": "o-ZatWhQPv-R",
    "ExecuteTime": {
     "end_time": "2023-12-14T08:14:32.808426400Z",
     "start_time": "2023-12-14T08:14:32.789426500Z"
    }
   },
   "source": [],
   "execution_count": 41,
   "outputs": []
  },
  {
   "cell_type": "code",
   "metadata": {
    "id": "2E2owfiyPwCA",
    "ExecuteTime": {
     "end_time": "2023-12-14T08:14:33.496347600Z",
     "start_time": "2023-12-14T08:14:33.481346900Z"
    }
   },
   "source": [
    "test1 = ['Hello, You are learning natural Language Processing']\n",
    "test2 = ['Hope you are doing good and learning new things !']\n",
    "test3 = ['Congratulations, You won a lottery ticket worth $1 Million ! To claim call on 446677']"
   ],
   "execution_count": 42,
   "outputs": []
  },
  {
   "cell_type": "code",
   "metadata": {
    "id": "Tkx2Nu62QNMO",
    "colab": {
     "base_uri": "https://localhost:8080/",
     "height": 71
    },
    "outputId": "3e91ffbd-7c69-4fc6-fa70-6f30a0909a8a",
    "ExecuteTime": {
     "end_time": "2023-12-14T08:14:35.109944200Z",
     "start_time": "2023-12-14T08:14:35.062945600Z"
    }
   },
   "source": [
    "print(classifier.predict(test1))\n",
    "print(classifier.predict(test2))\n",
    "print(classifier.predict(test3))"
   ],
   "execution_count": 43,
   "outputs": [
    {
     "name": "stdout",
     "output_type": "stream",
     "text": [
      "['ham']\n",
      "['ham']\n",
      "['spam']\n"
     ]
    }
   ]
  },
  {
   "cell_type": "code",
   "metadata": {
    "id": "WJQCX7CPQTD3",
    "colab": {
     "base_uri": "https://localhost:8080/",
     "height": 71
    },
    "outputId": "ce5a83e4-d829-4923-bbef-897f8521d460",
    "ExecuteTime": {
     "end_time": "2023-12-14T08:14:35.940878800Z",
     "start_time": "2023-12-14T08:14:35.893882700Z"
    }
   },
   "source": [
    "print(svm.predict(test1))\n",
    "print(svm.predict(test2))\n",
    "print(svm.predict(test3))"
   ],
   "execution_count": 44,
   "outputs": [
    {
     "name": "stdout",
     "output_type": "stream",
     "text": [
      "['ham']\n",
      "['ham']\n",
      "['spam']\n"
     ]
    }
   ]
  },
  {
   "cell_type": "code",
   "execution_count": null,
   "outputs": [],
   "source": [],
   "metadata": {
    "collapsed": false
   }
  }
 ]
}
