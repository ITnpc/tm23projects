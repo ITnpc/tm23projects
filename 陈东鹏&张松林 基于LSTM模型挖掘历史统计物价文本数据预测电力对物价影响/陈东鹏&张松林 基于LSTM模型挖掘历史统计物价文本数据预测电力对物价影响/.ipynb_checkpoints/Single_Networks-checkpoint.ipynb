{
 "cells": [
  {
   "cell_type": "code",
   "execution_count": 37,
   "metadata": {},
   "outputs": [],
   "source": [
    "import numpy as np\n",
    "import pylab as plt  # matplotlib的一个子包\n",
    "from math import sqrt\n",
    "from sklearn.preprocessing import MinMaxScaler\n",
    "from sklearn.metrics import mean_squared_error\n",
    "from utils.py import data_tools, networks_factory, data_metrics\n",
    "from utils.py.constants import const\n",
    "%matplotlib inline"
   ]
  },
  {
   "cell_type": "code",
   "execution_count": 38,
   "metadata": {},
   "outputs": [],
   "source": [
    "# fix random seed for reproducibility\n",
    "seed = 7\n",
    "np.random.seed(seed)"
   ]
  },
  {
   "cell_type": "markdown",
   "metadata": {},
   "source": [
    "# 导入数据"
   ]
  },
  {
   "cell_type": "code",
   "execution_count": 39,
   "metadata": {},
   "outputs": [
    {
     "name": "stdout",
     "output_type": "stream",
     "text": [
      "# shape:  (1671, 1)\n",
      "[[21.  ]\n",
      " [21.  ]\n",
      " [21.  ]\n",
      " ...\n",
      " [16.2 ]\n",
      " [16.75]\n",
      " [17.3 ]]\n"
     ]
    }
   ],
   "source": [
    "dataset = data_tools.load_data_from_csv(const.FILENAME_PIG)\n",
    "print(\"# shape: \", dataset.shape)\n",
    "print(dataset)"
   ]
  },
  {
   "cell_type": "markdown",
   "metadata": {},
   "source": [
    "## normalize features: (0,1) or (-1,1), think of Relu"
   ]
  },
  {
   "cell_type": "code",
   "execution_count": 40,
   "metadata": {},
   "outputs": [],
   "source": [
    "# normalize features\n",
    "scaler = MinMaxScaler(feature_range=(0, 1))\n",
    "scaled_dataset = scaler.fit_transform(dataset)"
   ]
  },
  {
   "cell_type": "code",
   "execution_count": 41,
   "metadata": {},
   "outputs": [
    {
     "name": "stdout",
     "output_type": "stream",
     "text": [
      "# shape:  (1641, 30)\n",
      "# shape:  (1641, 1)\n"
     ]
    }
   ],
   "source": [
    "# reshape into X=t and Y=t+1\n",
    "look_back = const.LOOK_BACK\n",
    "dataX, dataY = data_tools.create_dataset(scaled_dataset, look_back)\n",
    "dataY = dataY.reshape((len(dataY), 1))  # to be two dims for inverse_transform\n",
    "print(\"# shape: \", dataX.shape)  # lenth 应等于 len(dataset)-look_back\n",
    "print(\"# shape: \", dataY.shape)"
   ]
  },
  {
   "cell_type": "markdown",
   "metadata": {},
   "source": [
    "## train & test set"
   ]
  },
  {
   "cell_type": "code",
   "execution_count": 42,
   "metadata": {},
   "outputs": [
    {
     "name": "stdout",
     "output_type": "stream",
     "text": [
      "# lenth:  1312 329\n",
      "True\n"
     ]
    }
   ],
   "source": [
    "train_size = int(len(dataX) * const.TRAIN_SCALE)\n",
    "test_size = len(dataX) - train_size\n",
    "trainX, testX = dataX[0:train_size,:], dataX[train_size:len(dataset),:]\n",
    "trainY, testY = dataY[0:train_size,:], dataY[train_size:len(dataset),:]\n",
    "print(\"# lenth: \", len(trainX), len(testX))\n",
    "print(len(dataX) == len(trainX)+len(testX))"
   ]
  },
  {
   "cell_type": "markdown",
   "metadata": {},
   "source": [
    "# BP"
   ]
  },
  {
   "cell_type": "code",
   "execution_count": 43,
   "metadata": {},
   "outputs": [
    {
     "name": "stdout",
     "output_type": "stream",
     "text": [
      "-----------neural_nets_flag: BP--------------\n"
     ]
    },
    {
     "name": "stderr",
     "output_type": "stream",
     "text": [
      "C:\\Users\\demo\\workplace\\Time-Series-Prediction-with-LSTM\\utils\\py\\networks_factory.py:33: UserWarning: Update your `Dense` call to the Keras 2 API: `Dense(32, input_dim=30, activation=\"relu\", kernel_initializer=\"uniform\")`\n",
      "  model.add(Dense(hidden_neurons, input_dim=dims, init='uniform', activation='relu'))\n",
      "C:\\Users\\demo\\workplace\\Time-Series-Prediction-with-LSTM\\utils\\py\\networks_factory.py:34: UserWarning: Update your `Dense` call to the Keras 2 API: `Dense(32, activation=\"relu\", kernel_initializer=\"uniform\")`\n",
      "  model.add(Dense(hidden_neurons, init='uniform', activation='relu'))\n",
      "C:\\Users\\demo\\workplace\\Time-Series-Prediction-with-LSTM\\utils\\py\\networks_factory.py:35: UserWarning: Update your `Dense` call to the Keras 2 API: `Dense(1, kernel_initializer=\"uniform\")`\n",
      "  model.add(Dense(n_out, init='uniform'))  # notice: activation=sigmoid,(0,1)\n",
      "C:\\Users\\demo\\Anaconda3\\envs\\tensorflow\\lib\\site-packages\\ipykernel_launcher.py:8: UserWarning: The `nb_epoch` argument in `fit` has been renamed `epochs`.\n",
      "  \n"
     ]
    },
    {
     "name": "stdout",
     "output_type": "stream",
     "text": [
      "# Finished Training...\n"
     ]
    }
   ],
   "source": [
    "n_dims = look_back\n",
    "# create model\n",
    "s, model = networks_factory.create_bp_model(hidden_neurons=32, dims=n_dims, n_out=1)\n",
    "# Compile model\n",
    "model.compile(loss='mean_squared_error', optimizer='adam')  # notice: Classification problem and regression problem\n",
    "# Fit the model\n",
    "print(\"-----------neural_nets_flag: BP--------------\")\n",
    "model.fit(trainX, trainY, nb_epoch=10, batch_size=30, validation_split=const.VALIDATION_SCALE, verbose=0)\n",
    "print(\"# Finished Training...\")"
   ]
  },
  {
   "cell_type": "code",
   "execution_count": 44,
   "metadata": {},
   "outputs": [
    {
     "name": "stdout",
     "output_type": "stream",
     "text": [
      "Train RMSE: 1.3972, Test RMSE: 0.9633\n",
      "Train MAPE: 0.0455, Test MAPE: 0.0368\n",
      "Train Dstat: 0.8345, Test Dstat: 0.7104\n"
     ]
    }
   ],
   "source": [
    "# make a prediction\n",
    "train_predict = model.predict(trainX)\n",
    "test_predict = model.predict(testX)\n",
    "\n",
    "# invert predictions\n",
    "inv_trainP = scaler.inverse_transform(train_predict)\n",
    "inv_trainY = scaler.inverse_transform(trainY)\n",
    "inv_testP = scaler.inverse_transform(test_predict)\n",
    "inv_testY = scaler.inverse_transform(testY)\n",
    "\n",
    "# calculate RMSE, MAPE, Dstat\n",
    "train_rmse = sqrt(mean_squared_error(inv_trainP, inv_trainY))\n",
    "test_rmse = sqrt(mean_squared_error(inv_testP, inv_testY))\n",
    "print('Train RMSE: %.4f, Test RMSE: %.4f' % (train_rmse, test_rmse))\n",
    "train_mape = data_metrics.MAPE(inv_trainP, inv_trainY)\n",
    "test_mape = data_metrics.MAPE(inv_testP, inv_testY)\n",
    "print('Train MAPE: %.4f, Test MAPE: %.4f' % (train_mape, test_mape))\n",
    "train_ds = data_metrics.Dstat(inv_trainP, inv_trainY)\n",
    "test_ds = data_metrics.Dstat(inv_testP, inv_testY)\n",
    "print('Train Dstat: %.4f, Test Dstat: %.4f' % (train_ds, test_ds))"
   ]
  },
  {
   "cell_type": "markdown",
   "metadata": {},
   "source": [
    "# LSTM, RNN"
   ]
  },
  {
   "cell_type": "code",
   "execution_count": 45,
   "metadata": {},
   "outputs": [
    {
     "name": "stdout",
     "output_type": "stream",
     "text": [
      "(1312, 30, 1)\n",
      "(329, 30, 1)\n"
     ]
    }
   ],
   "source": [
    "# reshape input to be [samples, time steps, features]\n",
    "time_steps = look_back\n",
    "trainX = np.reshape(trainX, (trainX.shape[0], time_steps, trainX.shape[1]//time_steps)) \n",
    "print(trainX.shape)\n",
    "testX = np.reshape(testX, (testX.shape[0], time_steps, testX.shape[1]//time_steps))\n",
    "print(testX.shape)"
   ]
  },
  {
   "cell_type": "code",
   "execution_count": 46,
   "metadata": {},
   "outputs": [
    {
     "name": "stdout",
     "output_type": "stream",
     "text": [
      "-----------neural_nets_flag: RNN--------------\n"
     ]
    },
    {
     "name": "stderr",
     "output_type": "stream",
     "text": [
      "C:\\Users\\demo\\workplace\\Time-Series-Prediction-with-LSTM\\utils\\py\\networks_factory.py:50: UserWarning: Update your `Dense` call to the Keras 2 API: `Dense(1, kernel_initializer=\"uniform\")`\n",
      "  model.add(Dense(n_out, init='uniform'))  # notice: activation=sigmoid,(0,1)\n"
     ]
    },
    {
     "name": "stdout",
     "output_type": "stream",
     "text": [
      "# Finished Training...\n",
      "Train RMSE: 0.9336, Test RMSE: 0.5724\n",
      "Train MAPE: 0.0305, Test MAPE: 0.0301\n",
      "Train Dstat: 0.6529, Test Dstat: 0.5884\n",
      "-----------neural_nets_flag: LSTM--------------\n",
      "# Finished Training...\n",
      "Train RMSE: 1.1332, Test RMSE: 0.9613\n",
      "Train MAPE: 0.0509, Test MAPE: 0.0534\n",
      "Train Dstat: 0.5439, Test Dstat: 0.5579\n",
      "# ----------- All Done! -----------\n"
     ]
    }
   ],
   "source": [
    "n_dims = trainX.shape[2]\n",
    "neural_nets_flags = [const.FLAG_NN_RNN, const.FLAG_NN_LSTM]\n",
    "for i, neural_nets_flag in enumerate(neural_nets_flags):\n",
    "    print(\"-----------neural_nets_flag: %s--------------\" % const.FLAG_NN_STRING[neural_nets_flag])\n",
    "    if (neural_nets_flag == const.FLAG_NN_RNN):\n",
    "        # --- RNN MODEL --- #\n",
    "        s, model = networks_factory.create_rnn_model(hidden_neurons=32, lenth=time_steps, dims=n_dims, n_out=1)\n",
    "    elif (neural_nets_flag == const.FLAG_NN_LSTM):\n",
    "        # --- LSTM MODEL --- #\n",
    "        s, model = networks_factory.create_lstm_model(lstm_neurons=32, hidden_layers=2, lenth=time_steps, dims=n_dims, n_out=1)\n",
    "    else:\n",
    "        pass\n",
    "    \n",
    "    model.compile(loss='mean_squared_error', optimizer='adam', metrics=['mae'])\n",
    "    history = model.fit(trainX, trainY, epochs=10, batch_size=30, validation_split=const.VALIDATION_SCALE, verbose=0)\n",
    "    print(\"# Finished Training...\")\n",
    "    \n",
    "    # make a prediction\n",
    "    train_predict = model.predict(trainX)\n",
    "    test_predict = model.predict(testX)\n",
    "\n",
    "    # invert predictions\n",
    "    inv_trainP = scaler.inverse_transform(train_predict)\n",
    "    inv_trainY = scaler.inverse_transform(trainY)\n",
    "    inv_testP = scaler.inverse_transform(test_predict)\n",
    "    inv_testY = scaler.inverse_transform(testY)\n",
    "\n",
    "    # calculate RMSE, MAPE, Dstat\n",
    "    train_rmse = sqrt(mean_squared_error(inv_trainP, inv_trainY))\n",
    "    test_rmse = sqrt(mean_squared_error(inv_testP, inv_testY))\n",
    "    print('Train RMSE: %.4f, Test RMSE: %.4f' % (train_rmse, test_rmse))\n",
    "    train_mape = data_metrics.MAPE(inv_trainP, inv_trainY)\n",
    "    test_mape = data_metrics.MAPE(inv_testP, inv_testY)\n",
    "    print('Train MAPE: %.4f, Test MAPE: %.4f' % (train_mape, test_mape))\n",
    "    train_ds = data_metrics.Dstat(inv_trainP, inv_trainY)\n",
    "    test_ds = data_metrics.Dstat(inv_testP, inv_testY)\n",
    "    print('Train Dstat: %.4f, Test Dstat: %.4f' % (train_ds, test_ds))\n",
    "\n",
    "print(\"# ----------- All Done! -----------\")"
   ]
  },
  {
   "cell_type": "markdown",
   "metadata": {},
   "source": [
    "# Evaluate The Model"
   ]
  },
  {
   "cell_type": "code",
   "execution_count": 47,
   "metadata": {},
   "outputs": [
    {
     "data": {
      "image/png": "[encoded data removed]",
      "text/plain": [
       "<Figure size 432x288 with 1 Axes>"
      ]
     },
     "metadata": {
      "needs_background": "light"
     },
     "output_type": "display_data"
    }
   ],
   "source": [
    "# Plot training & validation loss values\n",
    "plt.plot(history.history['loss'])\n",
    "plt.plot(history.history['val_loss'])\n",
    "plt.title('Model loss')\n",
    "plt.ylabel('Loss')\n",
    "plt.xlabel('Epoch')\n",
    "plt.legend(['Train', 'Test'], loc='upper left')\n",
    "plt.show()"
   ]
  },
  {
   "cell_type": "code",
   "execution_count": null,
   "metadata": {},
   "outputs": [],
   "source": []
  }
 ],
 "metadata": {
  "kernelspec": {
   "display_name": "Python 3",
   "language": "python",
   "name": "python3"
  },
  "language_info": {
   "codemirror_mode": {
    "name": "ipython",
    "version": 3
   },
   "file_extension": ".py",
   "mimetype": "text/x-python",
   "name": "python",
   "nbconvert_exporter": "python",
   "pygments_lexer": "ipython3",
   "version": "3.6.8"
  }
 },
 "nbformat": 4,
 "nbformat_minor": 2
}
