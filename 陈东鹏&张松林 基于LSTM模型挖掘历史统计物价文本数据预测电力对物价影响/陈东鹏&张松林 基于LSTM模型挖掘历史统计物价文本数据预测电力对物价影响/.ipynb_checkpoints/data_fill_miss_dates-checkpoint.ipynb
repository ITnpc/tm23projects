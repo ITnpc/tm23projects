{
 "cells": [
  {
   "cell_type": "markdown",
   "metadata": {},
   "source": [
    "# 填补缺失的日期"
   ]
  },
  {
   "cell_type": "code",
   "execution_count": 60,
   "metadata": {},
   "outputs": [],
   "source": [
    "import pandas as pd\n",
    "import datetime\n",
    "import numpy as np"
   ]
  },
  {
   "cell_type": "code",
   "execution_count": 61,
   "metadata": {},
   "outputs": [],
   "source": [
    "#把datetime转成字符串\n",
    "def datetime_toString(dt):\n",
    "    return dt.strftime(\"%Y-%m-%d\")\n",
    "\n",
    "# 【函数说明】：输入dataframe日期升序，日期字段名为date，价格字段名为price\n",
    "# 填补最小日期到最大日期之间的缺失日期\n",
    "# 返回：完整的dataframe\n",
    "def fill_date(dataframe):\n",
    "    df_plus = pd.DataFrame() #空表，存储填充的缺失日期序列\n",
    "    row = dataframe.head(1).copy(); #复制一行作为插入模板\n",
    "    df_dates = dataframe['date'].tolist()  #数据日期转为列表\n",
    "    date_start = df_dates[0] #初始时间\n",
    "    date_increase = date_start; #迭代时间\n",
    "    for j in range(0, len(df_dates)):\n",
    "        date_increase_s = datetime_toString(date_increase)   #日期转换为字符串类型，使日期可进行逻辑比较\n",
    "        date_pre_s = datetime_toString(df_dates[j]) #j一直在累加\n",
    "        # 如数据中日期列表与期望日期序列不相等，即存在缺失值执行while程序\n",
    "        while (date_pre_s != date_increase_s and date_pre_s > date_increase_s): #忽略重复日期（最好前期有去重！）\n",
    "            # print(date_pre_s + \" != \" + date_increase_s + \", add \" + date_increase_s)\n",
    "            row.loc[0, ('date',)] = date_increase #passes a nested tuple of (slice(None),('one','second'))\n",
    "            row.loc[0, ('price',)] = None\n",
    "            df_plus = pd.concat([df_plus, row]) #将缺失日期新的数据列表中\n",
    "            date_increase += datetime.timedelta(days=1) #日期加一\n",
    "            date_increase_s = datetime_toString(date_increase)  \n",
    "        date_increase += datetime.timedelta(days=1) #日期加一\n",
    "        \n",
    "    # print(\"\\n df_plus's shape: \", df_plus.shape, \"\\n\", df_plus)\n",
    "    dataframe = pd.concat([dataframe, df_plus], ignore_index=False) #将缺失日期加入数据列表中（尾部）\n",
    "    dataframe = dataframe.sort_values(by=['date']) #重新排序\n",
    "    \n",
    "    # 验证\n",
    "    print(\"起止日期间隔天数：\", (date_increase - date_start).days)\n",
    "    \n",
    "    return dataframe"
   ]
  },
  {
   "cell_type": "code",
   "execution_count": 62,
   "metadata": {},
   "outputs": [
    {
     "name": "stdout",
     "output_type": "stream",
     "text": [
      "起止日期间隔天数： 1668\n",
      "\n",
      " 【缺失日期填充（总表部分）】df_filled's shape: (1668, 4) \n",
      "          date farmsName  price          bazaar\n",
      "0  2014-01-02      富士苹果  10.71  广东省广州市江南农副产品市场\n",
      "1  2014-01-03      富士苹果  10.71  广东省广州市江南农副产品市场\n",
      "2  2014-01-04      富士苹果  10.71  广东省广州市江南农副产品市场\n",
      "3  2014-01-05      富士苹果  10.71  广东省广州市江南农副产品市场\n",
      "0  2014-01-06      富士苹果    NaN  广东省广州市江南农副产品市场\n",
      "4  2014-01-07      富士苹果  10.71  广东省广州市江南农副产品市场\n",
      "5  2014-01-08      富士苹果  10.71  广东省广州市江南农副产品市场\n",
      "6  2014-01-09      富士苹果  10.71  广东省广州市江南农副产品市场\n",
      "7  2014-01-10      富士苹果  11.07  广东省广州市江南农副产品市场\n",
      "8  2014-01-11      富士苹果  10.71  广东省广州市江南农副产品市场\n",
      "9  2014-01-12      富士苹果  10.71  广东省广州市江南农副产品市场\n",
      "10 2014-01-13      富士苹果  11.43  广东省广州市江南农副产品市场\n",
      "11 2014-01-14      富士苹果  11.43  广东省广州市江南农副产品市场\n",
      "12 2014-01-15      富士苹果  11.43  广东省广州市江南农副产品市场\n",
      "13 2014-01-16      富士苹果  11.43  广东省广州市江南农副产品市场\n",
      "14 2014-01-17      富士苹果  11.43  广东省广州市江南农副产品市场\n",
      "15 2014-01-18      富士苹果  11.43  广东省广州市江南农副产品市场\n",
      "16 2014-01-19      富士苹果  11.43  广东省广州市江南农副产品市场\n",
      "17 2014-01-20      富士苹果  11.43  广东省广州市江南农副产品市场\n",
      "18 2014-01-21      富士苹果  11.43  广东省广州市江南农副产品市场\n",
      "19 2014-01-22      富士苹果  11.43  广东省广州市江南农副产品市场\n",
      "20 2014-01-23      富士苹果  11.43  广东省广州市江南农副产品市场\n",
      "21 2014-01-24      富士苹果  11.43  广东省广州市江南农副产品市场\n",
      "22 2014-01-25      富士苹果  11.43  广东省广州市江南农副产品市场\n",
      "23 2014-01-26      富士苹果  11.43  广东省广州市江南农副产品市场\n",
      "24 2014-01-27      富士苹果  11.43  广东省广州市江南农副产品市场\n",
      "25 2014-01-28      富士苹果  12.14  广东省广州市江南农副产品市场\n",
      "0  2014-01-29      富士苹果    NaN  广东省广州市江南农副产品市场\n",
      "0  2014-01-30      富士苹果    NaN  广东省广州市江南农副产品市场\n",
      "0  2014-01-31      富士苹果    NaN  广东省广州市江南农副产品市场\n",
      "\n",
      " 【价格缺失值填充（总表部分】df_insert's shape: (1668, 4) \n",
      "          date farmsName  price          bazaar\n",
      "0  2014-01-02      富士苹果  10.71  广东省广州市江南农副产品市场\n",
      "1  2014-01-03      富士苹果  10.71  广东省广州市江南农副产品市场\n",
      "2  2014-01-04      富士苹果  10.71  广东省广州市江南农副产品市场\n",
      "3  2014-01-05      富士苹果  10.71  广东省广州市江南农副产品市场\n",
      "0  2014-01-06      富士苹果  10.71  广东省广州市江南农副产品市场\n",
      "4  2014-01-07      富士苹果  10.71  广东省广州市江南农副产品市场\n",
      "5  2014-01-08      富士苹果  10.71  广东省广州市江南农副产品市场\n",
      "6  2014-01-09      富士苹果  10.71  广东省广州市江南农副产品市场\n",
      "7  2014-01-10      富士苹果  11.07  广东省广州市江南农副产品市场\n",
      "8  2014-01-11      富士苹果  10.71  广东省广州市江南农副产品市场\n",
      "9  2014-01-12      富士苹果  10.71  广东省广州市江南农副产品市场\n",
      "10 2014-01-13      富士苹果  11.43  广东省广州市江南农副产品市场\n",
      "11 2014-01-14      富士苹果  11.43  广东省广州市江南农副产品市场\n",
      "12 2014-01-15      富士苹果  11.43  广东省广州市江南农副产品市场\n",
      "13 2014-01-16      富士苹果  11.43  广东省广州市江南农副产品市场\n",
      "14 2014-01-17      富士苹果  11.43  广东省广州市江南农副产品市场\n",
      "15 2014-01-18      富士苹果  11.43  广东省广州市江南农副产品市场\n",
      "16 2014-01-19      富士苹果  11.43  广东省广州市江南农副产品市场\n",
      "17 2014-01-20      富士苹果  11.43  广东省广州市江南农副产品市场\n",
      "18 2014-01-21      富士苹果  11.43  广东省广州市江南农副产品市场\n",
      "19 2014-01-22      富士苹果  11.43  广东省广州市江南农副产品市场\n",
      "20 2014-01-23      富士苹果  11.43  广东省广州市江南农副产品市场\n",
      "21 2014-01-24      富士苹果  11.43  广东省广州市江南农副产品市场\n",
      "22 2014-01-25      富士苹果  11.43  广东省广州市江南农副产品市场\n",
      "23 2014-01-26      富士苹果  11.43  广东省广州市江南农副产品市场\n",
      "24 2014-01-27      富士苹果  11.43  广东省广州市江南农副产品市场\n",
      "25 2014-01-28      富士苹果  12.14  广东省广州市江南农副产品市场\n",
      "0  2014-01-29      富士苹果  12.14  广东省广州市江南农副产品市场\n",
      "0  2014-01-30      富士苹果  12.14  广东省广州市江南农副产品市场\n",
      "0  2014-01-31      富士苹果  12.14  广东省广州市江南农副产品市场\n"
     ]
    }
   ],
   "source": [
    "# 加载数据\n",
    "FILENAME = \"agricultural_products_data/apple.csv\"\n",
    "dataframe = pd.read_csv(FILENAME) #会自动给行添加索引\n",
    "dataframe['date'] = pd.to_datetime(dataframe['date']) #转换为标准日期格式\n",
    "# print(dataframe.head(30)) #查看dataframe的前几行，默认为5\n",
    "\n",
    "df_filled = fill_date(dataframe)\n",
    "print(\"\\n 【缺失日期填充（总表部分）】df_filled's shape:\", df_filled.shape, \"\\n\", df_filled.head(30))\n",
    "        \n",
    "# 缺失值填充：http://pandas.pydata.org/pandas-docs/stable/generated/pandas.DataFrame.interpolate.html#pandas.DataFrame.interpolate\n",
    "df_filled['price'] = df_filled['price'].interpolate('linear') #'linear': ignore the index and treat the values as equally spaced\n",
    "print(\"\\n 【价格缺失值填充（总表部分】df_insert's shape:\", df_filled.shape, \"\\n\", df_filled.head(30))\n",
    "\n",
    "# 结果保留两位小数\n",
    "format = lambda x:\"%.2f\"%x\n",
    "df_filled['price'] = df_filled['price'].map(format)\n",
    "df_filled.to_csv(FILENAME.split('.', 1)[0] + \"_interpolate.csv\", index=False)"
   ]
  },
  {
   "cell_type": "code",
   "execution_count": null,
   "metadata": {},
   "outputs": [],
   "source": [
    "def foo():\n",
    "    print(\"hello foo!\")"
   ]
  },
  {
   "cell_type": "code",
   "execution_count": 63,
   "metadata": {},
   "outputs": [],
   "source": [
    "# 参考：https://blog.csdn.net/leo_sheng/article/details/83316285"
   ]
  }
 ],
 "metadata": {
  "kernelspec": {
   "display_name": "Python 3",
   "language": "python",
   "name": "python3"
  },
  "language_info": {
   "codemirror_mode": {
    "name": "ipython",
    "version": 3
   },
   "file_extension": ".py",
   "mimetype": "text/x-python",
   "name": "python",
   "nbconvert_exporter": "python",
   "pygments_lexer": "ipython3",
   "version": "3.5.5"
  }
 },
 "nbformat": 4,
 "nbformat_minor": 2
}
