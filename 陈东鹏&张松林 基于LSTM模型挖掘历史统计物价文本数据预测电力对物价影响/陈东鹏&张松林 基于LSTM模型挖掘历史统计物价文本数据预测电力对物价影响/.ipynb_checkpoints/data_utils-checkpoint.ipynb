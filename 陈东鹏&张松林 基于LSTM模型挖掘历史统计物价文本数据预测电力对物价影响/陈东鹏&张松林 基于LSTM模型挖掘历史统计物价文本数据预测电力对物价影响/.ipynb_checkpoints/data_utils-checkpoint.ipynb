{
 "cells": [
  {
   "cell_type": "code",
   "execution_count": null,
   "metadata": {
    "scrolled": true
   },
   "outputs": [],
   "source": [
    "import numpy\n",
    "import pandas\n",
    "from pandas import DataFrame\n",
    "from pandas import Series\n",
    "from sklearn.preprocessing import LabelBinarizer"
   ]
  },
  {
   "cell_type": "markdown",
   "metadata": {},
   "source": [
    "# Univariate one-step"
   ]
  },
  {
   "cell_type": "code",
   "execution_count": null,
   "metadata": {
    "scrolled": true
   },
   "outputs": [],
   "source": [
    "# convert an array of values into a dataset matrix\n",
    "def create_dataset(dataset, look_back=1):\n",
    "    dataX, dataY = [], []\n",
    "    for i in range(len(dataset)-look_back):  # 原文-1错了，\"for i in range(n)\"为[0,n-1]\n",
    "        a = dataset[i:(i+look_back), 0]  # 不包括i+look_back\n",
    "        dataX.append(a)\n",
    "        dataY.append(dataset[i + look_back, 0])  # 单值\n",
    "    return numpy.array(dataX), numpy.array(dataY)"
   ]
  },
  {
   "cell_type": "markdown",
   "metadata": {},
   "source": [
    "# Difference series"
   ]
  },
  {
   "cell_type": "code",
   "execution_count": null,
   "metadata": {},
   "outputs": [],
   "source": [
    "# create a differenced series\n",
    "def difference(dataset, interval=1):\n",
    "\tdiff = list()\n",
    "\tfor i in range(interval, len(dataset)):\n",
    "\t\tvalue = dataset[i] - dataset[i - interval]\n",
    "\t\tdiff.append(value)\n",
    "\treturn Series(diff)\n",
    "\n",
    "# invert differenced forecast\n",
    "def inverse_difference(last_ob, forecast):\n",
    "\t# invert first forecast\n",
    "\tinverted = list()\n",
    "\tinverted.append(forecast[0] + last_ob)\n",
    "\t# propagate difference forecast using inverted first value\n",
    "\tfor i in range(1, len(forecast)):\n",
    "\t\tinverted.append(forecast[i] + inverted[i-1])\n",
    "\treturn inverted"
   ]
  },
  {
   "cell_type": "markdown",
   "metadata": {},
   "source": [
    "# Series to supervised (both univariate and multivariate"
   ]
  },
  {
   "cell_type": "code",
   "execution_count": null,
   "metadata": {
    "scrolled": true
   },
   "outputs": [],
   "source": [
    "# convert time series into supervised learning problem\n",
    "def series_to_supervised(data, n_in=1, n_out=1, dropnan=True):\n",
    "\tn_vars = 1 if type(data) is list else data.shape[1]\n",
    "\tdf = DataFrame(data)\n",
    "\tcols, names = list(), list()\n",
    "\t# input sequence (t-n, ... t-1)\n",
    "\tfor i in range(n_in, 0, -1):\n",
    "\t\tcols.append(df.shift(i))\n",
    "\t\tnames += [('var%d(t-%d)' % (j+1, i)) for j in range(n_vars)]\n",
    "\t# forecast sequence (t, t+1, ... t+n)\n",
    "\tfor i in range(0, n_out):\n",
    "\t\tcols.append(df.shift(-i))\n",
    "\t\tif i == 0:\n",
    "\t\t\tnames += [('var%d(t)' % (j+1)) for j in range(n_vars)]\n",
    "\t\telse:\n",
    "\t\t\tnames += [('var%d(t+%d)' % (j+1, i)) for j in range(n_vars)]\n",
    "\t# put it all together\n",
    "\tagg = pandas.concat(cols, axis=1)\n",
    "\tagg.columns = names\n",
    "\t# drop rows with NaN values\n",
    "\tif dropnan:\n",
    "\t\tagg.dropna(inplace=True)\n",
    "\treturn agg  # or agg.values(numpy array)"
   ]
  },
  {
   "cell_type": "markdown",
   "metadata": {},
   "source": [
    "# Forecast by month data"
   ]
  },
  {
   "cell_type": "code",
   "execution_count": null,
   "metadata": {},
   "outputs": [],
   "source": [
    "# extract statistic features; not recommend\n",
    "def extract_features_to_day(dataframe):\n",
    "    first_date = dataframe.iloc[0][0]\n",
    "    last_date = dataframe.iloc[-1][0]\n",
    "    print(\"# date: \", first_date, \", \", last_date)\n",
    "    \n",
    "    dataframe['date'] = pandas.to_datetime(dataframe['date']) \n",
    "    dataframe = dataframe.set_index('date')\n",
    "\n",
    "    df_month_mean = dataframe.resample('MS').mean()  # not resample('MS')['price'], to concat\n",
    "    # NOTE that resample('MS') only has the 1st day of the month\n",
    "    df_last_date = dataframe.tail(1)\n",
    "    df_last_date.iloc[0][0] = df_month_mean.iloc[-1][0]\n",
    "    df_month_mean = df_month_mean.append(df_last_date, ignore_index=False)\n",
    "    print(\"\\n# df_month_mean:\")\n",
    "    print(df_month_mean.head(3))\n",
    "    print(df_month_mean.tail(2))\n",
    "\n",
    "    df_month_mean = df_month_mean.asfreq('D', method = 'ffill')\n",
    "    print(\"\\n# df_month_mean asfreq:\")\n",
    "    print(df_month_mean.head(3))\n",
    "    print(df_month_mean.tail(2))\n",
    "\n",
    "    df_month_mean = df_month_mean[first_date:last_date]\n",
    "    df_month_mean = df_month_mean.reset_index('date') \n",
    "    dataframe = dataframe.reset_index('date') \n",
    "    dataframe['price'] = df_month_mean['price']\n",
    "    print(\"\\n# dataframe:\")\n",
    "    print(dataframe.head(3))\n",
    "    print(dataframe.tail(2))\n",
    "    \n",
    "    return dataframe\n",
    "\n",
    "def extract_features_to_month(dataframe):\n",
    "    dataframe['date'] = pandas.to_datetime(dataframe['date']) \n",
    "    dataframe = dataframe.set_index('date')\n",
    "\n",
    "    # statistic features: methods are from computation module\n",
    "    df_month_mean = dataframe.resample('MS').agg(['mean', 'median', 'min', 'max', 'std', 'var'])\n",
    "    df_month_mean = df_month_mean.to_period('M')\n",
    "    # print(df_month_mean.head(3))\n",
    "    # print(df_month_mean.tail(2))\n",
    "\n",
    "    dataset = df_month_mean.values\n",
    "    # print(\"\\n# shape:\", dataset.shape)\n",
    "    \n",
    "    # ont-hot code for months\n",
    "    dates = df_month_mean.reset_index('date')['date']\n",
    "    # PeriodIndex.month. Note: return '1' instead of '01', so use int()\n",
    "    dates_month = dates.apply(lambda x: int(x.month))\n",
    "    dates_month = dates_month.values.T\n",
    "    # print(dates_month)\n",
    "\n",
    "    lb = LabelBinarizer()\n",
    "    months = [1, 2, 3, 4, 5, 6, 7, 8, 9, 10, 11, 12]\n",
    "    lb.fit(months)\n",
    "    onehot_month = lb.transform(dates_month)\n",
    "    # print(\"\\n# shape:\", onehot_month.shape)\n",
    "    \n",
    "    return dataset, onehot_month"
   ]
  },
  {
   "cell_type": "code",
   "execution_count": null,
   "metadata": {},
   "outputs": [],
   "source": [
    "# # load the dataset\n",
    "# FILENAME = \"agricultural_products_data/apple_interpolate.csv\"\n",
    "# dataframe = pandas.read_csv(FILENAME, usecols=[0, 2], engine='python')\n",
    "# print(dataframe.head())\n",
    "# print(dataframe.tail())"
   ]
  },
  {
   "cell_type": "code",
   "execution_count": null,
   "metadata": {},
   "outputs": [],
   "source": [
    "# dataset, onehot_month = extract_features_to_month(dataframe)\n",
    "# # concat statistic features and one-hot features\n",
    "# dataset = numpy.hstack((dataset, onehot_month)) \n",
    "# print(\"\\n# shape:\", dataset.shape)\n",
    "# print(dataset[0:5])"
   ]
  }
 ],
 "metadata": {
  "kernelspec": {
   "display_name": "Python 3",
   "language": "python",
   "name": "python3"
  },
  "language_info": {
   "codemirror_mode": {
    "name": "ipython",
    "version": 3
   },
   "file_extension": ".py",
   "mimetype": "text/x-python",
   "name": "python",
   "nbconvert_exporter": "python",
   "pygments_lexer": "ipython3",
   "version": "3.6.8"
  }
 },
 "nbformat": 4,
 "nbformat_minor": 2
}
