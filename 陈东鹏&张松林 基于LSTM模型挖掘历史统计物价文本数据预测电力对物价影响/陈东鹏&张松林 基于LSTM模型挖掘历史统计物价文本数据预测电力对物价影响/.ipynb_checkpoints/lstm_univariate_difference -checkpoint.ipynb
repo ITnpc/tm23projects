{
 "cells": [
  {
   "cell_type": "markdown",
   "metadata": {},
   "source": [
    "# 用 LSTM 做时间序列预测"
   ]
  },
  {
   "cell_type": "code",
   "execution_count": 41,
   "metadata": {},
   "outputs": [],
   "source": [
    "import numpy\n",
    "import matplotlib.pyplot as plt\n",
    "import pandas\n",
    "import math\n",
    "import keras\n",
    "from keras.models import Sequential\n",
    "from keras.layers import Dense, LSTM, BatchNormalization\n",
    "from sklearn.preprocessing import MinMaxScaler\n",
    "from sklearn.metrics import mean_squared_error\n",
    "from sklearn.metrics import mean_absolute_error #平方绝对误差\n",
    "from sklearn.metrics import r2_score #R square\n",
    "import data_utils\n",
    "%matplotlib inline"
   ]
  },
  {
   "cell_type": "code",
   "execution_count": 42,
   "metadata": {},
   "outputs": [],
   "source": [
    "# fix random seed for reproducibility\n",
    "numpy.random.seed(7)"
   ]
  },
  {
   "cell_type": "markdown",
   "metadata": {},
   "source": [
    "## 导入数据"
   ]
  },
  {
   "cell_type": "code",
   "execution_count": 45,
   "metadata": {},
   "outputs": [
    {
     "name": "stdout",
     "output_type": "stream",
     "text": [
      "# shape: (1668, 1)\n",
      "[[10.71]\n",
      " [10.71]\n",
      " [10.71]\n",
      " [10.71]\n",
      " [10.71]\n",
      " [10.71]\n",
      " [10.71]\n",
      " [10.71]\n",
      " [11.07]\n",
      " [10.71]\n",
      " [10.71]\n",
      " [11.43]\n",
      " [11.43]\n",
      " [11.43]\n",
      " [11.43]]\n"
     ]
    }
   ],
   "source": [
    "# load the dataset\n",
    "FILENAME = \"agricultural_products_data/apple_interpolate.csv\"\n",
    "dataframe = pandas.read_csv(FILENAME, usecols=[2], engine='python')\n",
    "\n",
    "dataset = dataframe.values  # Return a Numpy representation of the DataFrame\n",
    "dataset = dataset.astype('float32') \n",
    "print(\"# shape:\", dataset.shape)\n",
    "print(dataset[0:15])"
   ]
  },
  {
   "cell_type": "markdown",
   "metadata": {},
   "source": [
    "## 数据转化与处理"
   ]
  },
  {
   "cell_type": "code",
   "execution_count": 46,
   "metadata": {},
   "outputs": [
    {
     "name": "stdout",
     "output_type": "stream",
     "text": [
      "# shape: (1667, 1)\n",
      "[[array([0.], dtype=float32)]\n",
      " [array([0.], dtype=float32)]\n",
      " [array([0.], dtype=float32)]\n",
      " [array([0.], dtype=float32)]\n",
      " [array([0.], dtype=float32)]\n",
      " [array([0.], dtype=float32)]\n",
      " [array([0.], dtype=float32)]\n",
      " [array([0.35999966], dtype=float32)]\n",
      " [array([-0.35999966], dtype=float32)]\n",
      " [array([0.], dtype=float32)]\n",
      " [array([0.72000027], dtype=float32)]\n",
      " [array([0.], dtype=float32)]\n",
      " [array([0.], dtype=float32)]\n",
      " [array([0.], dtype=float32)]\n",
      " [array([0.], dtype=float32)]]\n"
     ]
    }
   ],
   "source": [
    "# transform data to be stationary\n",
    "diff_series = data_utils.difference(dataset, 1)\n",
    "diff_values = diff_series.values\n",
    "diff_values = diff_values.reshape(len(diff_values), 1)\n",
    "print(\"# shape:\", diff_values.shape)\n",
    "print(diff_values[0:15])"
   ]
  },
  {
   "cell_type": "code",
   "execution_count": 47,
   "metadata": {},
   "outputs": [
    {
     "name": "stderr",
     "output_type": "stream",
     "text": [
      "C:\\Users\\demo\\Anaconda3\\envs\\tensorflow\\lib\\site-packages\\sklearn\\utils\\validation.py:595: DataConversionWarning: Data with input dtype object was converted to float64 by MinMaxScaler.\n",
      "  warnings.warn(msg, DataConversionWarning)\n"
     ]
    }
   ],
   "source": [
    "# rescale values to -1, 1\n",
    "scaler = MinMaxScaler(feature_range=(-1, 1))\n",
    "scaled_values = scaler.fit_transform(diff_values)\n",
    "scaled_values = scaled_values.reshape(len(scaled_values), 1)\n",
    "\n",
    "# test series_to_supervised 1\n",
    "# scaled_values = diff_values"
   ]
  },
  {
   "cell_type": "code",
   "execution_count": 51,
   "metadata": {},
   "outputs": [
    {
     "name": "stdout",
     "output_type": "stream",
     "text": [
      "# shape: (1637, 31)\n",
      "# train, test length: 1310 327\n",
      "# length: True\n"
     ]
    }
   ],
   "source": [
    "# transform into supervised learning problem X, y\n",
    "n_lag = 30\n",
    "n_seq = 1\n",
    "supervised = data_utils.series_to_supervised(scaled_values, n_lag, n_seq)\n",
    "supervised_values = supervised.values\n",
    "print(\"# shape:\", supervised_values.shape)\n",
    "\n",
    "# split into train and test sets\n",
    "n_test = int(len(supervised_values) * 0.20)\n",
    "train, test = supervised_values[0:-n_test], supervised_values[-n_test:]\n",
    "print(\"# train, test length:\", len(train), len(test))\n",
    "print(\"# length:\", len(diff_values) - n_lag == len(train) + len(test))\n",
    "\n",
    "# test series_to_supervised 2\n",
    "# for i in range(len(supervised_values)): \n",
    "#     if(not supervised_values[i][n_lag] - scaled_values[n_lag + i] < 0.0001):\n",
    "#         print(\"BAD.\")"
   ]
  },
  {
   "cell_type": "code",
   "execution_count": 52,
   "metadata": {},
   "outputs": [
    {
     "name": "stdout",
     "output_type": "stream",
     "text": [
      "(1310, 30, 1)\n",
      "(327, 30, 1)\n"
     ]
    }
   ],
   "source": [
    "# reshape training into [samples, timesteps, features]\n",
    "time_steps = 30\n",
    "trainX, trainY = train[:, 0:n_lag], train[:, n_lag:]\n",
    "testX, testY = test[:, 0:n_lag], train[:, n_lag:]\n",
    "trainX = numpy.reshape(trainX, (trainX.shape[0], time_steps, trainX.shape[1]//time_steps)) \n",
    "print(trainX.shape)\n",
    "testX = numpy.reshape(testX, (testX.shape[0], time_steps, testX.shape[1]//time_steps))\n",
    "print(testX.shape)"
   ]
  },
  {
   "cell_type": "markdown",
   "metadata": {},
   "source": [
    "## 建立 LSTM 模型\n",
    "\n",
    "return_sequences：默认 False。在输出序列中，返回单个 hidden state值还是返回全部time step 的 hidden state值。 False 返回单个， true 返回全部。\n",
    "\n",
    "To stack LSTM layers, we need to change the configuration of the prior LSTM layer to output a 3D array as input for the subsequent layer."
   ]
  },
  {
   "cell_type": "code",
   "execution_count": 54,
   "metadata": {},
   "outputs": [],
   "source": [
    "def create_model(lstm_neurons=32, hidden_layers=2, lenth=30, dims=1):\n",
    "    model = Sequential()\n",
    "    for i in range(hidden_layers-1):\n",
    "        model.add(LSTM(32, return_sequences=True, input_shape=(lenth, dims)))\n",
    "        model.add(BatchNormalization())  # like dropout\n",
    "    model.add(LSTM(lstm_neurons, return_sequences=False)) \n",
    "    model.add(Dense(1))\n",
    "    network_structure = \"lstm_M\" + str(lstm_neurons) + \"_\" + str(hidden_layers)\n",
    "    return network_structure, model"
   ]
  },
  {
   "cell_type": "code",
   "execution_count": 56,
   "metadata": {},
   "outputs": [
    {
     "name": "stdout",
     "output_type": "stream",
     "text": [
      "Train on 982 samples, validate on 328 samples\n",
      "Epoch 1/30\n",
      " - 4s - loss: 0.0209 - mean_absolute_error: 0.0871 - val_loss: 0.0048 - val_mean_absolute_error: 0.0425\n",
      "Epoch 2/30\n",
      " - 2s - loss: 0.0189 - mean_absolute_error: 0.0796 - val_loss: 0.0072 - val_mean_absolute_error: 0.0687\n",
      "Epoch 3/30\n",
      " - 2s - loss: 0.0186 - mean_absolute_error: 0.0796 - val_loss: 0.0057 - val_mean_absolute_error: 0.0575\n",
      "Epoch 4/30\n",
      " - 2s - loss: 0.0185 - mean_absolute_error: 0.0789 - val_loss: 0.0048 - val_mean_absolute_error: 0.0442\n",
      "Epoch 5/30\n",
      " - 2s - loss: 0.0184 - mean_absolute_error: 0.0776 - val_loss: 0.0063 - val_mean_absolute_error: 0.0620\n",
      "Epoch 6/30\n",
      " - 2s - loss: 0.0184 - mean_absolute_error: 0.0800 - val_loss: 0.0050 - val_mean_absolute_error: 0.0500\n",
      "Epoch 7/30\n",
      " - 2s - loss: 0.0185 - mean_absolute_error: 0.0790 - val_loss: 0.0053 - val_mean_absolute_error: 0.0480\n",
      "Epoch 8/30\n",
      " - 2s - loss: 0.0182 - mean_absolute_error: 0.0786 - val_loss: 0.0084 - val_mean_absolute_error: 0.0744\n",
      "Epoch 9/30\n",
      " - 2s - loss: 0.0182 - mean_absolute_error: 0.0789 - val_loss: 0.0051 - val_mean_absolute_error: 0.0450\n",
      "Epoch 10/30\n",
      " - 2s - loss: 0.0181 - mean_absolute_error: 0.0784 - val_loss: 0.0058 - val_mean_absolute_error: 0.0586\n",
      "Epoch 11/30\n",
      " - 2s - loss: 0.0180 - mean_absolute_error: 0.0779 - val_loss: 0.0055 - val_mean_absolute_error: 0.0479\n",
      "Epoch 12/30\n",
      " - 2s - loss: 0.0182 - mean_absolute_error: 0.0796 - val_loss: 0.0053 - val_mean_absolute_error: 0.0482\n",
      "Epoch 13/30\n",
      " - 2s - loss: 0.0179 - mean_absolute_error: 0.0799 - val_loss: 0.0045 - val_mean_absolute_error: 0.0451\n",
      "Epoch 14/30\n",
      " - 2s - loss: 0.0179 - mean_absolute_error: 0.0770 - val_loss: 0.0054 - val_mean_absolute_error: 0.0485\n",
      "Epoch 15/30\n",
      " - 2s - loss: 0.0178 - mean_absolute_error: 0.0792 - val_loss: 0.0052 - val_mean_absolute_error: 0.0483\n",
      "Epoch 16/30\n",
      " - 2s - loss: 0.0177 - mean_absolute_error: 0.0784 - val_loss: 0.0092 - val_mean_absolute_error: 0.0806\n",
      "Epoch 17/30\n",
      " - 2s - loss: 0.0179 - mean_absolute_error: 0.0794 - val_loss: 0.0085 - val_mean_absolute_error: 0.0750\n",
      "Epoch 18/30\n",
      " - 2s - loss: 0.0178 - mean_absolute_error: 0.0773 - val_loss: 0.0049 - val_mean_absolute_error: 0.0477\n",
      "Epoch 19/30\n",
      " - 2s - loss: 0.0174 - mean_absolute_error: 0.0788 - val_loss: 0.0048 - val_mean_absolute_error: 0.0444\n",
      "Epoch 20/30\n",
      " - 2s - loss: 0.0177 - mean_absolute_error: 0.0785 - val_loss: 0.0049 - val_mean_absolute_error: 0.0449\n",
      "Epoch 21/30\n",
      " - 2s - loss: 0.0173 - mean_absolute_error: 0.0778 - val_loss: 0.0052 - val_mean_absolute_error: 0.0501\n",
      "Epoch 22/30\n",
      " - 2s - loss: 0.0178 - mean_absolute_error: 0.0792 - val_loss: 0.0051 - val_mean_absolute_error: 0.0463\n",
      "Epoch 23/30\n",
      " - 2s - loss: 0.0172 - mean_absolute_error: 0.0765 - val_loss: 0.0047 - val_mean_absolute_error: 0.0432\n",
      "Epoch 24/30\n",
      " - 2s - loss: 0.0175 - mean_absolute_error: 0.0771 - val_loss: 0.0071 - val_mean_absolute_error: 0.0649\n",
      "Epoch 25/30\n",
      " - 2s - loss: 0.0171 - mean_absolute_error: 0.0774 - val_loss: 0.0054 - val_mean_absolute_error: 0.0513\n",
      "Epoch 26/30\n",
      " - 2s - loss: 0.0169 - mean_absolute_error: 0.0766 - val_loss: 0.0059 - val_mean_absolute_error: 0.0569\n",
      "Epoch 27/30\n",
      " - 2s - loss: 0.0170 - mean_absolute_error: 0.0779 - val_loss: 0.0048 - val_mean_absolute_error: 0.0453\n",
      "Epoch 28/30\n",
      " - 2s - loss: 0.0166 - mean_absolute_error: 0.0764 - val_loss: 0.0053 - val_mean_absolute_error: 0.0497\n",
      "Epoch 29/30\n",
      " - 2s - loss: 0.0168 - mean_absolute_error: 0.0765 - val_loss: 0.0049 - val_mean_absolute_error: 0.0455\n",
      "Epoch 30/30\n",
      " - 2s - loss: 0.0165 - mean_absolute_error: 0.0773 - val_loss: 0.0053 - val_mean_absolute_error: 0.0477\n"
     ]
    }
   ],
   "source": [
    "# create and fit the LSTM network\n",
    "s, model = create_model(lstm_neurons=32, hidden_layers=2, lenth=time_steps, dims=n_lag//time_steps)\n",
    "# print(model.get_config())\n",
    "model.compile(loss='mean_squared_error', optimizer='adam', metrics=['mae'])\n",
    "history = model.fit(trainX, trainY, epochs=30, batch_size=30, validation_split=0.25, verbose=2)  # verbose：debug信息\n",
    "# epochs=30, nearly converge\n",
    "# keras.utils.print_summary(model)  # after the model was built"
   ]
  },
  {
   "cell_type": "code",
   "execution_count": 57,
   "metadata": {},
   "outputs": [
    {
     "data": {
      "image/png": "[encoded data removed]",
      "text/plain": [
       "<Figure size 432x288 with 1 Axes>"
      ]
     },
     "metadata": {
      "needs_background": "light"
     },
     "output_type": "display_data"
    }
   ],
   "source": [
    "# Plot training & validation loss values\n",
    "plt.plot(history.history['loss'])\n",
    "plt.plot(history.history['val_loss'])\n",
    "plt.title('Model loss')\n",
    "plt.ylabel('Loss')\n",
    "plt.xlabel('Epoch')\n",
    "plt.legend(['Train', 'Test'], loc='upper left')\n",
    "plt.show()"
   ]
  },
  {
   "cell_type": "markdown",
   "metadata": {},
   "source": [
    "## 预测评估"
   ]
  },
  {
   "cell_type": "code",
   "execution_count": null,
   "metadata": {},
   "outputs": [],
   "source": [
    "# make predictions\n",
    "trainPredict = model.predict(trainX)\n",
    "testPredict = model.predict(testX)\n",
    "\n",
    "# invert predictions\n",
    "trainPredict = scaler.inverse_transform(trainPredict)\n",
    "trainY = scaler.inverse_transform([trainY])\n",
    "testPredict = scaler.inverse_transform(testPredict)\n",
    "testY = scaler.inverse_transform([testY])\n",
    "\n",
    "# invert differencing\n",
    "last_ob = series.values[index]\n",
    "inv_diff = inverse_difference(last_ob, inv_scale)\n",
    "\n",
    "# calculate mean absolute error\n",
    "trainScoreMAE = mean_absolute_error(trainY[0], trainPredict[:,0])\n",
    "testScoreMAE = mean_absolute_error(testY[0], testPredict[:,0])\n",
    "print('Train Score: %.2f MAE' % (trainScoreMAE))\n",
    "print('Test Score: %.2f MAE' % (testScoreMAE))\n",
    "\n",
    "# calculate root mean squared error\n",
    "trainScoreRMSE = math.sqrt(mean_squared_error(trainY[0], trainPredict[:,0]))\n",
    "testScoreRMSE = math.sqrt(mean_squared_error(testY[0], testPredict[:,0]))\n",
    "print('Train Score: %.2f RMSE' % (trainScoreRMSE))\n",
    "print('Test Score: %.2f RMSE' % (testScoreRMSE))\n",
    "\n",
    "# calculate R square\n",
    "trainScoreR = r2_score(trainY[0], trainPredict[:,0])\n",
    "testScoreR = r2_score(testY[0], testPredict[:,0])\n",
    "print('Train Score: %.2f R square' % (trainScoreR))\n",
    "print('Test Score: %.2f R square ' % (testScoreR))"
   ]
  },
  {
   "cell_type": "markdown",
   "metadata": {},
   "source": [
    "## 画出结果"
   ]
  },
  {
   "cell_type": "code",
   "execution_count": null,
   "metadata": {},
   "outputs": [],
   "source": [
    "# shift train predictions for plotting\n",
    "trainPredictPlot = numpy.empty_like(dataset)\n",
    "trainPredictPlot[:, :] = numpy.nan\n",
    "trainPredictPlot[look_back:len(trainPredict)+look_back, :] = trainPredict #不包括len(trainPredict)+look_back\n",
    "\n",
    "# shift test predictions for plotting\n",
    "testPredictPlot = numpy.empty_like(dataset)\n",
    "testPredictPlot[:, :] = numpy.nan\n",
    "testPredictPlot[len(trainPredict)+look_back*2:len(dataset), :] = testPredict #根据create_dataset()的小bug作相应更改，\n",
    "\n",
    "# 注意由于划分了训练集和测试集，总的samples数目会减少：len(dataset - lookback) - (len(trainX)+len(testX))\n",
    "\n",
    "# plot baseline and predictions\n",
    "plt.plot(scaler.inverse_transform(dataset))\n",
    "plt.plot(trainPredictPlot)\n",
    "plt.plot(testPredictPlot)\n",
    "plt.show()"
   ]
  },
  {
   "cell_type": "markdown",
   "metadata": {},
   "source": [
    "参考：[Time Series Prediction with LSTM Recurrent Neural Networks in Python with Keras](https://machinelearningmastery.com/time-series-prediction-lstm-recurrent-neural-networks-python-keras/\"Title\")"
   ]
  },
  {
   "cell_type": "code",
   "execution_count": null,
   "metadata": {},
   "outputs": [],
   "source": []
  }
 ],
 "metadata": {
  "kernelspec": {
   "display_name": "Python 3",
   "language": "python",
   "name": "python3"
  },
  "language_info": {
   "codemirror_mode": {
    "name": "ipython",
    "version": 3
   },
   "file_extension": ".py",
   "mimetype": "text/x-python",
   "name": "python",
   "nbconvert_exporter": "python",
   "pygments_lexer": "ipython3",
   "version": "3.6.8"
  }
 },
 "nbformat": 4,
 "nbformat_minor": 2
}
