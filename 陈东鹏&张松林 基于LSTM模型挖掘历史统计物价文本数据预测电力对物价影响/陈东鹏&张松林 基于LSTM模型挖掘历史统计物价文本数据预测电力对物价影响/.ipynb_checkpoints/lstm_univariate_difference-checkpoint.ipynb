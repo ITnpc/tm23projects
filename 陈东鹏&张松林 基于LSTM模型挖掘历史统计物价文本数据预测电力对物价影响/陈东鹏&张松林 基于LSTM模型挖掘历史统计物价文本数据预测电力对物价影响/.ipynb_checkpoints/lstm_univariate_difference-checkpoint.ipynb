{
 "cells": [
  {
   "cell_type": "markdown",
   "metadata": {},
   "source": [
    "# 用 LSTM 做时间序列预测"
   ]
  },
  {
   "cell_type": "code",
   "execution_count": 1,
   "metadata": {},
   "outputs": [
    {
     "name": "stderr",
     "output_type": "stream",
     "text": [
      "Using TensorFlow backend.\n"
     ]
    }
   ],
   "source": [
    "import numpy\n",
    "import matplotlib.pyplot as plt\n",
    "import pandas\n",
    "import math\n",
    "from keras.utils import print_summary\n",
    "from keras.models import Sequential\n",
    "from keras.models import load_model\n",
    "from keras.layers import Dense, LSTM, BatchNormalization\n",
    "from sklearn.preprocessing import MinMaxScaler\n",
    "from sklearn.metrics import mean_squared_error\n",
    "from sklearn.metrics import mean_absolute_error #平方绝对误差\n",
    "from sklearn.metrics import r2_score #R square\n",
    "from utils import data_tools, networks_factory, data_metrics\n",
    "from utils.constants import const\n",
    "%matplotlib inline"
   ]
  },
  {
   "cell_type": "code",
   "execution_count": 2,
   "metadata": {},
   "outputs": [],
   "source": [
    "# fix random seed for reproducibility\n",
    "numpy.random.seed(7)"
   ]
  },
  {
   "cell_type": "markdown",
   "metadata": {},
   "source": [
    "## 导入数据"
   ]
  },
  {
   "cell_type": "code",
   "execution_count": 5,
   "metadata": {},
   "outputs": [
    {
     "name": "stdout",
     "output_type": "stream",
     "text": [
      "# shape:  (1901, 1)\n"
     ]
    },
    {
     "data": {
      "image/png": "[encoded data removed]",
      "text/plain": [
       "<Figure size 432x288 with 1 Axes>"
      ]
     },
     "metadata": {
      "needs_background": "light"
     },
     "output_type": "display_data"
    }
   ],
   "source": [
    "dataset, dates = data_tools.load_data_from_csv(const.DATA_DIR + \"apple_interpolate.csv\")\n",
    "print(\"# shape: \", dataset.shape)\n",
    "\n",
    "# plot\n",
    "plt.plot(dataset)\n",
    "plt.show()"
   ]
  },
  {
   "cell_type": "markdown",
   "metadata": {},
   "source": [
    "## 数据转化与处理"
   ]
  },
  {
   "cell_type": "code",
   "execution_count": 6,
   "metadata": {},
   "outputs": [
    {
     "name": "stdout",
     "output_type": "stream",
     "text": [
      "# shape: (1900, 1)\n"
     ]
    }
   ],
   "source": [
    "# transform data to be stationary\n",
    "diff_internal = 1\n",
    "diff_series = data_tools.difference(dataset, diff_internal)\n",
    "diff_values = diff_series.values\n",
    "diff_values = diff_values.reshape(len(diff_values), 1)\n",
    "print(\"# shape:\", diff_values.shape)"
   ]
  },
  {
   "cell_type": "code",
   "execution_count": 8,
   "metadata": {},
   "outputs": [
    {
     "name": "stderr",
     "output_type": "stream",
     "text": [
      "C:\\Users\\demo\\Anaconda3\\envs\\tensorflow\\lib\\site-packages\\sklearn\\utils\\validation.py:595: DataConversionWarning: Data with input dtype object was converted to float64 by MinMaxScaler.\n",
      "  warnings.warn(msg, DataConversionWarning)\n"
     ]
    }
   ],
   "source": [
    "# rescale values to -1, 1\n",
    "scaler = data_tools.Po_MinMaxScaler\n",
    "scaled_values = scaler.fit_transform(diff_values)\n",
    "# scaled_values = scaled_values.reshape(len(scaled_values), 1)\n",
    "\n",
    "# test series_to_supervised 1\n",
    "# scaled_values = diff_values"
   ]
  },
  {
   "cell_type": "code",
   "execution_count": 9,
   "metadata": {},
   "outputs": [
    {
     "name": "stdout",
     "output_type": "stream",
     "text": [
      "# shape: (1870, 31)\n",
      "# train, test length: 1497 373\n",
      "# length: True\n"
     ]
    }
   ],
   "source": [
    "# transform into supervised learning problem X, y\n",
    "n_lag = const.LOOK_BACK\n",
    "n_seq = const.OUTPUT\n",
    "supervised = data_tools.series_to_supervised(scaled_values, n_lag, n_seq)\n",
    "supervised_values = supervised.values\n",
    "print(\"# shape:\", supervised_values.shape)\n",
    "\n",
    "# split into train and test sets\n",
    "n_test = int(len(supervised_values) * (1 - const.TRAIN_SCALE))\n",
    "train, test = supervised_values[0:-n_test], supervised_values[-n_test:]\n",
    "print(\"# train, test length:\", len(train), len(test))\n",
    "print(\"# length:\", len(diff_values) - n_lag == len(train) + len(test))  # single step\n",
    "\n",
    "# test series_to_supervised 2\n",
    "# for i in range(len(supervised_values)): \n",
    "#     if(not supervised_values[i][n_lag] - scaled_values[n_lag + i] < 0.0001):\n",
    "#         print(\"BAD.\")"
   ]
  },
  {
   "cell_type": "code",
   "execution_count": 10,
   "metadata": {},
   "outputs": [
    {
     "name": "stdout",
     "output_type": "stream",
     "text": [
      "(1497, 30)\n",
      "(1497, 1)\n"
     ]
    }
   ],
   "source": [
    "trainX, trainY = train[:, 0:n_lag], train[:, n_lag:]\n",
    "testX, testY = test[:, 0:n_lag], test[:, n_lag:]\n",
    "print(trainX.shape)\n",
    "print(trainY.shape)"
   ]
  },
  {
   "cell_type": "code",
   "execution_count": 11,
   "metadata": {},
   "outputs": [],
   "source": [
    "from sklearn.utils import shuffle\n",
    "from scipy.sparse import coo_matrix\n",
    "\n",
    "# shuffle train set (include validation set)\n",
    "trainX_sparse = coo_matrix(trainX)  # sparse matrix\n",
    "trainX, trainX_sparse, trainY = shuffle(trainX, trainX_sparse, trainY, random_state=0)"
   ]
  },
  {
   "cell_type": "markdown",
   "metadata": {},
   "source": [
    "## 建立 LSTM 模型\n",
    "\n",
    "return_sequences：默认 False。在输出序列中，返回单个 hidden state值还是返回全部time step 的 hidden state值。 False 返回单个， true 返回全部。\n",
    "\n",
    "To stack LSTM layers, we need to change the configuration of the prior LSTM layer to output a 3D array as input for the subsequent layer."
   ]
  },
  {
   "cell_type": "code",
   "execution_count": 12,
   "metadata": {},
   "outputs": [
    {
     "name": "stdout",
     "output_type": "stream",
     "text": [
      "(373, 30, 1)\n",
      "(373, 1)\n"
     ]
    }
   ],
   "source": [
    "# reshape training into [samples, timesteps, features]\n",
    "time_steps = n_lag\n",
    "trainX = numpy.reshape(trainX, (trainX.shape[0], time_steps, trainX.shape[1]//time_steps)) \n",
    "testX = numpy.reshape(testX, (testX.shape[0], time_steps, testX.shape[1]//time_steps))\n",
    "print(testX.shape)\n",
    "print(testY.shape)"
   ]
  },
  {
   "cell_type": "code",
   "execution_count": 13,
   "metadata": {},
   "outputs": [
    {
     "name": "stdout",
     "output_type": "stream",
     "text": [
      "Train on 1122 samples, validate on 375 samples\n",
      "Epoch 1/2000\n",
      " - 5s - loss: 0.1211 - val_loss: 0.0048\n",
      "Epoch 2/2000\n",
      " - 3s - loss: 0.0040 - val_loss: 0.0044\n",
      "Epoch 3/2000\n",
      " - 3s - loss: 0.0033 - val_loss: 0.0043\n",
      "Epoch 4/2000\n",
      " - 3s - loss: 0.0032 - val_loss: 0.0042\n",
      "Epoch 5/2000\n",
      " - 3s - loss: 0.0032 - val_loss: 0.0043\n",
      "Epoch 6/2000\n",
      " - 3s - loss: 0.0032 - val_loss: 0.0043\n",
      "Epoch 7/2000\n",
      " - 3s - loss: 0.0033 - val_loss: 0.0048\n",
      "Epoch 8/2000\n",
      " - 3s - loss: 0.0032 - val_loss: 0.0042\n",
      "Epoch 9/2000\n",
      " - 3s - loss: 0.0033 - val_loss: 0.0044\n",
      "Epoch 10/2000\n",
      " - 3s - loss: 0.0033 - val_loss: 0.0042\n",
      "Epoch 11/2000\n",
      " - 3s - loss: 0.0033 - val_loss: 0.0042\n",
      "Epoch 12/2000\n",
      " - 3s - loss: 0.0032 - val_loss: 0.0044\n",
      "Epoch 13/2000\n",
      " - 3s - loss: 0.0032 - val_loss: 0.0042\n",
      "Epoch 14/2000\n",
      " - 3s - loss: 0.0032 - val_loss: 0.0042\n",
      "Epoch 15/2000\n",
      " - 3s - loss: 0.0033 - val_loss: 0.0043\n",
      "Epoch 16/2000\n",
      " - 3s - loss: 0.0033 - val_loss: 0.0043\n",
      "Epoch 17/2000\n",
      " - 3s - loss: 0.0032 - val_loss: 0.0045\n",
      "Epoch 18/2000\n",
      " - 3s - loss: 0.0032 - val_loss: 0.0042\n",
      "Epoch 19/2000\n",
      " - 2s - loss: 0.0032 - val_loss: 0.0043\n",
      "Epoch 20/2000\n",
      " - 3s - loss: 0.0032 - val_loss: 0.0047\n",
      "Epoch 21/2000\n",
      " - 3s - loss: 0.0032 - val_loss: 0.0042\n",
      "Epoch 22/2000\n",
      " - 3s - loss: 0.0032 - val_loss: 0.0050\n",
      "Epoch 23/2000\n",
      " - 3s - loss: 0.0037 - val_loss: 0.0043\n",
      "Epoch 24/2000\n",
      " - 3s - loss: 0.0033 - val_loss: 0.0042\n",
      "Epoch 25/2000\n",
      " - 3s - loss: 0.0032 - val_loss: 0.0042\n",
      "Epoch 26/2000\n",
      " - 3s - loss: 0.0032 - val_loss: 0.0042\n",
      "Epoch 27/2000\n",
      " - 3s - loss: 0.0032 - val_loss: 0.0042\n",
      "Epoch 28/2000\n",
      " - 3s - loss: 0.0032 - val_loss: 0.0044\n",
      "Epoch 29/2000\n",
      " - 3s - loss: 0.0032 - val_loss: 0.0043\n",
      "Epoch 30/2000\n",
      " - 3s - loss: 0.0032 - val_loss: 0.0047\n",
      "Epoch 31/2000\n",
      " - 3s - loss: 0.0035 - val_loss: 0.0048\n",
      "Epoch 32/2000\n",
      " - 3s - loss: 0.0034 - val_loss: 0.0042\n",
      "Epoch 33/2000\n",
      " - 3s - loss: 0.0032 - val_loss: 0.0042\n",
      "Epoch 34/2000\n",
      " - 3s - loss: 0.0032 - val_loss: 0.0042\n",
      "Epoch 35/2000\n",
      " - 3s - loss: 0.0032 - val_loss: 0.0042\n",
      "Epoch 36/2000\n",
      " - 3s - loss: 0.0033 - val_loss: 0.0046\n",
      "Epoch 37/2000\n",
      " - 2s - loss: 0.0032 - val_loss: 0.0042\n",
      "Epoch 38/2000\n",
      " - 2s - loss: 0.0032 - val_loss: 0.0044\n",
      "Epoch 39/2000\n",
      " - 2s - loss: 0.0033 - val_loss: 0.0043\n",
      "Epoch 40/2000\n",
      " - 2s - loss: 0.0032 - val_loss: 0.0043\n",
      "Epoch 41/2000\n",
      " - 3s - loss: 0.0032 - val_loss: 0.0045\n",
      "Epoch 42/2000\n",
      " - 2s - loss: 0.0033 - val_loss: 0.0052\n",
      "Epoch 43/2000\n",
      " - 2s - loss: 0.0033 - val_loss: 0.0045\n",
      "Epoch 44/2000\n",
      " - 2s - loss: 0.0033 - val_loss: 0.0042\n",
      "Epoch 45/2000\n",
      " - 3s - loss: 0.0032 - val_loss: 0.0042\n",
      "Epoch 46/2000\n",
      " - 3s - loss: 0.0032 - val_loss: 0.0042\n",
      "Epoch 47/2000\n",
      " - 3s - loss: 0.0032 - val_loss: 0.0042\n",
      "Epoch 48/2000\n"
     ]
    },
    {
     "ename": "KeyboardInterrupt",
     "evalue": "",
     "output_type": "error",
     "traceback": [
      "\u001b[1;31m---------------------------------------------------------------------------\u001b[0m",
      "\u001b[1;31mKeyboardInterrupt\u001b[0m                         Traceback (most recent call last)",
      "\u001b[1;32m<ipython-input-13-edb20b93a6ce>\u001b[0m in \u001b[0;36m<module>\u001b[1;34m\u001b[0m\n\u001b[0;32m     12\u001b[0m \u001b[0mmodel\u001b[0m\u001b[1;33m.\u001b[0m\u001b[0mcompile\u001b[0m\u001b[1;33m(\u001b[0m\u001b[0mloss\u001b[0m\u001b[1;33m=\u001b[0m\u001b[1;34m'mean_squared_error'\u001b[0m\u001b[1;33m,\u001b[0m \u001b[0moptimizer\u001b[0m\u001b[1;33m=\u001b[0m\u001b[1;34m'adam'\u001b[0m\u001b[1;33m)\u001b[0m\u001b[1;33m\u001b[0m\u001b[1;33m\u001b[0m\u001b[0m\n\u001b[0;32m     13\u001b[0m history = model.fit(trainX, trainY, epochs=n_epoch, batch_size=n_batch_size, validation_split=const.VALIDATION_SCALE,\n\u001b[1;32m---> 14\u001b[1;33m                     verbose=2, callbacks=[networks_factory.ES])  # verbose：debug信息\n\u001b[0m",
      "\u001b[1;32m~\\Anaconda3\\envs\\tensorflow\\lib\\site-packages\\keras\\engine\\training.py\u001b[0m in \u001b[0;36mfit\u001b[1;34m(self, x, y, batch_size, epochs, verbose, callbacks, validation_split, validation_data, shuffle, class_weight, sample_weight, initial_epoch, steps_per_epoch, validation_steps, **kwargs)\u001b[0m\n\u001b[0;32m   1037\u001b[0m                                         \u001b[0minitial_epoch\u001b[0m\u001b[1;33m=\u001b[0m\u001b[0minitial_epoch\u001b[0m\u001b[1;33m,\u001b[0m\u001b[1;33m\u001b[0m\u001b[1;33m\u001b[0m\u001b[0m\n\u001b[0;32m   1038\u001b[0m                                         \u001b[0msteps_per_epoch\u001b[0m\u001b[1;33m=\u001b[0m\u001b[0msteps_per_epoch\u001b[0m\u001b[1;33m,\u001b[0m\u001b[1;33m\u001b[0m\u001b[1;33m\u001b[0m\u001b[0m\n\u001b[1;32m-> 1039\u001b[1;33m                                         validation_steps=validation_steps)\n\u001b[0m\u001b[0;32m   1040\u001b[0m \u001b[1;33m\u001b[0m\u001b[0m\n\u001b[0;32m   1041\u001b[0m     def evaluate(self, x=None, y=None,\n",
      "\u001b[1;32m~\\Anaconda3\\envs\\tensorflow\\lib\\site-packages\\keras\\engine\\training_arrays.py\u001b[0m in \u001b[0;36mfit_loop\u001b[1;34m(model, f, ins, out_labels, batch_size, epochs, verbose, callbacks, val_f, val_ins, shuffle, callback_metrics, initial_epoch, steps_per_epoch, validation_steps)\u001b[0m\n\u001b[0;32m    197\u001b[0m                     \u001b[0mins_batch\u001b[0m\u001b[1;33m[\u001b[0m\u001b[0mi\u001b[0m\u001b[1;33m]\u001b[0m \u001b[1;33m=\u001b[0m \u001b[0mins_batch\u001b[0m\u001b[1;33m[\u001b[0m\u001b[0mi\u001b[0m\u001b[1;33m]\u001b[0m\u001b[1;33m.\u001b[0m\u001b[0mtoarray\u001b[0m\u001b[1;33m(\u001b[0m\u001b[1;33m)\u001b[0m\u001b[1;33m\u001b[0m\u001b[1;33m\u001b[0m\u001b[0m\n\u001b[0;32m    198\u001b[0m \u001b[1;33m\u001b[0m\u001b[0m\n\u001b[1;32m--> 199\u001b[1;33m                 \u001b[0mouts\u001b[0m \u001b[1;33m=\u001b[0m \u001b[0mf\u001b[0m\u001b[1;33m(\u001b[0m\u001b[0mins_batch\u001b[0m\u001b[1;33m)\u001b[0m\u001b[1;33m\u001b[0m\u001b[1;33m\u001b[0m\u001b[0m\n\u001b[0m\u001b[0;32m    200\u001b[0m                 \u001b[0mouts\u001b[0m \u001b[1;33m=\u001b[0m \u001b[0mto_list\u001b[0m\u001b[1;33m(\u001b[0m\u001b[0mouts\u001b[0m\u001b[1;33m)\u001b[0m\u001b[1;33m\u001b[0m\u001b[1;33m\u001b[0m\u001b[0m\n\u001b[0;32m    201\u001b[0m                 \u001b[1;32mfor\u001b[0m \u001b[0ml\u001b[0m\u001b[1;33m,\u001b[0m \u001b[0mo\u001b[0m \u001b[1;32min\u001b[0m \u001b[0mzip\u001b[0m\u001b[1;33m(\u001b[0m\u001b[0mout_labels\u001b[0m\u001b[1;33m,\u001b[0m \u001b[0mouts\u001b[0m\u001b[1;33m)\u001b[0m\u001b[1;33m:\u001b[0m\u001b[1;33m\u001b[0m\u001b[1;33m\u001b[0m\u001b[0m\n",
      "\u001b[1;32m~\\Anaconda3\\envs\\tensorflow\\lib\\site-packages\\keras\\backend\\tensorflow_backend.py\u001b[0m in \u001b[0;36m__call__\u001b[1;34m(self, inputs)\u001b[0m\n\u001b[0;32m   2713\u001b[0m                 \u001b[1;32mreturn\u001b[0m \u001b[0mself\u001b[0m\u001b[1;33m.\u001b[0m\u001b[0m_legacy_call\u001b[0m\u001b[1;33m(\u001b[0m\u001b[0minputs\u001b[0m\u001b[1;33m)\u001b[0m\u001b[1;33m\u001b[0m\u001b[1;33m\u001b[0m\u001b[0m\n\u001b[0;32m   2714\u001b[0m \u001b[1;33m\u001b[0m\u001b[0m\n\u001b[1;32m-> 2715\u001b[1;33m             \u001b[1;32mreturn\u001b[0m \u001b[0mself\u001b[0m\u001b[1;33m.\u001b[0m\u001b[0m_call\u001b[0m\u001b[1;33m(\u001b[0m\u001b[0minputs\u001b[0m\u001b[1;33m)\u001b[0m\u001b[1;33m\u001b[0m\u001b[1;33m\u001b[0m\u001b[0m\n\u001b[0m\u001b[0;32m   2716\u001b[0m         \u001b[1;32melse\u001b[0m\u001b[1;33m:\u001b[0m\u001b[1;33m\u001b[0m\u001b[1;33m\u001b[0m\u001b[0m\n\u001b[0;32m   2717\u001b[0m             \u001b[1;32mif\u001b[0m \u001b[0mpy_any\u001b[0m\u001b[1;33m(\u001b[0m\u001b[0mis_tensor\u001b[0m\u001b[1;33m(\u001b[0m\u001b[0mx\u001b[0m\u001b[1;33m)\u001b[0m \u001b[1;32mfor\u001b[0m \u001b[0mx\u001b[0m \u001b[1;32min\u001b[0m \u001b[0minputs\u001b[0m\u001b[1;33m)\u001b[0m\u001b[1;33m:\u001b[0m\u001b[1;33m\u001b[0m\u001b[1;33m\u001b[0m\u001b[0m\n",
      "\u001b[1;32m~\\Anaconda3\\envs\\tensorflow\\lib\\site-packages\\keras\\backend\\tensorflow_backend.py\u001b[0m in \u001b[0;36m_call\u001b[1;34m(self, inputs)\u001b[0m\n\u001b[0;32m   2673\u001b[0m             \u001b[0mfetched\u001b[0m \u001b[1;33m=\u001b[0m \u001b[0mself\u001b[0m\u001b[1;33m.\u001b[0m\u001b[0m_callable_fn\u001b[0m\u001b[1;33m(\u001b[0m\u001b[1;33m*\u001b[0m\u001b[0marray_vals\u001b[0m\u001b[1;33m,\u001b[0m \u001b[0mrun_metadata\u001b[0m\u001b[1;33m=\u001b[0m\u001b[0mself\u001b[0m\u001b[1;33m.\u001b[0m\u001b[0mrun_metadata\u001b[0m\u001b[1;33m)\u001b[0m\u001b[1;33m\u001b[0m\u001b[1;33m\u001b[0m\u001b[0m\n\u001b[0;32m   2674\u001b[0m         \u001b[1;32melse\u001b[0m\u001b[1;33m:\u001b[0m\u001b[1;33m\u001b[0m\u001b[1;33m\u001b[0m\u001b[0m\n\u001b[1;32m-> 2675\u001b[1;33m             \u001b[0mfetched\u001b[0m \u001b[1;33m=\u001b[0m \u001b[0mself\u001b[0m\u001b[1;33m.\u001b[0m\u001b[0m_callable_fn\u001b[0m\u001b[1;33m(\u001b[0m\u001b[1;33m*\u001b[0m\u001b[0marray_vals\u001b[0m\u001b[1;33m)\u001b[0m\u001b[1;33m\u001b[0m\u001b[1;33m\u001b[0m\u001b[0m\n\u001b[0m\u001b[0;32m   2676\u001b[0m         \u001b[1;32mreturn\u001b[0m \u001b[0mfetched\u001b[0m\u001b[1;33m[\u001b[0m\u001b[1;33m:\u001b[0m\u001b[0mlen\u001b[0m\u001b[1;33m(\u001b[0m\u001b[0mself\u001b[0m\u001b[1;33m.\u001b[0m\u001b[0moutputs\u001b[0m\u001b[1;33m)\u001b[0m\u001b[1;33m]\u001b[0m\u001b[1;33m\u001b[0m\u001b[1;33m\u001b[0m\u001b[0m\n\u001b[0;32m   2677\u001b[0m \u001b[1;33m\u001b[0m\u001b[0m\n",
      "\u001b[1;32m~\\Anaconda3\\envs\\tensorflow\\lib\\site-packages\\tensorflow\\python\\client\\session.py\u001b[0m in \u001b[0;36m__call__\u001b[1;34m(self, *args, **kwargs)\u001b[0m\n\u001b[0;32m   1437\u001b[0m           ret = tf_session.TF_SessionRunCallable(\n\u001b[0;32m   1438\u001b[0m               \u001b[0mself\u001b[0m\u001b[1;33m.\u001b[0m\u001b[0m_session\u001b[0m\u001b[1;33m.\u001b[0m\u001b[0m_session\u001b[0m\u001b[1;33m,\u001b[0m \u001b[0mself\u001b[0m\u001b[1;33m.\u001b[0m\u001b[0m_handle\u001b[0m\u001b[1;33m,\u001b[0m \u001b[0margs\u001b[0m\u001b[1;33m,\u001b[0m \u001b[0mstatus\u001b[0m\u001b[1;33m,\u001b[0m\u001b[1;33m\u001b[0m\u001b[1;33m\u001b[0m\u001b[0m\n\u001b[1;32m-> 1439\u001b[1;33m               run_metadata_ptr)\n\u001b[0m\u001b[0;32m   1440\u001b[0m         \u001b[1;32mif\u001b[0m \u001b[0mrun_metadata\u001b[0m\u001b[1;33m:\u001b[0m\u001b[1;33m\u001b[0m\u001b[1;33m\u001b[0m\u001b[0m\n\u001b[0;32m   1441\u001b[0m           \u001b[0mproto_data\u001b[0m \u001b[1;33m=\u001b[0m \u001b[0mtf_session\u001b[0m\u001b[1;33m.\u001b[0m\u001b[0mTF_GetBuffer\u001b[0m\u001b[1;33m(\u001b[0m\u001b[0mrun_metadata_ptr\u001b[0m\u001b[1;33m)\u001b[0m\u001b[1;33m\u001b[0m\u001b[1;33m\u001b[0m\u001b[0m\n",
      "\u001b[1;31mKeyboardInterrupt\u001b[0m: "
     ]
    }
   ],
   "source": [
    "n_dim = trainX.shape[2]\n",
    "# create and fit the LSTM network\n",
    "s, model = networks_factory.create_lstm_model(lstm_neurons=networks_factory.HIDDEN_NEURONS, \n",
    "                                              hidden_layers=networks_factory.HIDDEN_LAYERS, \n",
    "                                              lenth=time_steps, dims=n_dim, n_out=1)\n",
    "# model = load_model(model_dir + \"model.h5\")\n",
    "\n",
    "n_epoch = networks_factory.EPOCHS\n",
    "n_batch_size = networks_factory.BATCH_SIZE\n",
    "model_dir = const.EXPERIMENTS_DIR + \"/apple/lstm_univariate/\"\n",
    "\n",
    "model.compile(loss='mean_squared_error', optimizer='adam')\n",
    "history = model.fit(trainX, trainY, epochs=10, batch_size=n_batch_size, validation_split=const.VALIDATION_SCALE,\n",
    "                    verbose=2, callbacks=[networks_factory.ES])  # verbose：debug信息"
   ]
  },
  {
   "cell_type": "code",
   "execution_count": null,
   "metadata": {},
   "outputs": [],
   "source": [
    "print_summary(model)  # after the model was built"
   ]
  },
  {
   "cell_type": "code",
   "execution_count": null,
   "metadata": {},
   "outputs": [],
   "source": [
    "# Plot training & validation loss values\n",
    "plt.plot(history.history['loss'])\n",
    "plt.plot(history.history['val_loss'])\n",
    "plt.title('Model loss')\n",
    "plt.ylabel('Loss')\n",
    "plt.xlabel('Epoch')\n",
    "plt.legend(['Train', 'Test'], loc='upper left')\n",
    "plt.show()"
   ]
  },
  {
   "cell_type": "markdown",
   "metadata": {},
   "source": [
    "## 预测评估\n",
    "Note that traing data are shuffled..."
   ]
  },
  {
   "cell_type": "code",
   "execution_count": 30,
   "metadata": {},
   "outputs": [],
   "source": [
    "# for time's order\n",
    "trainX, trainY = train[:, 0:n_lag], train[:, n_lag:]\n",
    "trainX = numpy.reshape(trainX, (trainX.shape[0], time_steps, trainX.shape[1]//time_steps)) "
   ]
  },
  {
   "cell_type": "code",
   "execution_count": 31,
   "metadata": {},
   "outputs": [
    {
     "name": "stdout",
     "output_type": "stream",
     "text": [
      "Train RMSE: 0.5576, Validate RMSE: 0.2600\n",
      "Train MAPE: 0.0284, Validate MAPE: 0.0210\n",
      "Train Dstat: 0.7480, Validate Dstat: 0.7360\n"
     ]
    }
   ],
   "source": [
    "n_validate = int(len(trainX) * const.VALIDATION_SCALE)\n",
    "\n",
    "# make a prediction\n",
    "train_predict = model.predict(trainX)\n",
    "validate_predict = train_predict[-n_validate:]\n",
    "# invert predictions\n",
    "inv_trainP = scaler.inverse_transform(train_predict)\n",
    "inv_trainY = scaler.inverse_transform(trainY)\n",
    "inv_validateP = inv_trainP[-n_validate:]\n",
    "inv_validateY = inv_trainY[-n_validate:]\n",
    "\n",
    "# invert trainPredict differencing\n",
    "inv_diff_trainP = train_predict.copy()\n",
    "# inv_diff_trainPredict = trainY.copy()  # test inv_diff's for loop; clear\n",
    "for i in range(len(train_predict)):\n",
    "    index = diff_internal + n_lag + i - 1  # 1 step forward\n",
    "    inv_diff_trainP[i] = dataset[index] + inv_diff_trainP[i]\n",
    "inv_diff_trainY = dataset[(diff_internal + n_lag):-n_test, :]\n",
    "\n",
    "inv_diff_validateP = inv_diff_trainP[-n_validate:]\n",
    "inv_diff_validateY = inv_diff_trainY[-n_validate:]\n",
    "\n",
    "# calculate RMSE, MAPE, Dstat\n",
    "train_rmse = math.sqrt(mean_squared_error(inv_diff_trainY, inv_diff_trainP))\n",
    "validate_rmse = math.sqrt(mean_squared_error(inv_diff_validateY, inv_diff_validateP))\n",
    "print('Train RMSE: %.4f, Validate RMSE: %.4f' % (train_rmse, validate_rmse))\n",
    "\n",
    "train_mape = data_metrics.MAPE(inv_diff_trainY, inv_diff_trainP)\n",
    "validate_mape = data_metrics.MAPE(inv_diff_validateY, inv_diff_validateP)\n",
    "print('Train MAPE: %.4f, Validate MAPE: %.4f' % (train_mape, validate_mape))\n",
    "\n",
    "train_ds = data_metrics.Dstat(inv_diff_trainY, inv_diff_trainP)\n",
    "validate_ds = data_metrics.Dstat(inv_diff_validateY, inv_diff_validateP)\n",
    "print('Train Dstat: %.4f, Validate Dstat: %.4f' % (train_ds, validate_ds))"
   ]
  },
  {
   "cell_type": "code",
   "execution_count": 13,
   "metadata": {},
   "outputs": [
    {
     "name": "stdout",
     "output_type": "stream",
     "text": [
      "# shape (1363, 1)\n",
      "# shape (1363, 1)\n",
      "# shape (340, 1)\n",
      "# shape (340, 1)\n"
     ]
    }
   ],
   "source": [
    "# make predictions\n",
    "trainPredict = model.predict(trainX)\n",
    "testPredict = model.predict(testX)\n",
    "\n",
    "# invert predictions\n",
    "inv_trainP = scaler.inverse_transform(trainPredict)\n",
    "inv_trainY = scaler.inverse_transform(trainY)\n",
    "inv_testP = scaler.inverse_transform(testPredict)\n",
    "inv_testY = scaler.inverse_transform(testY)\n",
    "\n",
    "# invert trainPredict differencing\n",
    "inv_diff_trainPredict = trainPredict.copy()\n",
    "# inv_diff_trainPredict = trainY.copy()  # test inv_diff's for loop; clear\n",
    "for i in range(len(trainPredict)):\n",
    "    index = diff_internal + n_lag + i - 1  # 1 step forward\n",
    "    inv_diff_trainPredict[i] = dataset[index] + inv_diff_trainPredict[i]\n",
    "print(\"# shape\", inv_diff_trainPredict.shape)\n",
    "# print(inv_diff_trainPredict)\n",
    "    \n",
    "inv_diff_trainY = dataset[(diff_internal + n_lag):-n_test, :]\n",
    "print(\"# shape\", inv_diff_trainY.shape)\n",
    "# print(inv_diff_trainY)\n",
    "\n",
    "# invert testPredict differencing\n",
    "inv_diff_testPredict = testPredict.copy()\n",
    "# inv_diff_testPredict = testY.copy()  # test inv_diff's for loop; clear\n",
    "for i in range(len(testPredict)):\n",
    "    index = -n_test + i - 1  # 1 step forward\n",
    "    inv_diff_testPredict[i] = dataset[index] + inv_diff_testPredict[i]\n",
    "print(\"# shape\", inv_diff_testPredict.shape)\n",
    "# print(inv_diff_testPredict)\n",
    "    \n",
    "inv_diff_testY = dataset[-n_test:, :]\n",
    "print(\"# shape\", inv_diff_testY.shape)\n",
    "# print(inv_diff_testY)"
   ]
  },
  {
   "cell_type": "code",
   "execution_count": 14,
   "metadata": {},
   "outputs": [
    {
     "name": "stdout",
     "output_type": "stream",
     "text": [
      "Train RMSE: 0.1079, Test RMSE: 0.0987\n",
      "Train MAPE: 0.0307, Test MAPE: 0.0341\n",
      "Train Dstat: 0.8231, Test Dstat: 0.7640\n"
     ]
    }
   ],
   "source": [
    "# calculate RMSE, MAPE, Dstat\n",
    "train_rmse = math.sqrt(mean_squared_error(inv_diff_trainY, inv_diff_trainPredict))\n",
    "test_rmse = math.sqrt(mean_squared_error(inv_diff_testY, inv_diff_testPredict))\n",
    "print('Train RMSE: %.4f, Test RMSE: %.4f' % (train_rmse, test_rmse))\n",
    "\n",
    "train_mape = data_metrics.MAPE(inv_diff_trainY, inv_diff_trainPredict)\n",
    "test_mape = data_metrics.MAPE(inv_diff_testY, inv_diff_testPredict)\n",
    "print('Train MAPE: %.4f, Test MAPE: %.4f' % (train_mape, test_mape))\n",
    "\n",
    "train_ds = data_metrics.Dstat(inv_diff_trainY, inv_diff_trainPredict)\n",
    "test_ds = data_metrics.Dstat(inv_diff_testY, inv_diff_testPredict)\n",
    "print('Train Dstat: %.4f, Test Dstat: %.4f' % (train_ds, test_ds))"
   ]
  },
  {
   "cell_type": "markdown",
   "metadata": {},
   "source": [
    "## 画出结果"
   ]
  },
  {
   "cell_type": "code",
   "execution_count": 15,
   "metadata": {},
   "outputs": [
    {
     "data": {
      "image/png": "[encoded data removed]",
      "text/plain": [
       "<Figure size 432x288 with 1 Axes>"
      ]
     },
     "metadata": {
      "needs_background": "light"
     },
     "output_type": "display_data"
    }
   ],
   "source": [
    "look_back = n_lag\n",
    "\n",
    "# shift train predictions for plotting\n",
    "trainPredictPlot = numpy.empty_like(dataset)\n",
    "trainPredictPlot[:, :] = numpy.nan\n",
    "trainPredictPlot[look_back:len(inv_diff_trainPredict)+look_back, :] = inv_diff_trainPredict[:]  # 不包括len(trainPredict)+look_back\n",
    "\n",
    "# shift test predictions for plotting\n",
    "testPredictPlot = numpy.empty_like(dataset)\n",
    "testPredictPlot[:, :] = numpy.nan\n",
    "testPredictPlot[len(inv_diff_trainPredict)+look_back+1:len(dataset),:] = inv_diff_testPredict[:]\n",
    "# 注意由于划分了训练集和测试集，总的samples数目会减少：len(dataset - lookback) - (len(trainX)+len(testX))\n",
    "\n",
    "# plot baseline and predictions\n",
    "plt.plot(dataset)\n",
    "plt.plot(trainPredictPlot)\n",
    "plt.plot(testPredictPlot)\n",
    "plt.show()"
   ]
  },
  {
   "cell_type": "markdown",
   "metadata": {},
   "source": [
    "## Save Model"
   ]
  },
  {
   "cell_type": "code",
   "execution_count": 16,
   "metadata": {},
   "outputs": [],
   "source": [
    "# 保存参数，载入参数\n",
    "# model.save(model_dir + \"model.h5\")  # HDF5文件，pip install h5py\n",
    "# model.save_weights(model_dir + \"my_model_weights.h5\")\n",
    "# model.load_weights('my_model_weights.h5')"
   ]
  },
  {
   "cell_type": "markdown",
   "metadata": {},
   "source": [
    "参考：[Time Series Prediction with LSTM Recurrent Neural Networks in Python with Keras](https://machinelearningmastery.com/time-series-prediction-lstm-recurrent-neural-networks-python-keras/\"Title\")"
   ]
  }
 ],
 "metadata": {
  "kernelspec": {
   "display_name": "Python 3",
   "language": "python",
   "name": "python3"
  },
  "language_info": {
   "codemirror_mode": {
    "name": "ipython",
    "version": 3
   },
   "file_extension": ".py",
   "mimetype": "text/x-python",
   "name": "python",
   "nbconvert_exporter": "python",
   "pygments_lexer": "ipython3",
   "version": "3.6.8"
  }
 },
 "nbformat": 4,
 "nbformat_minor": 2
}
