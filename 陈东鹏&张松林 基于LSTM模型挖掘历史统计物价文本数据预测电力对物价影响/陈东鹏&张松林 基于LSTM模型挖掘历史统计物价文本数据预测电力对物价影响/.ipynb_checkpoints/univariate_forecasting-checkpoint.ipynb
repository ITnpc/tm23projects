{
 "cells": [
  {
   "cell_type": "markdown",
   "metadata": {},
   "source": [
    "# 用 LSTM 做时间序列预测"
   ]
  },
  {
   "cell_type": "code",
   "execution_count": 54,
   "metadata": {},
   "outputs": [],
   "source": [
    "import numpy\n",
    "import matplotlib.pyplot as plt\n",
    "import pandas\n",
    "import math\n",
    "from keras.models import Sequential\n",
    "from keras.layers import Dense\n",
    "from keras.layers import LSTM\n",
    "from sklearn.preprocessing import MinMaxScaler\n",
    "from sklearn.metrics import mean_squared_error\n",
    "%matplotlib inline"
   ]
  },
  {
   "cell_type": "code",
   "execution_count": 55,
   "metadata": {},
   "outputs": [],
   "source": [
    "# fix random seed for reproducibility\n",
    "numpy.random.seed(7)"
   ]
  },
  {
   "cell_type": "markdown",
   "metadata": {},
   "source": [
    "## 导入数据"
   ]
  },
  {
   "cell_type": "code",
   "execution_count": 56,
   "metadata": {},
   "outputs": [
    {
     "name": "stdout",
     "output_type": "stream",
     "text": [
      "   price\n",
      "0  10.71\n",
      "1  10.71\n",
      "2  10.71\n",
      "      price\n",
      "1666    7.5\n",
      "1667    7.5\n",
      "\n",
      "dataset's shape:  (1668, 1)\n"
     ]
    },
    {
     "data": {
      "image/png": "[encoded data removed]",
      "text/plain": [
       "<Figure size 432x288 with 1 Axes>"
      ]
     },
     "metadata": {
      "needs_background": "light"
     },
     "output_type": "display_data"
    }
   ],
   "source": [
    "# load the dataset\n",
    "FILENAME = \"agricultural_products_data/apple_interpolate.csv\"\n",
    "dataframe = pandas.read_csv(FILENAME, usecols=[2], engine='python')\n",
    "print(dataframe.head(3)) #-查看dataframe的前几行，默认为5\n",
    "print(dataframe.tail(2)) \n",
    "\n",
    "dataset = dataframe.values #-Return a Numpy representation of the DataFrame\n",
    "dataset = dataset.astype('float32') #-变为 float type\n",
    "\n",
    "print(\"\\ndataset's shape: \", dataset.shape)\n",
    "plt.plot(dataset)\n",
    "plt.show()"
   ]
  },
  {
   "cell_type": "markdown",
   "metadata": {},
   "source": [
    "## 数据转化与处理"
   ]
  },
  {
   "cell_type": "code",
   "execution_count": 57,
   "metadata": {},
   "outputs": [],
   "source": [
    "# normalize the dataset\n",
    "scaler = MinMaxScaler(feature_range=(0, 1))\n",
    "dataset = scaler.fit_transform(dataset)"
   ]
  },
  {
   "cell_type": "code",
   "execution_count": 58,
   "metadata": {},
   "outputs": [
    {
     "name": "stdout",
     "output_type": "stream",
     "text": [
      "1334 334\n",
      "True\n"
     ]
    }
   ],
   "source": [
    "# split into train and test sets\n",
    "train_size = int(len(dataset) * 0.80)\n",
    "test_size = len(dataset) - train_size\n",
    "train, test = dataset[0:train_size,:], dataset[train_size:len(dataset),:]\n",
    "print(len(train), len(test))\n",
    "print(len(dataset) == len(train)+len(test))"
   ]
  },
  {
   "cell_type": "code",
   "execution_count": 59,
   "metadata": {},
   "outputs": [],
   "source": [
    "# convert an array of values into a dataset matrix\n",
    "def create_dataset(dataset, look_back=1):\n",
    "    dataX, dataY = [], []\n",
    "    for i in range(len(dataset)-look_back): #原文-1错了，\"for i in range(n)\"为[0,n-1]\n",
    "        a = dataset[i:(i+look_back), 0] # 不包括i+look_back\n",
    "        dataX.append(a)\n",
    "        dataY.append(dataset[i + look_back, 0]) #单值\n",
    "    return numpy.array(dataX), numpy.array(dataY)"
   ]
  },
  {
   "cell_type": "code",
   "execution_count": 60,
   "metadata": {},
   "outputs": [
    {
     "name": "stdout",
     "output_type": "stream",
     "text": [
      "1304 304\n"
     ]
    }
   ],
   "source": [
    "# reshape into X=t and Y=t+1\n",
    "look_back = 30\n",
    "trainX, trainY = create_dataset(train, look_back)\n",
    "testX, testY = create_dataset(test, look_back)\n",
    "print(len(trainX), len(testX)) #应等于train-look_back\n",
    "# print(trainX[0:5,:]) #先注释掉MinMax处理再检查\n",
    "# print(trainY[0:5])"
   ]
  },
  {
   "cell_type": "markdown",
   "metadata": {},
   "source": [
    "The LSTM network expects the input data (X) to be provided with a specific array structure in the form of: **[samples, time steps, features]**.\n",
    "\n",
    "Currently, our data is in the form: **[samples, features]** and we are framing the problem as one time step for each sample. We can transform the prepared train and test input data into the expected structure using numpy.reshape() as follows:"
   ]
  },
  {
   "cell_type": "code",
   "execution_count": 61,
   "metadata": {},
   "outputs": [
    {
     "name": "stdout",
     "output_type": "stream",
     "text": [
      "(1304, 30, 1)\n"
     ]
    }
   ],
   "source": [
    "# reshape input to be [samples, time steps, features]\n",
    "time_steps = 30\n",
    "trainX = numpy.reshape(trainX, (trainX.shape[0], time_steps, trainX.shape[1]//time_steps)) \n",
    "print(trainX.shape)\n",
    "testX = numpy.reshape(testX, (testX.shape[0], time_steps, testX.shape[1]//time_steps))\n",
    "# print(testX)"
   ]
  },
  {
   "cell_type": "markdown",
   "metadata": {},
   "source": [
    "## 建立 LSTM 模型"
   ]
  },
  {
   "cell_type": "code",
   "execution_count": 62,
   "metadata": {},
   "outputs": [
    {
     "name": "stdout",
     "output_type": "stream",
     "text": [
      "Train on 1043 samples, validate on 261 samples\n",
      "Epoch 1/30\n",
      "1043/1043 [==============================] - 3s 2ms/step - loss: 0.1057 - val_loss: 0.0077\n",
      "Epoch 2/30\n",
      "1043/1043 [==============================] - 1s 1ms/step - loss: 0.0153 - val_loss: 0.0089\n",
      "Epoch 3/30\n",
      "1043/1043 [==============================] - 1s 1ms/step - loss: 0.0127 - val_loss: 0.0057\n",
      "Epoch 4/30\n",
      "1043/1043 [==============================] - 1s 1ms/step - loss: 0.0119 - val_loss: 0.0045\n",
      "Epoch 5/30\n",
      "1043/1043 [==============================] - 1s 1ms/step - loss: 0.0112 - val_loss: 0.0033\n",
      "Epoch 6/30\n",
      "1043/1043 [==============================] - 1s 1ms/step - loss: 0.0108 - val_loss: 0.0034\n",
      "Epoch 7/30\n",
      "1043/1043 [==============================] - 1s 1ms/step - loss: 0.0106 - val_loss: 0.0038\n",
      "Epoch 8/30\n",
      "1043/1043 [==============================] - 1s 1ms/step - loss: 0.0100 - val_loss: 0.0028\n",
      "Epoch 9/30\n",
      "1043/1043 [==============================] - 1s 1ms/step - loss: 0.0095 - val_loss: 0.0025\n",
      "Epoch 10/30\n",
      "1043/1043 [==============================] - 1s 1ms/step - loss: 0.0092 - val_loss: 0.0027\n",
      "Epoch 11/30\n",
      "1043/1043 [==============================] - 1s 1ms/step - loss: 0.0087 - val_loss: 0.0027\n",
      "Epoch 12/30\n",
      "1043/1043 [==============================] - 1s 1ms/step - loss: 0.0086 - val_loss: 0.0031\n",
      "Epoch 13/30\n",
      "1043/1043 [==============================] - 1s 1ms/step - loss: 0.0082 - val_loss: 0.0027\n",
      "Epoch 14/30\n",
      "1043/1043 [==============================] - 1s 1ms/step - loss: 0.0076 - val_loss: 0.0021\n",
      "Epoch 15/30\n",
      "1043/1043 [==============================] - 1s 1ms/step - loss: 0.0073 - val_loss: 0.0021\n",
      "Epoch 16/30\n",
      "1043/1043 [==============================] - 1s 1ms/step - loss: 0.0069 - val_loss: 0.0021\n",
      "Epoch 17/30\n",
      "1043/1043 [==============================] - 1s 1ms/step - loss: 0.0068 - val_loss: 0.0022\n",
      "Epoch 18/30\n",
      "1043/1043 [==============================] - 1s 1ms/step - loss: 0.0068 - val_loss: 0.0019\n",
      "Epoch 19/30\n",
      "1043/1043 [==============================] - 1s 1ms/step - loss: 0.0061 - val_loss: 0.0017\n",
      "Epoch 20/30\n",
      "1043/1043 [==============================] - 1s 1ms/step - loss: 0.0058 - val_loss: 0.0013\n",
      "Epoch 21/30\n",
      "1043/1043 [==============================] - 1s 1ms/step - loss: 0.0055 - val_loss: 0.0011\n",
      "Epoch 22/30\n",
      "1043/1043 [==============================] - 1s 1ms/step - loss: 0.0054 - val_loss: 0.0014\n",
      "Epoch 23/30\n",
      "1043/1043 [==============================] - 1s 1ms/step - loss: 0.0051 - val_loss: 0.0013\n",
      "Epoch 24/30\n",
      "1043/1043 [==============================] - 1s 1ms/step - loss: 0.0048 - val_loss: 0.0011\n",
      "Epoch 25/30\n",
      "1043/1043 [==============================] - 1s 1ms/step - loss: 0.0048 - val_loss: 9.2375e-04\n",
      "Epoch 26/30\n",
      "1043/1043 [==============================] - 1s 1ms/step - loss: 0.0050 - val_loss: 0.0012\n",
      "Epoch 27/30\n",
      "1043/1043 [==============================] - 1s 1ms/step - loss: 0.0045 - val_loss: 0.0010\n",
      "Epoch 28/30\n",
      "1043/1043 [==============================] - 1s 1ms/step - loss: 0.0044 - val_loss: 8.5122e-04\n",
      "Epoch 29/30\n",
      "1043/1043 [==============================] - 1s 1ms/step - loss: 0.0045 - val_loss: 8.6197e-04\n",
      "Epoch 30/30\n",
      "1043/1043 [==============================] - 1s 1ms/step - loss: 0.0044 - val_loss: 8.7576e-04\n"
     ]
    },
    {
     "data": {
      "text/plain": [
       "<keras.callbacks.History at 0x21e21be0>"
      ]
     },
     "execution_count": 62,
     "metadata": {},
     "output_type": "execute_result"
    }
   ],
   "source": [
    "# create and fit the LSTM network\n",
    "model = Sequential()\n",
    "model.add(LSTM(32, input_shape=(time_steps, look_back//time_steps)))\n",
    "model.add(Dense(1))\n",
    "model.compile(loss='mean_squared_error', optimizer='adam')\n",
    "model.fit(trainX, trainY, epochs=30, batch_size=32, validation_split=0.20, verbose=1) #verbose：debug信息\n",
    "# epochs=30, nearly converge"
   ]
  },
  {
   "cell_type": "markdown",
   "metadata": {},
   "source": [
    "## 预测评估"
   ]
  },
  {
   "cell_type": "code",
   "execution_count": 63,
   "metadata": {},
   "outputs": [
    {
     "name": "stdout",
     "output_type": "stream",
     "text": [
      "Train Score: 0.71 RMSE\n",
      "Test Score: 0.31 RMSE\n"
     ]
    }
   ],
   "source": [
    "# make predictions\n",
    "trainPredict = model.predict(trainX)\n",
    "testPredict = model.predict(testX)\n",
    "\n",
    "# invert predictions\n",
    "trainPredict = scaler.inverse_transform(trainPredict)\n",
    "trainY = scaler.inverse_transform([trainY])\n",
    "testPredict = scaler.inverse_transform(testPredict)\n",
    "testY = scaler.inverse_transform([testY])\n",
    "\n",
    "# calculate root mean squared error\n",
    "trainScore = math.sqrt(mean_squared_error(trainY[0], trainPredict[:,0]))\n",
    "print('Train Score: %.2f RMSE' % (trainScore))\n",
    "testScore = math.sqrt(mean_squared_error(testY[0], testPredict[:,0]))\n",
    "print('Test Score: %.2f RMSE' % (testScore))"
   ]
  },
  {
   "cell_type": "markdown",
   "metadata": {},
   "source": [
    "## 画出结果"
   ]
  },
  {
   "cell_type": "code",
   "execution_count": 64,
   "metadata": {},
   "outputs": [
    {
     "data": {
      "image/png": "[encoded data removed]",
      "text/plain": [
       "<Figure size 432x288 with 1 Axes>"
      ]
     },
     "metadata": {
      "needs_background": "light"
     },
     "output_type": "display_data"
    }
   ],
   "source": [
    "# shift train predictions for plotting\n",
    "trainPredictPlot = numpy.empty_like(dataset)\n",
    "trainPredictPlot[:, :] = numpy.nan\n",
    "trainPredictPlot[look_back:len(trainPredict)+look_back, :] = trainPredict #不包括len(trainPredict)+look_back\n",
    "\n",
    "# shift test predictions for plotting\n",
    "testPredictPlot = numpy.empty_like(dataset)\n",
    "testPredictPlot[:, :] = numpy.nan\n",
    "testPredictPlot[len(trainPredict)+look_back*2:len(dataset), :] = testPredict #根据create_dataset()的小bug作相应更改，\n",
    "\n",
    "# 注意由于划分了训练集和测试集，总的samples数目会减少：len(dataset - lookback) - (len(trainX)+len(testX))\n",
    "\n",
    "# plot baseline and predictions\n",
    "plt.plot(scaler.inverse_transform(dataset))\n",
    "plt.plot(trainPredictPlot)\n",
    "plt.plot(testPredictPlot)\n",
    "plt.show()"
   ]
  },
  {
   "cell_type": "code",
   "execution_count": null,
   "metadata": {},
   "outputs": [],
   "source": []
  },
  {
   "cell_type": "markdown",
   "metadata": {},
   "source": [
    "参考：[Time Series Prediction with LSTM Recurrent Neural Networks in Python with Keras](https://machinelearningmastery.com/time-series-prediction-lstm-recurrent-neural-networks-python-keras/\"Title\")"
   ]
  }
 ],
 "metadata": {
  "kernelspec": {
   "display_name": "Python 3",
   "language": "python",
   "name": "python3"
  },
  "language_info": {
   "codemirror_mode": {
    "name": "ipython",
    "version": 3
   },
   "file_extension": ".py",
   "mimetype": "text/x-python",
   "name": "python",
   "nbconvert_exporter": "python",
   "pygments_lexer": "ipython3",
   "version": "3.6.8"
  }
 },
 "nbformat": 4,
 "nbformat_minor": 2
}
