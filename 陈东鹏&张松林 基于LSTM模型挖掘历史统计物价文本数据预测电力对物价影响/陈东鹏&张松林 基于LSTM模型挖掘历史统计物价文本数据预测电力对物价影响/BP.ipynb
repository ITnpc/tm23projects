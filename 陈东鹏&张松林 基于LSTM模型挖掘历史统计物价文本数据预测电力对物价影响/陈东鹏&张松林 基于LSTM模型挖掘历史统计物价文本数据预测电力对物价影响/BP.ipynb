{
 "cells": [
  {
   "cell_type": "code",
   "execution_count": 1,
   "metadata": {},
   "outputs": [
    {
     "name": "stderr",
     "output_type": "stream",
     "text": [
      "Using TensorFlow backend.\n"
     ]
    }
   ],
   "source": [
    "import math\n",
    "import numpy as np\n",
    "import matplotlib.pyplot as plt\n",
    "from sklearn.metrics import mean_squared_error\n",
    "from utils import data_tools, networks_factory, data_metrics\n",
    "from utils.constants import const\n",
    "%matplotlib inline"
   ]
  },
  {
   "cell_type": "code",
   "execution_count": 2,
   "metadata": {},
   "outputs": [],
   "source": [
    "# fix random seed for reproducibility\n",
    "seed = 7\n",
    "np.random.seed(seed)"
   ]
  },
  {
   "cell_type": "markdown",
   "metadata": {},
   "source": [
    "## Nnotice: no MinMaxScaler(feature_range=(-1, 1))"
   ]
  },
  {
   "cell_type": "code",
   "execution_count": 3,
   "metadata": {},
   "outputs": [
    {
     "name": "stdout",
     "output_type": "stream",
     "text": [
      "# shape:  (1901, 1)\n",
      "# lenth:  1871 1871\n",
      "# shape:  (1871, 30)\n"
     ]
    }
   ],
   "source": [
    "# load pima indians dataset\n",
    "dataset, dates = data_tools.load_data_from_csv(const.DATA_DIR + \"apple_interpolate.csv\")\n",
    "print(\"# shape: \", dataset.shape)\n",
    "# print(dataset)\n",
    "\n",
    "# reshape into X=t and Y=t+1\n",
    "look_back = const.LOOK_BACK\n",
    "dataX, dataY = data_tools.create_dataset(dataset, look_back)\n",
    "print(\"# lenth: \", len(dataX), len(dataY))  # 应等于len(dataset)-look_back\n",
    "print(\"# shape: \", dataX.shape)"
   ]
  },
  {
   "cell_type": "code",
   "execution_count": 4,
   "metadata": {},
   "outputs": [
    {
     "name": "stdout",
     "output_type": "stream",
     "text": [
      "# lenth:  1496 375\n",
      "True\n"
     ]
    }
   ],
   "source": [
    "# split into train and test sets; after create supervised data\n",
    "# otherwise, if firstly 划分训练集和测试集，总的samples数目会减少：len(dataset - lookback) - (len(trainX)+len(testX))\n",
    "train_size = int(len(dataX) * const.TRAIN_SCALE)\n",
    "test_size = len(dataX) - train_size\n",
    "trainX, testX = dataX[0:train_size,:], dataX[train_size:len(dataset),:]\n",
    "trainY, testY = dataY[0:train_size], dataY[train_size:len(dataset)]\n",
    "print(\"# lenth: \", len(trainX), len(testX))\n",
    "print(len(dataX) == len(trainX)+len(testX))"
   ]
  },
  {
   "cell_type": "code",
   "execution_count": 5,
   "metadata": {},
   "outputs": [
    {
     "name": "stdout",
     "output_type": "stream",
     "text": [
      "Train on 1122 samples, validate on 374 samples\n",
      "Epoch 1/10\n",
      "1122/1122 [==============================] - 0s 393us/step - loss: 66.1057 - val_loss: 0.8328\n",
      "Epoch 2/10\n",
      "1122/1122 [==============================] - 0s 44us/step - loss: 3.2109 - val_loss: 0.4179\n",
      "Epoch 3/10\n",
      "1122/1122 [==============================] - 0s 48us/step - loss: 2.4386 - val_loss: 0.2772\n",
      "Epoch 4/10\n",
      "1122/1122 [==============================] - 0s 45us/step - loss: 2.3135 - val_loss: 0.2707\n",
      "Epoch 5/10\n",
      "1122/1122 [==============================] - 0s 44us/step - loss: 2.2243 - val_loss: 0.2639\n",
      "Epoch 6/10\n",
      "1122/1122 [==============================] - 0s 57us/step - loss: 2.1419 - val_loss: 0.2560\n",
      "Epoch 7/10\n",
      "1122/1122 [==============================] - 0s 51us/step - loss: 2.0521 - val_loss: 0.2453\n",
      "Epoch 8/10\n",
      "1122/1122 [==============================] - 0s 59us/step - loss: 1.9541 - val_loss: 0.2540\n",
      "Epoch 9/10\n",
      "1122/1122 [==============================] - 0s 51us/step - loss: 1.8492 - val_loss: 0.2232\n",
      "Epoch 10/10\n",
      "1122/1122 [==============================] - 0s 58us/step - loss: 1.7264 - val_loss: 0.2111\n"
     ]
    },
    {
     "data": {
      "text/plain": [
       "<keras.callbacks.History at 0xe8fe898>"
      ]
     },
     "execution_count": 5,
     "metadata": {},
     "output_type": "execute_result"
    }
   ],
   "source": [
    "dim = look_back\n",
    "# create model\n",
    "s, model = networks_factory.create_bp_model(hidden_neurons=32, dims=dim, n_out=1)\n",
    "# Compile model\n",
    "model.compile(loss='mean_squared_error', optimizer='adam')  # notice: Classification problem and regression problem\n",
    "# Fit the model\n",
    "model.fit(trainX, trainY, epochs=10, batch_size=30, validation_split=const.VALIDATION_SCALE, verbose=1)"
   ]
  },
  {
   "cell_type": "code",
   "execution_count": 6,
   "metadata": {},
   "outputs": [
    {
     "name": "stdout",
     "output_type": "stream",
     "text": [
      "Train Score: 1.14 RMSE\n",
      "Test Score: 0.63 RMSE\n"
     ]
    }
   ],
   "source": [
    "# calculate predictions\n",
    "trainPredict = model.predict(trainX)\n",
    "testPredict = model.predict(testX)\n",
    "\n",
    "# calculate root mean squared error\n",
    "trainScore = math.sqrt(mean_squared_error(trainY, trainPredict[:,0]))\n",
    "print('Train Score: %.2f RMSE' % (trainScore))\n",
    "testScore = math.sqrt(mean_squared_error(testY, testPredict[:,0]))\n",
    "print('Test Score: %.2f RMSE' % (testScore))"
   ]
  },
  {
   "cell_type": "code",
   "execution_count": 7,
   "metadata": {},
   "outputs": [
    {
     "name": "stdout",
     "output_type": "stream",
     "text": [
      "[2, 3, 4, 5]\n"
     ]
    }
   ],
   "source": [
    "# test slice\n",
    "ans = [1, 2, 3, 4, 5, 6, 7, 8 , 9 ,10]\n",
    "print(ans[1:5])"
   ]
  },
  {
   "cell_type": "code",
   "execution_count": 8,
   "metadata": {},
   "outputs": [
    {
     "data": {
      "image/png": "[encoded data removed]",
      "text/plain": [
       "<Figure size 432x288 with 1 Axes>"
      ]
     },
     "metadata": {
      "needs_background": "light"
     },
     "output_type": "display_data"
    }
   ],
   "source": [
    "# shift train predictions for plotting\n",
    "trainPredictPlot = np.empty_like(dataset)\n",
    "trainPredictPlot[:,:] = np.nan\n",
    "trainPredictPlot[look_back:len(trainPredict)+look_back,:] = trainPredict[:]  # index from a to b-1\n",
    "\n",
    "# shift test predictions for plotting\n",
    "testPredictPlot = np.empty_like(dataset)\n",
    "testPredictPlot[:,:] = np.nan\n",
    "testPredictPlot[len(trainPredict)+look_back:len(dataset),:] = testPredict[:]\n",
    "\n",
    "# plot baseline and predictions\n",
    "plt.plot(dataset)\n",
    "plt.plot(trainPredictPlot)\n",
    "plt.plot(testPredictPlot)\n",
    "plt.show()"
   ]
  },
  {
   "cell_type": "markdown",
   "metadata": {},
   "source": [
    "## REFERENCE:\n",
    "### JinkeyAI, https://www.jianshu.com/p/589ed0a8137d"
   ]
  }
 ],
 "metadata": {
  "kernelspec": {
   "display_name": "Python 3 (ipykernel)",
   "language": "python",
   "name": "python3"
  },
  "language_info": {
   "codemirror_mode": {
    "name": "ipython",
    "version": 3
   },
   "file_extension": ".py",
   "mimetype": "text/x-python",
   "name": "python",
   "nbconvert_exporter": "python",
   "pygments_lexer": "ipython3",
   "version": "3.11.5"
  }
 },
 "nbformat": 4,
 "nbformat_minor": 4
}
