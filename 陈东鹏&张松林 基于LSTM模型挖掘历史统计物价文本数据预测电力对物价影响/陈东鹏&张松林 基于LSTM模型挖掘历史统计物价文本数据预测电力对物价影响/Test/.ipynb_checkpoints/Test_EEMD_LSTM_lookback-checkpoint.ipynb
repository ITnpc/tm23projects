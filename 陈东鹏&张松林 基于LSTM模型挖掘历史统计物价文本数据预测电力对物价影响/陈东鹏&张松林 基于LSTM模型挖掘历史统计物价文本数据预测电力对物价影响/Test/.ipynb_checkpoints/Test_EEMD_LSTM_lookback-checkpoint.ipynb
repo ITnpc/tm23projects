{
 "cells": [
  {
   "cell_type": "code",
   "execution_count": 1,
   "metadata": {},
   "outputs": [
    {
     "ename": "ModuleNotFoundError",
     "evalue": "No module named 'utils'",
     "output_type": "error",
     "traceback": [
      "\u001b[1;31m---------------------------------------------------------------------------\u001b[0m",
      "\u001b[1;31mModuleNotFoundError\u001b[0m                       Traceback (most recent call last)",
      "\u001b[1;32m<ipython-input-1-92afc5fe55bb>\u001b[0m in \u001b[0;36m<module>\u001b[1;34m\u001b[0m\n\u001b[0;32m     12\u001b[0m \u001b[1;32mimport\u001b[0m \u001b[0msys\u001b[0m\u001b[1;33m\u001b[0m\u001b[1;33m\u001b[0m\u001b[0m\n\u001b[0;32m     13\u001b[0m \u001b[0msys\u001b[0m\u001b[1;33m.\u001b[0m\u001b[0mpath\u001b[0m\u001b[1;33m.\u001b[0m\u001b[0mappend\u001b[0m\u001b[1;33m(\u001b[0m\u001b[1;34mr'C:\\\\Users\\\\demo\\\\workplace\\\\Time-Series-Prediction-with-LSTM\\\\'\u001b[0m\u001b[1;33m)\u001b[0m  \u001b[1;31m# 要用绝对路径\u001b[0m\u001b[1;33m\u001b[0m\u001b[1;33m\u001b[0m\u001b[0m\n\u001b[1;32m---> 14\u001b[1;33m \u001b[1;32mfrom\u001b[0m \u001b[0mutils\u001b[0m \u001b[1;32mimport\u001b[0m \u001b[0meemd_tools\u001b[0m\u001b[1;33m,\u001b[0m \u001b[0mdata_tools\u001b[0m\u001b[1;33m,\u001b[0m \u001b[0mnetworks_factory\u001b[0m\u001b[1;33m,\u001b[0m \u001b[0mdata_metrics\u001b[0m\u001b[1;33m\u001b[0m\u001b[1;33m\u001b[0m\u001b[0m\n\u001b[0m\u001b[0;32m     15\u001b[0m \u001b[1;32mfrom\u001b[0m \u001b[0mutils\u001b[0m\u001b[1;33m.\u001b[0m\u001b[0mconstants\u001b[0m \u001b[1;32mimport\u001b[0m \u001b[0mconst\u001b[0m\u001b[1;33m\u001b[0m\u001b[1;33m\u001b[0m\u001b[0m\n",
      "\u001b[1;31mModuleNotFoundError\u001b[0m: No module named 'utils'"
     ]
    }
   ],
   "source": [
    "import numpy as np\n",
    "import pandas\n",
    "import pylab as plt  # matplotlib的一个子包\n",
    "from sklearn.preprocessing import MinMaxScaler\n",
    "from math import sqrt\n",
    "from sklearn.utils import shuffle\n",
    "from scipy.sparse import coo_matrix\n",
    "from sklearn.metrics import mean_squared_error\n",
    "from sklearn.metrics import mean_absolute_error # 平方绝对误差\n",
    "from sklearn.metrics import r2_score  # R square\n",
    "\n",
    "import sys \n",
    "sys.path.append(r'D:\\xueqing\\workplace\\lstm\\Time-Series-Prediction-with-LSTM')  # 要用绝对路径\n",
    "from utils import eemd_tools, data_tools, networks_factory, data_metrics\n",
    "from utils.constants import const"
   ]
  },
  {
   "cell_type": "code",
   "execution_count": null,
   "metadata": {},
   "outputs": [],
   "source": [
    "# fix random seed for reproducibility\n",
    "np.random.seed(7)"
   ]
  },
  {
   "cell_type": "markdown",
   "metadata": {},
   "source": [
    "# 导入数据"
   ]
  },
  {
   "cell_type": "code",
   "execution_count": null,
   "metadata": {},
   "outputs": [],
   "source": [
    "data_multi = np.load(const.PROJECT_DIR + \"data/eemd/apple/data_multi.npy\")\n",
    "print(\"# shape\", data_multi.shape)  # not .shape()"
   ]
  },
  {
   "cell_type": "markdown",
   "metadata": {},
   "source": [
    "## data preprocessing"
   ]
  },
  {
   "cell_type": "code",
   "execution_count": null,
   "metadata": {},
   "outputs": [],
   "source": [
    "# normalize features\n",
    "scaler = MinMaxScaler(feature_range=(-1, 1))\n",
    "scaled = scaler.fit_transform(data_multi)\n",
    "\n",
    "output = 1\n",
    "\n",
    "lags = [3, 5, 7, 9, 11, 13, 15, 17]\n",
    "# lags = [5, 6, 7, 8, 9, 10, 11, 12, 13, 14, 15]\n",
    "# lags = [5, 10, 15, 20, 25, 30]\n",
    "# lags = [10, 20, 30, 40, 50, 60]\n",
    "# lags = [13]  # test one\n",
    "\n",
    "multi_data_supervised = list()\n",
    "for i, lag in enumerate(lags):\n",
    "    reframed = data_tools.series_to_supervised(scaled, lag, output)\n",
    "    # drop columns we don't want to predict\n",
    "    index_drop = [-j-1 for j in range(data_multi.shape[1] - 1)]\n",
    "    reframed.drop(reframed.columns[index_drop], axis=1, inplace=True)\n",
    "    data_supervised = reframed.values\n",
    "    multi_data_supervised.append(data_supervised)\n",
    "    print(\"# shape:\", reframed.shape)\n",
    "    print(len(data_multi) == len(reframed) + lag)\n",
    "    # print(reframed.head(3))\n",
    "\n",
    "print(\"-----------done--------------\")\n",
    "print(len(multi_data_supervised))"
   ]
  },
  {
   "cell_type": "markdown",
   "metadata": {},
   "source": [
    "# LSTM"
   ]
  },
  {
   "cell_type": "code",
   "execution_count": null,
   "metadata": {},
   "outputs": [],
   "source": [
    "n_lstm_neurons = 32\n",
    "n_epoch = networks_factory.EPOCHS\n",
    "n_batch_size = networks_factory.BATCH_SIZE"
   ]
  },
  {
   "cell_type": "code",
   "execution_count": null,
   "metadata": {
    "scrolled": false
   },
   "outputs": [],
   "source": [
    "df_metrics = pandas.DataFrame(index=['RMSE', 'MAPE', 'Dstat'], columns=np.arange(0, len(multi_data_supervised)))\n",
    "for i, data_supervised in enumerate(multi_data_supervised):\n",
    "    # split into train and test sets\n",
    "    train_size = int(len(data_supervised) * 0.80)\n",
    "    test_size = len(data_supervised) - train_size\n",
    "    train_data, test_data = data_supervised[0:train_size,:], data_supervised[train_size:len(data_multi),:]\n",
    "   \n",
    "    # split into input and outputs\n",
    "    train_X, train_Y = train_data[:, :-1], train_data[:, -1]\n",
    "    test_X, test_Y = test_data[:, :-1], test_data[:, -1]\n",
    "    \n",
    "    # reshape input to be 3D [samples, timesteps, features]\n",
    "    time_steps = lags[i]  # There are dependencies\n",
    "    print(\"-----------time steps: %d--------------\" % time_steps)\n",
    "    train_X = train_X.reshape((train_X.shape[0], time_steps, train_X.shape[1]//time_steps))\n",
    "    test_X = test_X.reshape((test_X.shape[0], time_steps, test_X.shape[1]//time_steps))\n",
    "    \n",
    "    # create and fit the LSTM network\n",
    "    n_dims = train_X.shape[2]\n",
    "    s, model = networks_factory.create_lstm_model(lstm_neurons=n_lstm_neurons, hidden_layers=2, \n",
    "                                                  lenth=time_steps, dims=n_dims, n_out=1)\n",
    "    \n",
    "    model.compile(loss='mae', optimizer='adam')\n",
    "    # fit network\n",
    "    history = model.fit(train_X, train_Y, epochs=n_epoch, batch_size=n_batch_size, validation_data=(test_X, test_Y), \n",
    "                        verbose=0, callbacks=[networks_factory.ES])\n",
    "    print(\"# Finished Training...\")\n",
    "    # save model\n",
    "    model_name = const.PROJECT_DIR + \"data/eemd/apple/lookback_models/\" + str(time_steps) + \"_model.h5\"\n",
    "    model.save(model_name)\n",
    "\n",
    "    # make a prediction\n",
    "    train_predict = model.predict(train_X)\n",
    "    test_predict = model.predict(test_X)\n",
    "    # invert predictions\n",
    "    inv_trainP, inv_trainY = data_tools.inv_transform_multi(scaler, train_X, train_predict, train_Y)\n",
    "    inv_testP, inv_testY = data_tools.inv_transform_multi(scaler, test_X, test_predict, test_Y)\n",
    "\n",
    "    # calculate RMSE, MAPE, Dstat\n",
    "    train_rmse = sqrt(mean_squared_error(inv_trainP, inv_trainY))\n",
    "    test_rmse = sqrt(mean_squared_error(inv_testP, inv_testY))\n",
    "    print('Train RMSE: %.4f, Test RMSE: %.4f' % (train_rmse, test_rmse))\n",
    "    train_mape = data_metrics.MAPE(inv_trainP, inv_trainY)\n",
    "    test_mape = data_metrics.MAPE(inv_testP, inv_testY)\n",
    "    print('Train MAPE: %.4f, Test MAPE: %.4f' % (train_mape, test_mape))\n",
    "    train_ds = data_metrics.Dstat(inv_trainP, inv_trainY)\n",
    "    test_ds = data_metrics.Dstat(inv_testP, inv_testY)\n",
    "    print('Train Dstat: %.4f, Test Dstat: %.4f' % (train_ds, test_ds))\n",
    "\n",
    "    # write to dataframe\n",
    "    df_metrics.iloc[0, i] = test_rmse\n",
    "    df_metrics.iloc[1, i] = test_mape\n",
    "    df_metrics.iloc[2, i] = test_ds\n",
    "\n",
    "print(\"# All Done!\")"
   ]
  },
  {
   "cell_type": "code",
   "execution_count": null,
   "metadata": {},
   "outputs": [],
   "source": [
    "# df_metrics.to_excel(const.PROJECT_DIR + \"data\\\\eemd\\\\apple\\\\test_lookback-3.xlsx\")"
   ]
  },
  {
   "cell_type": "code",
   "execution_count": null,
   "metadata": {},
   "outputs": [],
   "source": []
  }
 ],
 "metadata": {
  "kernelspec": {
   "display_name": "Python 3",
   "language": "python",
   "name": "python3"
  },
  "language_info": {
   "codemirror_mode": {
    "name": "ipython",
    "version": 3
   },
   "file_extension": ".py",
   "mimetype": "text/x-python",
   "name": "python",
   "nbconvert_exporter": "python",
   "pygments_lexer": "ipython3",
   "version": "3.6.9"
  }
 },
 "nbformat": 4,
 "nbformat_minor": 2
}
