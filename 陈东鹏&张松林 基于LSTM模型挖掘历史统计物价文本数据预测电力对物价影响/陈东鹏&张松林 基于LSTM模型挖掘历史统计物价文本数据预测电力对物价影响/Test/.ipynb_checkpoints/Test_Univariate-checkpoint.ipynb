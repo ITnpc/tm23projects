{
 "cells": [
  {
   "cell_type": "markdown",
   "metadata": {},
   "source": [
    "# 用 LSTM 做时间序列预测"
   ]
  },
  {
   "cell_type": "code",
   "execution_count": 1,
   "metadata": {},
   "outputs": [
    {
     "name": "stderr",
     "output_type": "stream",
     "text": [
      "Using TensorFlow backend.\n"
     ]
    }
   ],
   "source": [
    "import math\n",
    "import numpy\n",
    "from datetime import datetime\n",
    "import matplotlib.pyplot as plt\n",
    "from keras.utils import print_summary\n",
    "from keras.models import load_model\n",
    "from sklearn.metrics import r2_score\n",
    "from sklearn.metrics import mean_squared_error\n",
    "from sklearn.metrics import mean_absolute_error\n",
    "\n",
    "import sys\n",
    "sys.path.append(\"..\")\n",
    "from utils.py import data_tools, networks_factory, data_metrics\n",
    "from utils.py.constants import const\n",
    "%matplotlib inline"
   ]
  },
  {
   "cell_type": "code",
   "execution_count": 2,
   "metadata": {},
   "outputs": [],
   "source": [
    "# fix random seed for reproducibility\n",
    "numpy.random.seed(7)"
   ]
  },
  {
   "cell_type": "markdown",
   "metadata": {},
   "source": [
    "## 导入数据"
   ]
  },
  {
   "cell_type": "code",
   "execution_count": 3,
   "metadata": {},
   "outputs": [
    {
     "name": "stdout",
     "output_type": "stream",
     "text": [
      "# shape:  (1901, 1)\n"
     ]
    },
    {
     "data": {
      "image/png": "[encoded data removed]",
      "text/plain": [
       "<Figure size 432x288 with 1 Axes>"
      ]
     },
     "metadata": {
      "needs_background": "light"
     },
     "output_type": "display_data"
    }
   ],
   "source": [
    "dataset, dates = data_tools.load_data_from_csv(const.DATA_DIR + \"apple_interpolate.csv\")\n",
    "print(\"# shape: \", dataset.shape)\n",
    "\n",
    "# plot\n",
    "plt.plot(dataset)\n",
    "plt.show()"
   ]
  },
  {
   "cell_type": "markdown",
   "metadata": {},
   "source": [
    "## 数据转化与处理"
   ]
  },
  {
   "cell_type": "code",
   "execution_count": 4,
   "metadata": {},
   "outputs": [],
   "source": [
    "# normalize the dataset\n",
    "scaler = data_tools.Po_MinMaxScaler\n",
    "scaled_dataset = scaler.fit_transform(dataset)"
   ]
  },
  {
   "cell_type": "code",
   "execution_count": 5,
   "metadata": {},
   "outputs": [
    {
     "name": "stdout",
     "output_type": "stream",
     "text": [
      "# shape:  (1871, 30)\n",
      "# shape:  (1871, 1)\n"
     ]
    }
   ],
   "source": [
    "# reshape into X=t and Y=t+1\n",
    "look_back = const.LOOK_BACK\n",
    "dataX, dataY = data_tools.create_dataset(scaled_dataset, look_back)\n",
    "dataY = dataY.reshape((len(dataY), 1))  # to be two dims for inverse_transform\n",
    "print(\"# shape: \", dataX.shape)  # lenth 应等于 len(dataset)-look_back\n",
    "print(\"# shape: \", dataY.shape)"
   ]
  },
  {
   "cell_type": "code",
   "execution_count": 6,
   "metadata": {},
   "outputs": [
    {
     "name": "stdout",
     "output_type": "stream",
     "text": [
      "# lenth:  1496 375\n",
      "True\n"
     ]
    }
   ],
   "source": [
    "train_size = int(len(dataX) * const.TRAIN_SCALE)\n",
    "test_size = len(dataX) - train_size\n",
    "trainX, testX = dataX[0:train_size,:], dataX[train_size:len(dataset),:]\n",
    "trainY, testY = dataY[0:train_size,:], dataY[train_size:len(dataset),:]\n",
    "print(\"# lenth: \", len(trainX), len(testX))\n",
    "print(len(dataX) == len(trainX)+len(testX))"
   ]
  },
  {
   "cell_type": "markdown",
   "metadata": {},
   "source": [
    "## Shuffle"
   ]
  },
  {
   "cell_type": "code",
   "execution_count": 7,
   "metadata": {},
   "outputs": [],
   "source": [
    "from sklearn.utils import shuffle\n",
    "from scipy.sparse import coo_matrix\n",
    "\n",
    "# shuffle train set (include validation set)\n",
    "trainX_sparse = coo_matrix(trainX)  # sparse matrix\n",
    "trainX, trainX_sparse, trainY = shuffle(trainX, trainX_sparse, trainY, random_state=0)"
   ]
  },
  {
   "cell_type": "code",
   "execution_count": 8,
   "metadata": {},
   "outputs": [],
   "source": [
    "n_epoch = networks_factory.EPOCHS\n",
    "n_batch_size = networks_factory.BATCH_SIZE"
   ]
  },
  {
   "cell_type": "markdown",
   "metadata": {},
   "source": [
    "# BP"
   ]
  },
  {
   "cell_type": "code",
   "execution_count": 9,
   "metadata": {},
   "outputs": [
    {
     "name": "stdout",
     "output_type": "stream",
     "text": [
      "Epoch 00558: early stopping\n"
     ]
    }
   ],
   "source": [
    "n_dims = trainX.shape[1]\n",
    "s, model = networks_factory.create_bp_model(hidden_neurons=32, dims=n_dims, n_out=1)\n",
    "\n",
    "model.compile(loss='mean_squared_error', optimizer='adam')\n",
    "history = model.fit(trainX, trainY, epochs=n_epoch, batch_size=n_batch_size, validation_split=const.VALIDATION_SCALE, \n",
    "                    verbose=0, callbacks=[networks_factory.ES]) "
   ]
  },
  {
   "cell_type": "code",
   "execution_count": 10,
   "metadata": {
    "scrolled": true
   },
   "outputs": [
    {
     "name": "stdout",
     "output_type": "stream",
     "text": [
      "# shape:  (1496, 1)\n",
      "# shape:  (1496, 1)\n",
      "Train RMSE: 0.5787, Test RMSE: 0.2228\n",
      "Train MAPE: 0.0314, Test MAPE: 0.0179\n",
      "Train Dstat: 0.9592, Test Dstat: 0.7968\n"
     ]
    }
   ],
   "source": [
    "# make predictions\n",
    "trainPredict = model.predict(trainX)\n",
    "testPredict = model.predict(testX)\n",
    "print(\"# shape: \", trainPredict.shape)\n",
    "\n",
    "# invert predictions\n",
    "inv_trainP = scaler.inverse_transform(trainPredict)\n",
    "inv_trainY = scaler.inverse_transform(trainY)\n",
    "inv_testP = scaler.inverse_transform(testPredict)\n",
    "inv_testY = scaler.inverse_transform(testY)\n",
    "print(\"# shape: \", inv_trainP.shape)\n",
    "\n",
    "# calculate RMSE, MAPE, Dstat\n",
    "train_rmse = math.sqrt(mean_squared_error(inv_trainP, inv_trainY))\n",
    "test_rmse = math.sqrt(mean_squared_error(inv_testP, inv_testY))\n",
    "print('Train RMSE: %.4f, Test RMSE: %.4f' % (train_rmse, test_rmse))\n",
    "train_mape = data_metrics.MAPE(inv_trainP, inv_trainY)\n",
    "test_mape = data_metrics.MAPE(inv_testP, inv_testY)\n",
    "print('Train MAPE: %.4f, Test MAPE: %.4f' % (train_mape, test_mape))\n",
    "train_ds = data_metrics.Dstat(inv_trainP, inv_trainY)\n",
    "test_ds = data_metrics.Dstat(inv_testP, inv_testY)\n",
    "print('Train Dstat: %.4f, Test Dstat: %.4f' % (train_ds, test_ds))"
   ]
  },
  {
   "cell_type": "code",
   "execution_count": 11,
   "metadata": {},
   "outputs": [
    {
     "data": {
      "image/png": "[encoded data removed]",
      "text/plain": [
       "<Figure size 432x288 with 1 Axes>"
      ]
     },
     "metadata": {
      "needs_background": "light"
     },
     "output_type": "display_data"
    }
   ],
   "source": [
    "# Plot training & validation loss values\n",
    "plt.plot(history.history['loss'])\n",
    "plt.plot(history.history['val_loss'])\n",
    "plt.title('Model loss')\n",
    "plt.ylabel('Loss')\n",
    "plt.xlabel('Epoch')\n",
    "plt.legend(['Train', 'Validate'], loc='upper left')\n",
    "plt.show()\n",
    "\n",
    "bp_val_loss = history.history['val_loss']"
   ]
  },
  {
   "cell_type": "markdown",
   "metadata": {},
   "source": [
    "## 建立 LSTM /RNN模型"
   ]
  },
  {
   "cell_type": "code",
   "execution_count": 12,
   "metadata": {},
   "outputs": [
    {
     "name": "stdout",
     "output_type": "stream",
     "text": [
      "(1496, 30, 1)\n",
      "(375, 30, 1)\n"
     ]
    }
   ],
   "source": [
    "# reshape input to be [samples, time steps, features]\n",
    "time_steps = look_back\n",
    "trainX = numpy.reshape(trainX, (trainX.shape[0], time_steps, trainX.shape[1]//time_steps)) \n",
    "print(trainX.shape)\n",
    "testX = numpy.reshape(testX, (testX.shape[0], time_steps, testX.shape[1]//time_steps))\n",
    "print(testX.shape)"
   ]
  },
  {
   "cell_type": "markdown",
   "metadata": {},
   "source": [
    "## build model"
   ]
  },
  {
   "cell_type": "code",
   "execution_count": 13,
   "metadata": {},
   "outputs": [],
   "source": [
    "n_dim = trainX.shape[2]\n",
    "neural_nets_flags = [const.FLAG_NN_RNN, const.FLAG_NN_LSTM]\n",
    "# neural_nets_flags = [const.FLAG_NN_LSTM]  # once"
   ]
  },
  {
   "cell_type": "code",
   "execution_count": 14,
   "metadata": {},
   "outputs": [
    {
     "name": "stdout",
     "output_type": "stream",
     "text": [
      "-----------neural_nets_flag: RNN--------------\n",
      "Epoch 00297: early stopping\n",
      "Train RMSE: 0.4995, Test RMSE: 0.2821\n",
      "Train MAPE: 0.0314, Test MAPE: 0.0228\n",
      "Train Dstat: 0.9552, Test Dstat: 0.7139\n",
      "-----------neural_nets_flag: LSTM--------------\n",
      "Epoch 00442: early stopping\n",
      "Train RMSE: 0.6014, Test RMSE: 0.2299\n",
      "Train MAPE: 0.0348, Test MAPE: 0.0194\n",
      "Train Dstat: 0.9565, Test Dstat: 0.7273\n",
      "# All Done!\n"
     ]
    }
   ],
   "source": [
    "for i, neural_nets_flag in enumerate(neural_nets_flags):\n",
    "    \n",
    "    print(\"-----------neural_nets_flag: %s--------------\" % const.FLAG_NN_STRING[neural_nets_flag])\n",
    "    if (neural_nets_flag == const.FLAG_NN_RNN):\n",
    "        s, model = networks_factory.create_rnn_model(hidden_neurons=networks_factory.HIDDEN_NEURONS, \n",
    "                                             lenth=time_steps, dims=n_dim, n_out=1)\n",
    "    elif (neural_nets_flag == const.FLAG_NN_LSTM):\n",
    "        s, model = networks_factory.create_lstm_model_dropout(lstm_neurons=networks_factory.HIDDEN_NEURONS, \n",
    "                                             hidden_layers=networks_factory.HIDDEN_LAYERS, \n",
    "                                             lenth=time_steps, dims=n_dim, n_out=1)\n",
    "    else:\n",
    "        pass\n",
    "    \n",
    "    model.compile(loss='mean_squared_error', optimizer='adam')\n",
    "    history = model.fit(trainX, trainY, epochs=n_epoch, batch_size=n_batch_size, validation_split=const.VALIDATION_SCALE, \n",
    "                        verbose=0, callbacks=[networks_factory.ES]) \n",
    "    \n",
    "    if (neural_nets_flag == const.FLAG_NN_RNN):\n",
    "        rnn_val_loss = history.history['val_loss']\n",
    "    elif (neural_nets_flag == const.FLAG_NN_LSTM):\n",
    "        lstm_val_loss = history.history['val_loss']\n",
    "    \n",
    "    # make predictions\n",
    "    trainPredict = model.predict(trainX)\n",
    "    testPredict = model.predict(testX)\n",
    "\n",
    "    # invert predictions\n",
    "    inv_trainP = scaler.inverse_transform(trainPredict)\n",
    "    inv_trainY = scaler.inverse_transform(trainY)\n",
    "    inv_testP = scaler.inverse_transform(testPredict)\n",
    "    inv_testY = scaler.inverse_transform(testY)\n",
    "\n",
    "    # calculate RMSE, MAPE, Dstat\n",
    "    train_rmse = math.sqrt(mean_squared_error(inv_trainP, inv_trainY))\n",
    "    test_rmse = math.sqrt(mean_squared_error(inv_testP, inv_testY))\n",
    "    print('Train RMSE: %.4f, Test RMSE: %.4f' % (train_rmse, test_rmse))\n",
    "    train_mape = data_metrics.MAPE(inv_trainP, inv_trainY)\n",
    "    test_mape = data_metrics.MAPE(inv_testP, inv_testY)\n",
    "    print('Train MAPE: %.4f, Test MAPE: %.4f' % (train_mape, test_mape))\n",
    "    train_ds = data_metrics.Dstat(inv_trainP, inv_trainY)\n",
    "    test_ds = data_metrics.Dstat(inv_testP, inv_testY)\n",
    "    print('Train Dstat: %.4f, Test Dstat: %.4f' % (train_ds, test_ds)) \n",
    "    \n",
    "print(\"# All Done!\") "
   ]
  },
  {
   "cell_type": "markdown",
   "metadata": {},
   "source": [
    "## 画出结果"
   ]
  },
  {
   "cell_type": "markdown",
   "metadata": {},
   "source": [
    "## Loss"
   ]
  },
  {
   "cell_type": "code",
   "execution_count": 15,
   "metadata": {},
   "outputs": [
    {
     "data": {
      "image/png": "[encoded data removed]",
      "text/plain": [
       "<Figure size 432x288 with 1 Axes>"
      ]
     },
     "metadata": {
      "needs_background": "light"
     },
     "output_type": "display_data"
    }
   ],
   "source": [
    "# Plot training & validation loss values\n",
    "plt.plot(bp_val_loss)\n",
    "plt.plot(rnn_val_loss)\n",
    "plt.plot(lstm_val_loss)\n",
    "# plt.title('Model validation loss')\n",
    "plt.ylabel('Validation Loss')\n",
    "plt.xlabel('Epoch')\n",
    "plt.legend(['BP', 'RNN', 'LSTM'], loc='upper right')\n",
    "plt.show()"
   ]
  },
  {
   "cell_type": "markdown",
   "metadata": {},
   "source": [
    "## Predict"
   ]
  },
  {
   "cell_type": "code",
   "execution_count": 16,
   "metadata": {},
   "outputs": [],
   "source": [
    "trainPredictPlot = numpy.empty_like(dataset)\n",
    "trainPredictPlot[:,:] = numpy.nan\n",
    "trainPredictPlot[look_back:len(trainPredict)+look_back,:] = inv_trainP[:]  # index from a to b-1\n",
    "\n",
    "# shift test predictions for plotting\n",
    "testPredictPlot = numpy.empty_like(dataset)\n",
    "testPredictPlot[:,:] = numpy.nan\n",
    "testPredictPlot[len(trainPredict)+look_back:len(dataset),:] = inv_testP[:]"
   ]
  },
  {
   "cell_type": "code",
   "execution_count": 17,
   "metadata": {},
   "outputs": [
    {
     "data": {
      "image/png": "[encoded data removed]",
      "text/plain": [
       "<Figure size 432x288 with 1 Axes>"
      ]
     },
     "metadata": {
      "needs_background": "light"
     },
     "output_type": "display_data"
    }
   ],
   "source": [
    "# 中文乱码的处理\n",
    "plt.rcParams['font.sans-serif'] =['Microsoft YaHei']\n",
    "plt.rcParams['axes.unicode_minus'] = False\n",
    "xs = [datetime.strptime(d, '%Y-%m-%d') for d in dates]\n",
    "\n",
    "fig = plt.figure(1)\n",
    "ax1 = plt.subplot(1, 1, 1)\n",
    "l1, = ax1.plot(xs, dataset, color='xkcd:blue')\n",
    "l2, = ax1.plot(xs, trainPredictPlot, color='xkcd:orange')\n",
    "l3, = ax1.plot(xs, testPredictPlot, color='xkcd:green')\n",
    "\n",
    "plt.ylabel('价格/元/公斤')\n",
    "plt.xlabel('日期')\n",
    "plt.legend([l1, l2, l3], ['原始价格', '训练集预测结果', '测试集预测结果'], loc='upper right')\n",
    "plt.show()"
   ]
  },
  {
   "cell_type": "markdown",
   "metadata": {},
   "source": [
    "## Save Model"
   ]
  },
  {
   "cell_type": "code",
   "execution_count": 18,
   "metadata": {},
   "outputs": [],
   "source": [
    "# 保存参数，载入参数\n",
    "# model.save(model_dir + \"retrain_model.h5\")  # HDF5文件，pip install h5py\n",
    "# model.save_weights(model_dir + \"my_model_weights.h5\")\n",
    "# model.load_weights('my_model_weights.h5')"
   ]
  },
  {
   "cell_type": "markdown",
   "metadata": {},
   "source": [
    "参考：[Time Series Prediction with LSTM Recurrent Neural Networks in Python with Keras](https://machinelearningmastery.com/time-series-prediction-lstm-recurrent-neural-networks-python-keras/\"Title\")"
   ]
  }
 ],
 "metadata": {
  "kernelspec": {
   "display_name": "Python 3",
   "language": "python",
   "name": "python3"
  },
  "language_info": {
   "codemirror_mode": {
    "name": "ipython",
    "version": 3
   },
   "file_extension": ".py",
   "mimetype": "text/x-python",
   "name": "python",
   "nbconvert_exporter": "python",
   "pygments_lexer": "ipython3",
   "version": "3.6.8"
  }
 },
 "nbformat": 4,
 "nbformat_minor": 2
}
