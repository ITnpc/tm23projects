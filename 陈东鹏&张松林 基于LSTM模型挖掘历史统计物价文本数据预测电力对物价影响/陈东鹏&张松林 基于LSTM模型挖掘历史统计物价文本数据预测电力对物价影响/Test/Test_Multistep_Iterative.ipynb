{
 "cells": [
  {
   "cell_type": "markdown",
   "metadata": {},
   "source": [
    "# 用 LSTM 做时间序列预测"
   ]
  },
  {
   "cell_type": "code",
   "execution_count": 1,
   "metadata": {},
   "outputs": [
    {
     "name": "stderr",
     "output_type": "stream",
     "text": [
      "Using TensorFlow backend.\n"
     ]
    }
   ],
   "source": [
    "import math\n",
    "import numpy\n",
    "import matplotlib.pyplot as plt\n",
    "from keras.utils import print_summary\n",
    "from keras.models import load_model\n",
    "from sklearn.metrics import r2_score\n",
    "from sklearn.metrics import mean_squared_error\n",
    "from sklearn.metrics import mean_absolute_error\n",
    "\n",
    "import sys \n",
    "sys.path.append(r'C:\\\\Users\\\\demo\\\\workplace\\\\Time-Series-Prediction-with-LSTM\\\\')  # 要用绝对路径\n",
    "from utils import data_tools, networks_factory, data_metrics\n",
    "from utils.constants import const\n",
    "%matplotlib inline"
   ]
  },
  {
   "cell_type": "code",
   "execution_count": 2,
   "metadata": {},
   "outputs": [],
   "source": [
    "# fix random seed for reproducibility\n",
    "numpy.random.seed(7)"
   ]
  },
  {
   "cell_type": "markdown",
   "metadata": {},
   "source": [
    "## 导入数据"
   ]
  },
  {
   "cell_type": "code",
   "execution_count": 3,
   "metadata": {},
   "outputs": [
    {
     "name": "stdout",
     "output_type": "stream",
     "text": [
      "# shape:  (1901, 1)\n"
     ]
    },
    {
     "data": {
      "image/png": "[encoded data removed]",
      "text/plain": [
       "<Figure size 432x288 with 1 Axes>"
      ]
     },
     "metadata": {
      "needs_background": "light"
     },
     "output_type": "display_data"
    }
   ],
   "source": [
    "dataset, dates = data_tools.load_data_from_csv(const.DATA_DIR + \"apple_interpolate.csv\")\n",
    "print(\"# shape: \", dataset.shape)\n",
    "\n",
    "# plot\n",
    "plt.plot(dataset)\n",
    "plt.show()"
   ]
  },
  {
   "cell_type": "markdown",
   "metadata": {},
   "source": [
    "## 数据转化与处理"
   ]
  },
  {
   "cell_type": "code",
   "execution_count": 4,
   "metadata": {},
   "outputs": [],
   "source": [
    "# normalize the dataset\n",
    "scaler = data_tools.Po_MinMaxScaler\n",
    "scaled_dataset = scaler.fit_transform(dataset)"
   ]
  },
  {
   "cell_type": "code",
   "execution_count": 5,
   "metadata": {},
   "outputs": [
    {
     "name": "stdout",
     "output_type": "stream",
     "text": [
      "# shape:  (1871, 30)\n",
      "# shape:  (1871, 1)\n"
     ]
    }
   ],
   "source": [
    "# reshape into X=t and Y=t+1\n",
    "look_back = const.LOOK_BACK\n",
    "dataX, dataY = data_tools.create_dataset(scaled_dataset, look_back)\n",
    "dataY = dataY.reshape((len(dataY), 1))  # to be two dims for inverse_transform\n",
    "print(\"# shape: \", dataX.shape)  # lenth 应等于 len(dataset)-look_back\n",
    "print(\"# shape: \", dataY.shape)"
   ]
  },
  {
   "cell_type": "code",
   "execution_count": 6,
   "metadata": {},
   "outputs": [
    {
     "name": "stdout",
     "output_type": "stream",
     "text": [
      "# lenth:  1496 375\n",
      "True\n"
     ]
    }
   ],
   "source": [
    "train_size = int(len(dataX) * const.TRAIN_SCALE)\n",
    "test_size = len(dataX) - train_size\n",
    "trainX, testX = dataX[0:train_size,:], dataX[train_size:len(dataset),:]\n",
    "trainY, testY = dataY[0:train_size,:], dataY[train_size:len(dataset),:]\n",
    "print(\"# lenth: \", len(trainX), len(testX))\n",
    "print(len(dataX) == len(trainX)+len(testX))"
   ]
  },
  {
   "cell_type": "markdown",
   "metadata": {},
   "source": [
    "## 建立 LSTM 模型\n",
    "\n",
    "return_sequences：默认 False。在输出序列中，返回单个 hidden state值还是返回全部time step 的 hidden state值。 False 返回单个， true 返回全部。\n",
    "\n",
    "To stack LSTM layers, we need to change the configuration of the prior LSTM layer to output a 3D array as input for the subsequent layer."
   ]
  },
  {
   "cell_type": "code",
   "execution_count": 7,
   "metadata": {},
   "outputs": [],
   "source": [
    "model_dir = const.EXPERIMENTS_DIR + \"/apple/lstm_univariate/\"\n",
    "model = load_model(model_dir + \"retrain_model.h5\")"
   ]
  },
  {
   "cell_type": "markdown",
   "metadata": {},
   "source": [
    "## 预测评估"
   ]
  },
  {
   "cell_type": "code",
   "execution_count": 8,
   "metadata": {},
   "outputs": [
    {
     "name": "stdout",
     "output_type": "stream",
     "text": [
      "(372, 30) (372, 1)\n"
     ]
    }
   ],
   "source": [
    "n_out = 3\n",
    "multi_testX, multi_testY = testX[0:-n_out,:], testY[0:-n_out,:]\n",
    "print(multi_testX.shape, multi_testY.shape)"
   ]
  },
  {
   "cell_type": "code",
   "execution_count": 9,
   "metadata": {},
   "outputs": [
    {
     "name": "stdout",
     "output_type": "stream",
     "text": [
      "(372, 1) (372, 1)\n",
      "#  1  #  -2\n",
      "(372, 2)\n",
      "#  2  #  -1\n",
      "(372, 3)\n",
      "(372, 3) (372, 3)\n"
     ]
    }
   ],
   "source": [
    "testP = numpy.zeros((len(multi_testY), 1))\n",
    "print(testP.shape, multi_testY.shape)\n",
    "\n",
    "for i in range(n_out):\n",
    "    multi_testX = numpy.reshape(multi_testX, (multi_testX.shape[0], look_back, multi_testX.shape[1]//look_back))\n",
    "    testPredict = model.predict(multi_testX)\n",
    "    testP = numpy.hstack((testP, testPredict))\n",
    "    \n",
    "    # move forward\n",
    "    multi_testX = numpy.reshape(multi_testX, (multi_testX.shape[0], look_back))\n",
    "    multi_testX = multi_testX[:,1:]\n",
    "    multi_testX = numpy.hstack((multi_testX, testPredict))\n",
    "    \n",
    "    if(i >= n_out -1):\n",
    "        break\n",
    "    start = i+1\n",
    "    end = -n_out+i+1\n",
    "    print(\"# \", start, \" # \", end)\n",
    "    multi_testY = numpy.hstack((multi_testY, testY[i+1:-n_out+i+1,:]))\n",
    "    print(multi_testY.shape)\n",
    "\n",
    "testP = testP[:, 1:]\n",
    "print(testP.shape, multi_testY.shape)"
   ]
  },
  {
   "cell_type": "code",
   "execution_count": 10,
   "metadata": {},
   "outputs": [],
   "source": [
    "# inverse data transform on forecasts\n",
    "def inverse_transform(forecasts, scaler):\n",
    "\tinverted = list()\n",
    "\tfor i in range(len(forecasts)):  # len(forecasts). BUG?\n",
    "\t\t# create array from forecast \n",
    "\t\tforecast = numpy.array(forecasts[i])\n",
    "\t\tforecast = forecast.reshape(1, len(forecast))\n",
    "\t\t# invert scaling\n",
    "\t\tinv_scale = scaler.inverse_transform(forecast)\n",
    "\t\tinv_scale = inv_scale[0, :]\n",
    "\t\t# store\n",
    "\t\tinverted.append(inv_scale)\n",
    "\tn_seq = len(forecast[0])\n",
    "\tinverted = numpy.array(inverted)\n",
    "\tinverted = numpy.reshape(inverted, (inverted.shape[0], n_seq))\n",
    "\treturn inverted"
   ]
  },
  {
   "cell_type": "code",
   "execution_count": 11,
   "metadata": {},
   "outputs": [
    {
     "name": "stdout",
     "output_type": "stream",
     "text": [
      "Test  Score RMSE:  [0.25788511 0.40228119 0.52664052]\n",
      "Test  MAPE:  [0.02132006 0.03544371 0.04752661]\n",
      "Test  D-stat: \n",
      "0.7601078167115903\n",
      "0.7196765498652291\n",
      "0.7088948787061995\n"
     ]
    }
   ],
   "source": [
    "inv_testP = inverse_transform(testP, scaler)\n",
    "inv_testY = inverse_transform(multi_testY, scaler)\n",
    "\n",
    "# calculate RMSE, MAPE, Dstat\n",
    "testScoreRMSE = numpy.sqrt(mean_squared_error(inv_testY, inv_testP, multioutput='raw_values'))\n",
    "print('Test  Score RMSE: ', testScoreRMSE)\n",
    "\n",
    "test_mape = data_metrics.MAPE(inv_testP, inv_testY)\n",
    "print('Test  MAPE: ', test_mape)\n",
    "\n",
    "# need to be improved...\n",
    "print('Test  D-stat: ')\n",
    "for i in range(len(multi_testY[1])):\n",
    "    test_ds = data_metrics.Dstat(inv_testP[:,i], inv_testY[:,i])\n",
    "    print(test_ds)"
   ]
  },
  {
   "cell_type": "markdown",
   "metadata": {},
   "source": [
    "## Save Model"
   ]
  },
  {
   "cell_type": "code",
   "execution_count": 95,
   "metadata": {},
   "outputs": [],
   "source": [
    "# 保存参数，载入参数\n",
    "# model.save(model_dir + \"model.h5\")  # HDF5文件，pip install h5py\n",
    "# model.save_weights(model_dir + \"my_model_weights.h5\")\n",
    "# model.load_weights('my_model_weights.h5')"
   ]
  },
  {
   "cell_type": "markdown",
   "metadata": {},
   "source": [
    "参考：[Time Series Prediction with LSTM Recurrent Neural Networks in Python with Keras](https://machinelearningmastery.com/time-series-prediction-lstm-recurrent-neural-networks-python-keras/\"Title\")"
   ]
  }
 ],
 "metadata": {
  "kernelspec": {
   "display_name": "Python 3",
   "language": "python",
   "name": "python3"
  },
  "language_info": {
   "codemirror_mode": {
    "name": "ipython",
    "version": 3
   },
   "file_extension": ".py",
   "mimetype": "text/x-python",
   "name": "python",
   "nbconvert_exporter": "python",
   "pygments_lexer": "ipython3",
   "version": "3.6.8"
  }
 },
 "nbformat": 4,
 "nbformat_minor": 2
}
