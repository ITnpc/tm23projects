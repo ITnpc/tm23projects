{
 "cells": [
  {
   "cell_type": "code",
   "execution_count": 1,
   "metadata": {},
   "outputs": [
    {
     "name": "stderr",
     "output_type": "stream",
     "text": [
      "Using TensorFlow backend.\n"
     ]
    }
   ],
   "source": [
    "import pandas\n",
    "import numpy\n",
    "import keras\n",
    "from math import sqrt\n",
    "from numpy import concatenate\n",
    "from datetime import datetime\n",
    "from matplotlib import pyplot\n",
    "from pandas import read_csv\n",
    "from pandas import DataFrame\n",
    "from pandas import concat\n",
    "from sklearn.preprocessing import MinMaxScaler\n",
    "from sklearn.preprocessing import LabelEncoder\n",
    "from sklearn.metrics import mean_squared_error\n",
    "\n",
    "import sys \n",
    "sys.path.append(r'C:\\\\Users\\\\demo\\\\workplace\\\\Time-Series-Prediction-with-LSTM\\\\')  # 要用绝对路径\n",
    "from utils import data_tools, networks_factory, data_metrics, data_clean\n",
    "from utils.constants import const\n",
    "%matplotlib inline"
   ]
  },
  {
   "cell_type": "code",
   "execution_count": 2,
   "metadata": {},
   "outputs": [],
   "source": [
    "# load the dataset\n",
    "FILENAME = const.DATA_DIR + \"apple_interpolate.csv\"\n",
    "dataframe = pandas.read_csv(FILENAME, engine='python')\n",
    "dataframe = dataframe[['date', 'price']]\n",
    "dataframe['price'] = dataframe['price'].astype('float32')  # 变为 float type"
   ]
  },
  {
   "cell_type": "code",
   "execution_count": 5,
   "metadata": {},
   "outputs": [
    {
     "name": "stdout",
     "output_type": "stream",
     "text": [
      "     date      price product_name     bazaar_name\n",
      "0 2014-01  11.272667         富士苹果  广东省广州市江南农副产品市场\n",
      "1 2014-02  10.707857         富士苹果  广东省广州市江南农副产品市场\n",
      "2 2014-03  12.093549         富士苹果  广东省广州市江南农副产品市场\n",
      "3 2014-04  12.316000         富士苹果  广东省广州市江南农副产品市场\n",
      "4 2014-05  13.256774         富士苹果  广东省广州市江南农副产品市场\n",
      "['2014-01' '2014-02' '2014-03' '2014-04' '2014-05' '2014-06' '2014-07'\n",
      " '2014-08' '2014-09' '2014-10' '2014-11' '2014-12' '2015-01' '2015-02'\n",
      " '2015-03' '2015-04' '2015-05' '2015-06' '2015-07' '2015-08' '2015-09'\n",
      " '2015-10' '2015-11' '2015-12' '2016-01' '2016-02' '2016-03' '2016-04'\n",
      " '2016-05' '2016-06' '2016-07' '2016-08' '2016-09' '2016-10' '2016-11'\n",
      " '2016-12' '2017-01' '2017-02' '2017-03' '2017-04' '2017-05' '2017-06'\n",
      " '2017-07' '2017-08' '2017-09' '2017-10' '2017-11' '2017-12' '2018-01'\n",
      " '2018-02' '2018-03' '2018-04' '2018-05' '2018-06' '2018-07' '2018-08'\n",
      " '2018-09' '2018-10' '2018-11' '2018-12' '2019-01' '2019-02' '2019-03']\n"
     ]
    }
   ],
   "source": [
    "# test for yulin\n",
    "df_period = data_clean.summarized_data_to_mean(time_span='M', df_input=dataframe, \n",
    "                                               product_name='富士苹果', bazaar_name='广东省广州市江南农副产品市场')\n",
    "print(df_period.head(5))\n",
    "df_period.to_csv(const.DATA_DIR + \"pple_month_mean.csv\")\n",
    "\n",
    "dates = df_period['date'].astype(\"str\").values\n",
    "print(dates)"
   ]
  },
  {
   "cell_type": "code",
   "execution_count": 6,
   "metadata": {},
   "outputs": [
    {
     "name": "stdout",
     "output_type": "stream",
     "text": [
      "# shape: (63, 6)\n",
      "# shape: (63, 12)\n",
      "[[11.272667   11.43       10.71       12.14        0.476604    0.22715138]\n",
      " [10.707857   12.14        6.07       13.21        2.4105253   5.8106327 ]\n",
      " [12.093549   11.43        9.29       14.29        1.6665545   2.7774036 ]\n",
      " [12.316      11.85       10.71       14.29        1.2402519   1.5382248 ]\n",
      " [13.256774   13.57       11.07       15.          1.0960882   1.2014092 ]]\n"
     ]
    }
   ],
   "source": [
    "dataset, onehot_month = data_tools.extract_features_to_month(dataframe)\n",
    "print(\"# shape:\", dataset.shape)\n",
    "print(\"# shape:\", onehot_month.shape)\n",
    "print(dataset[0:5])"
   ]
  },
  {
   "cell_type": "code",
   "execution_count": 7,
   "metadata": {},
   "outputs": [
    {
     "name": "stdout",
     "output_type": "stream",
     "text": [
      "# shape: (61, 37)\n",
      "   var1(t-2)  var2(t-2)  var3(t-2)  var4(t-2)  var5(t-2)  var6(t-2)  \\\n",
      "2   0.507922   0.502146   0.629032   0.481328   0.142570   0.033147   \n",
      "3   0.443710   0.578326   0.094470   0.592324   0.958801   0.923441   \n",
      "4   0.601247   0.502146   0.465438   0.704357   0.644800   0.439789   \n",
      "5   0.626537   0.547210   0.629032   0.704357   0.464875   0.242200   \n",
      "6   0.733492   0.731760   0.670507   0.778008   0.404029   0.188494   \n",
      "\n",
      "   var7(t-2)  var8(t-2)  var9(t-2)  var10(t-2)    ...     var10(t-1)  \\\n",
      "2        1.0        0.0        0.0         0.0    ...            0.0   \n",
      "3        0.0        1.0        0.0         0.0    ...            0.0   \n",
      "4        0.0        0.0        1.0         0.0    ...            1.0   \n",
      "5        0.0        0.0        0.0         1.0    ...            0.0   \n",
      "6        0.0        0.0        0.0         0.0    ...            0.0   \n",
      "\n",
      "   var11(t-1)  var12(t-1)  var13(t-1)  var14(t-1)  var15(t-1)  var16(t-1)  \\\n",
      "2         0.0         0.0         0.0         0.0         0.0         0.0   \n",
      "3         0.0         0.0         0.0         0.0         0.0         0.0   \n",
      "4         0.0         0.0         0.0         0.0         0.0         0.0   \n",
      "5         1.0         0.0         0.0         0.0         0.0         0.0   \n",
      "6         0.0         1.0         0.0         0.0         0.0         0.0   \n",
      "\n",
      "   var17(t-1)  var18(t-1)   var1(t)  \n",
      "2         0.0         0.0  0.601247  \n",
      "3         0.0         0.0  0.626537  \n",
      "4         0.0         0.0  0.733492  \n",
      "5         0.0         0.0  0.846070  \n",
      "6         0.0         0.0  0.798331  \n",
      "\n",
      "[5 rows x 37 columns]\n"
     ]
    }
   ],
   "source": [
    "# ensure all data is float\n",
    "dataset = dataset.astype('float32')\n",
    "# concat statistic features and one-hot features\n",
    "dataset_onehot = numpy.hstack((dataset, onehot_month))  # after MinMax? not absolutely\n",
    "# normalize features\n",
    "scaler = MinMaxScaler(feature_range=(0, 1))\n",
    "scaled = scaler.fit_transform(dataset_onehot)\n",
    "# frame as supervised learning\n",
    "n_in = 2\n",
    "n_out = 1\n",
    "reframed = data_tools.series_to_supervised(scaled, n_in, n_out)\n",
    "# drop columns we don't want to predict\n",
    "index_drop = [-j-1 for j in range(dataset_onehot.shape[1] - 1)]\n",
    "reframed.drop(reframed.columns[index_drop], axis=1, inplace=True)\n",
    "print(\"# shape:\", reframed.shape)\n",
    "print(reframed.head())"
   ]
  },
  {
   "cell_type": "code",
   "execution_count": 8,
   "metadata": {},
   "outputs": [
    {
     "name": "stdout",
     "output_type": "stream",
     "text": [
      "(48, 36) (48,) (13, 36) (13,)\n"
     ]
    }
   ],
   "source": [
    "# split into train and test sets\n",
    "values = reframed.values\n",
    "n_train = int(len(values) * 0.8)\n",
    "train = values[:n_train, :]\n",
    "test = values[n_train:, :]\n",
    "# split into input and outputs\n",
    "train_X, train_y = train[:, :-1], train[:, -1]\n",
    "test_X, test_y = test[:, :-1], test[:, -1]\n",
    "print(train_X.shape, train_y.shape, test_X.shape, test_y.shape)\n",
    "\n",
    "n_epoch = networks_factory.EPOCHS\n",
    "n_batch_size = networks_factory.BATCH_SIZE"
   ]
  },
  {
   "cell_type": "markdown",
   "metadata": {},
   "source": [
    "# BP"
   ]
  },
  {
   "cell_type": "code",
   "execution_count": 9,
   "metadata": {},
   "outputs": [],
   "source": [
    "# n_dims = train_X.shape[1]\n",
    "# s, model = networks_factory.create_bp_model(hidden_neurons=32, dims=n_dims, n_out=1)"
   ]
  },
  {
   "cell_type": "markdown",
   "metadata": {},
   "source": [
    "# LSTM & RNN"
   ]
  },
  {
   "cell_type": "code",
   "execution_count": 10,
   "metadata": {},
   "outputs": [
    {
     "name": "stdout",
     "output_type": "stream",
     "text": [
      "(48, 2, 18) (48,) (13, 2, 18) (13,)\n"
     ]
    }
   ],
   "source": [
    "# reshape input to be 3D [samples, timesteps, features]\n",
    "time_steps = 2\n",
    "train_X = train_X.reshape((train_X.shape[0], time_steps, train_X.shape[1]//time_steps))\n",
    "test_X = test_X.reshape((test_X.shape[0], time_steps, test_X.shape[1]//time_steps))\n",
    "print(train_X.shape, train_y.shape, test_X.shape, test_y.shape)\n",
    "\n",
    "# --- LSTM MODEL --- \n",
    "n_dims = train_X.shape[2]"
   ]
  },
  {
   "cell_type": "code",
   "execution_count": 11,
   "metadata": {},
   "outputs": [],
   "source": [
    "from keras.models import load_model\n",
    "model_dir = const.EXPERIMENTS_DIR + \"/apple/month/\"\n",
    "model = load_model(model_dir + \"lstm_model.h5\")\n",
    "\n",
    "# create and fit the LSTM network\n",
    "# s, model = networks_factory.create_lstm_model(lstm_neurons=32, hidden_layers=2, lenth=time_steps, dims=n_dims, n_out=1)\n",
    "\n",
    "# create and fit the RNN network\n",
    "# s, model = networks_factory.create_rnn_model(hidden_neurons=32, lenth=time_steps, dims=n_dims, n_out=1)"
   ]
  },
  {
   "cell_type": "code",
   "execution_count": 12,
   "metadata": {},
   "outputs": [],
   "source": [
    "# model.compile(loss='mae', optimizer='adam')\n",
    "# # fit network\n",
    "# history = model.fit(train_X, train_y, epochs=n_epoch, batch_size=n_batch_size, validation_data=(test_X, test_y),\n",
    "#                     verbose=2, callbacks=[networks_factory.ES])"
   ]
  },
  {
   "cell_type": "code",
   "execution_count": 13,
   "metadata": {},
   "outputs": [
    {
     "name": "stdout",
     "output_type": "stream",
     "text": [
      "_________________________________________________________________\n",
      "Layer (type)                 Output Shape              Param #   \n",
      "=================================================================\n",
      "lstm_1 (LSTM)                (None, 2, 32)             6528      \n",
      "_________________________________________________________________\n",
      "lstm_2 (LSTM)                (None, 32)                8320      \n",
      "_________________________________________________________________\n",
      "dense_1 (Dense)              (None, 1)                 33        \n",
      "=================================================================\n",
      "Total params: 14,881\n",
      "Trainable params: 14,881\n",
      "Non-trainable params: 0\n",
      "_________________________________________________________________\n"
     ]
    }
   ],
   "source": [
    "keras.utils.print_summary(model)  # after the model was built\n",
    "\n",
    "# plot history\n",
    "# pyplot.plot(history.history['loss'], label='train')\n",
    "# pyplot.plot(history.history['val_loss'], label='test')\n",
    "# pyplot.legend()\n",
    "# pyplot.show()"
   ]
  },
  {
   "cell_type": "code",
   "execution_count": 14,
   "metadata": {},
   "outputs": [],
   "source": [
    "def inv_transform(scaler, test_X, yhat, test_y, n_in, n_dims):\n",
    "    # invert scaling for forecast\n",
    "    test_X = test_X.reshape((test_X.shape[0], n_in*n_dims))\n",
    "    inv_yhat = concatenate((yhat, test_X[:, 1:n_dims]), axis=1)  \n",
    "    inv_yhat = scaler.inverse_transform(inv_yhat)\n",
    "    inv_yhat = inv_yhat[:,0]\n",
    "    # invert scaling for actual\n",
    "    test_y = test_y.reshape((len(test_y), 1))\n",
    "    inv_y = concatenate((test_y, test_X[:, 1:n_dims]), axis=1)\n",
    "    inv_y = scaler.inverse_transform(inv_y)\n",
    "    inv_y = inv_y[:,0]\n",
    "    return inv_yhat, inv_y"
   ]
  },
  {
   "cell_type": "code",
   "execution_count": 15,
   "metadata": {},
   "outputs": [
    {
     "name": "stdout",
     "output_type": "stream",
     "text": [
      "Train RMSE: 1.0973, Test RMSE: 0.6612\n",
      "Train MAPE: 0.0664, Test MAPE: 0.0594\n",
      "Train Dstat: 0.8085, Test Dstat: 0.7500\n"
     ]
    }
   ],
   "source": [
    "# make a prediction\n",
    "test_predict = model.predict(test_X)\n",
    "train_predict = model.predict(train_X)\n",
    "\n",
    "# # ----------------------------------------BP-------------------------------------------- #\n",
    "# n_dims = train_X.shape[2]\n",
    "# time_steps = 2  # for the same uniform interface of inv_transform_multi()\n",
    "# # reshape input to be 3D [samples, timesteps, features]\n",
    "# train_X = train_X.reshape((train_X.shape[0], time_steps, train_X.shape[1]//time_steps))\n",
    "# test_X = test_X.reshape((test_X.shape[0], time_steps, test_X.shape[1]//time_steps))\n",
    "# # ----------------------------------------BP-------------------------------------------- #\n",
    "\n",
    "inv_testP, inv_testY = inv_transform(scaler, test_X, test_predict, test_y, n_in, n_dims)\n",
    "inv_trainP, inv_trainY = inv_transform(scaler, train_X, train_predict, train_y, n_in, n_dims)\n",
    "\n",
    "# calculate RMSE, MAPE, Dstat\n",
    "train_rmse = sqrt(mean_squared_error(inv_trainP, inv_trainY))\n",
    "test_rmse = sqrt(mean_squared_error(inv_testP, inv_testY))\n",
    "print('Train RMSE: %.4f, Test RMSE: %.4f' % (train_rmse, test_rmse))\n",
    "train_mape = data_metrics.MAPE(inv_trainP, inv_trainY)\n",
    "test_mape = data_metrics.MAPE(inv_testP, inv_testY)\n",
    "print('Train MAPE: %.4f, Test MAPE: %.4f' % (train_mape, test_mape))\n",
    "train_ds = data_metrics.Dstat(inv_trainP, inv_trainY)\n",
    "test_ds = data_metrics.Dstat(inv_testP, inv_testY)\n",
    "print('Train Dstat: %.4f, Test Dstat: %.4f' % (train_ds, test_ds))"
   ]
  },
  {
   "cell_type": "code",
   "execution_count": 16,
   "metadata": {},
   "outputs": [],
   "source": [
    "# from keras.models import load_model\n",
    "# model_dir = const.EXPERIMENTS_DIR + \"/apple/month/\"\n",
    "# model.save(model_dir + \"lstm_model.h5\")  # HDF5文件，pip install h5py"
   ]
  },
  {
   "cell_type": "markdown",
   "metadata": {},
   "source": [
    "# Plot"
   ]
  },
  {
   "cell_type": "code",
   "execution_count": 17,
   "metadata": {},
   "outputs": [
    {
     "name": "stdout",
     "output_type": "stream",
     "text": [
      "# shape:  (63,)\n",
      "# shape:  (48,)\n"
     ]
    }
   ],
   "source": [
    "import matplotlib.pyplot as plt\n",
    "\n",
    "mean_dataset = dataset[:, 1]  # mean price\n",
    "look_back = 2\n",
    "\n",
    "trainPredictPlot = numpy.empty_like(mean_dataset)\n",
    "print(\"# shape: \", trainPredictPlot.shape)\n",
    "print(\"# shape: \", inv_trainP.shape)\n",
    "\n",
    "trainPredictPlot[:] = numpy.nan\n",
    "trainPredictPlot[look_back:len(train_predict)+look_back] = inv_trainP  # index from a to b-1\n",
    "\n",
    "# shift test predictions for plotting\n",
    "testPredictPlot = numpy.empty_like(mean_dataset)\n",
    "testPredictPlot[:] = numpy.nan\n",
    "testPredictPlot[len(train_predict)+look_back:] = inv_testP"
   ]
  },
  {
   "cell_type": "code",
   "execution_count": 18,
   "metadata": {},
   "outputs": [
    {
     "data": {
      "image/png": "[encoded data removed]",
      "text/plain": [
       "<Figure size 432x288 with 1 Axes>"
      ]
     },
     "metadata": {
      "needs_background": "light"
     },
     "output_type": "display_data"
    }
   ],
   "source": [
    "# plot baseline and predictions\n",
    "# 中文乱码的处理\n",
    "plt.rcParams['font.sans-serif'] =['Microsoft YaHei']\n",
    "plt.rcParams['axes.unicode_minus'] = False\n",
    "\n",
    "xs = [datetime.strptime(d, '%Y-%m') for d in dates]\n",
    "\n",
    "fig = plt.figure(1)\n",
    "ax1 = plt.subplot(1, 1, 1)\n",
    "l1, = ax1.plot(xs, mean_dataset, color='xkcd:blue')\n",
    "l2, = ax1.plot(xs, trainPredictPlot, color='xkcd:orange')\n",
    "l3, = ax1.plot(xs, testPredictPlot, color='xkcd:green')\n",
    "\n",
    "plt.ylabel('价格/元/公斤')\n",
    "plt.xlabel('日期')\n",
    "plt.legend([l1, l2, l3], ['原始价格', '训练集预测结果', '测试集预测结果'], loc='upper right')\n",
    "plt.show()"
   ]
  },
  {
   "cell_type": "code",
   "execution_count": null,
   "metadata": {},
   "outputs": [],
   "source": []
  }
 ],
 "metadata": {
  "kernelspec": {
   "display_name": "Python 3",
   "language": "python",
   "name": "python3"
  },
  "language_info": {
   "codemirror_mode": {
    "name": "ipython",
    "version": 3
   },
   "file_extension": ".py",
   "mimetype": "text/x-python",
   "name": "python",
   "nbconvert_exporter": "python",
   "pygments_lexer": "ipython3",
   "version": "3.6.8"
  }
 },
 "nbformat": 4,
 "nbformat_minor": 2
}
