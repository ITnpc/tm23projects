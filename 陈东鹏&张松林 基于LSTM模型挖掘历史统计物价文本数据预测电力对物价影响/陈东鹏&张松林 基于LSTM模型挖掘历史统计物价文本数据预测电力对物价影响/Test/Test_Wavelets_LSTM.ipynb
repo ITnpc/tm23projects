{
 "cells": [
  {
   "cell_type": "code",
   "execution_count": 52,
   "metadata": {},
   "outputs": [],
   "source": [
    "import numpy as np\n",
    "import pandas\n",
    "import pylab as plt  # matplotlib的一个子包\n",
    "from sklearn.preprocessing import MinMaxScaler\n",
    "from math import sqrt\n",
    "from sklearn.utils import shuffle\n",
    "from scipy.sparse import coo_matrix\n",
    "from sklearn.metrics import mean_squared_error\n",
    "from sklearn.metrics import mean_absolute_error # 平方绝对误差\n",
    "from sklearn.metrics import r2_score  # R square\n",
    "\n",
    "import sys \n",
    "sys.path.append(r'D:\\\\xueqing\\\\workplace\\\\lstm\\\\Time-Series-Prediction-with-LSTM')  # 要用绝对路径\n",
    "from utils import eemd_tools, data_tools, networks_factory, data_metrics\n",
    "from utils.constants import const"
   ]
  },
  {
   "cell_type": "code",
   "execution_count": 53,
   "metadata": {},
   "outputs": [],
   "source": [
    "# fix random seed for reproducibility\n",
    "np.random.seed(7)"
   ]
  },
  {
   "cell_type": "markdown",
   "metadata": {},
   "source": [
    "# 导入数据"
   ]
  },
  {
   "cell_type": "code",
   "execution_count": 54,
   "metadata": {},
   "outputs": [
    {
     "name": "stdout",
     "output_type": "stream",
     "text": [
      "# shape (1901, 4)\n"
     ]
    }
   ],
   "source": [
    "data_multi = np.load(const.PROJECT_DIR + \"/data/wavelets/apple_multi.npy\")\n",
    "print(\"# shape\", data_multi.shape)  # not .shape()"
   ]
  },
  {
   "cell_type": "markdown",
   "metadata": {},
   "source": [
    "## data preprocessing"
   ]
  },
  {
   "cell_type": "code",
   "execution_count": 55,
   "metadata": {},
   "outputs": [
    {
     "name": "stdout",
     "output_type": "stream",
     "text": [
      "# shape: (1888, 53)\n",
      "True\n",
      "-----------done--------------\n",
      "1\n"
     ]
    }
   ],
   "source": [
    "# normalize features\n",
    "scaler = MinMaxScaler(feature_range=(-1, 1))\n",
    "scaled = scaler.fit_transform(data_multi)\n",
    "\n",
    "output = 1\n",
    "lags = [13]  # test one\n",
    "\n",
    "multi_data_supervised = list()\n",
    "for i, lag in enumerate(lags):\n",
    "    reframed = data_tools.series_to_supervised(scaled, lag, output)\n",
    "    # drop columns we don't want to predict\n",
    "    index_drop = [-j-1 for j in range(data_multi.shape[1] - 1)]\n",
    "    reframed.drop(reframed.columns[index_drop], axis=1, inplace=True)\n",
    "    data_supervised = reframed.values\n",
    "    multi_data_supervised.append(data_supervised)\n",
    "    print(\"# shape:\", reframed.shape)\n",
    "    print(len(data_multi) == len(reframed) + lag)\n",
    "    # print(reframed.head(3))\n",
    "\n",
    "print(\"-----------done--------------\")\n",
    "print(len(multi_data_supervised))"
   ]
  },
  {
   "cell_type": "markdown",
   "metadata": {},
   "source": [
    "# LSTM  \n",
    "validation_split=const.VALIDATION_SCALE"
   ]
  },
  {
   "cell_type": "code",
   "execution_count": 56,
   "metadata": {},
   "outputs": [],
   "source": [
    "n_lstm_neurons = 32\n",
    "n_epoch = networks_factory.EPOCHS\n",
    "n_batch_size = networks_factory.BATCH_SIZE"
   ]
  },
  {
   "cell_type": "code",
   "execution_count": 57,
   "metadata": {
    "scrolled": false
   },
   "outputs": [
    {
     "name": "stdout",
     "output_type": "stream",
     "text": [
      "-----------time steps: 13--------------\n",
      "Epoch 00484: early stopping\n",
      "# Finished Training...\n",
      "Train RMSE: 0.1235, Test RMSE: 0.0586\n",
      "Train MAPE: 0.0077, Test MAPE: 0.0058\n",
      "Train Dstat: 0.8310, Test Dstat: 0.8488\n",
      "# All Done!\n"
     ]
    }
   ],
   "source": [
    "df_metrics = pandas.DataFrame(index=['RMSE', 'MAPE', 'Dstat'], columns=np.arange(0, len(multi_data_supervised)))\n",
    "for i, data_supervised in enumerate(multi_data_supervised):\n",
    "    # split into train and test sets\n",
    "    train_size = int(len(data_supervised) * 0.80)\n",
    "    test_size = len(data_supervised) - train_size\n",
    "    train_data, test_data = data_supervised[0:train_size,:], data_supervised[train_size:len(data_multi),:]\n",
    "   \n",
    "    # split into input and outputs\n",
    "    train_X, train_Y = train_data[:, :-1], train_data[:, -1]\n",
    "    test_X, test_Y = test_data[:, :-1], test_data[:, -1]\n",
    "    \n",
    "    # reshape input to be 3D [samples, timesteps, features]\n",
    "    time_steps = lags[i]  # There are dependencies\n",
    "    print(\"-----------time steps: %d--------------\" % time_steps)\n",
    "    train_X = train_X.reshape((train_X.shape[0], time_steps, train_X.shape[1]//time_steps))\n",
    "    test_X = test_X.reshape((test_X.shape[0], time_steps, test_X.shape[1]//time_steps))\n",
    "    \n",
    "    # create and fit the LSTM network\n",
    "    n_dims = train_X.shape[2]\n",
    "    s, model = networks_factory.create_lstm_model(lstm_neurons=n_lstm_neurons, hidden_layers=2, \n",
    "                                                  lenth=time_steps, dims=n_dims, n_out=1)\n",
    "    \n",
    "    model.compile(loss='mae', optimizer='adam')\n",
    "    # fit network\n",
    "    history = model.fit(train_X, train_Y, epochs=n_epoch, batch_size=n_batch_size, validation_split=const.VALIDATION_SCALE, \n",
    "                        verbose=0, callbacks=[networks_factory.ES])\n",
    "    print(\"# Finished Training...\")\n",
    "    \n",
    "    # make a prediction\n",
    "    train_predict = model.predict(train_X)\n",
    "    test_predict = model.predict(test_X)\n",
    "    # invert predictions\n",
    "    inv_trainP, inv_trainY = data_tools.inv_transform_multi(scaler, train_X, train_predict, train_Y)\n",
    "    inv_testP, inv_testY = data_tools.inv_transform_multi(scaler, test_X, test_predict, test_Y)\n",
    "\n",
    "    # calculate RMSE, MAPE, Dstat\n",
    "    train_rmse = sqrt(mean_squared_error(inv_trainP, inv_trainY))\n",
    "    test_rmse = sqrt(mean_squared_error(inv_testP, inv_testY))\n",
    "    print('Train RMSE: %.4f, Test RMSE: %.4f' % (train_rmse, test_rmse))\n",
    "    train_mape = data_metrics.MAPE(inv_trainP, inv_trainY)\n",
    "    test_mape = data_metrics.MAPE(inv_testP, inv_testY)\n",
    "    print('Train MAPE: %.4f, Test MAPE: %.4f' % (train_mape, test_mape))\n",
    "    train_ds = data_metrics.Dstat(inv_trainP, inv_trainY)\n",
    "    test_ds = data_metrics.Dstat(inv_testP, inv_testY)\n",
    "    print('Train Dstat: %.4f, Test Dstat: %.4f' % (train_ds, test_ds))\n",
    "\n",
    "    # write to dataframe\n",
    "    df_metrics.iloc[0, i] = test_rmse\n",
    "    df_metrics.iloc[1, i] = test_mape\n",
    "    df_metrics.iloc[2, i] = test_ds\n",
    "\n",
    "print(\"# All Done!\")"
   ]
  },
  {
   "cell_type": "code",
   "execution_count": 58,
   "metadata": {},
   "outputs": [
    {
     "data": {
      "image/png": "[encoded data removed]",
      "text/plain": [
       "<Figure size 432x288 with 1 Axes>"
      ]
     },
     "metadata": {
      "needs_background": "light"
     },
     "output_type": "display_data"
    }
   ],
   "source": [
    "plt.plot(inv_testP)\n",
    "plt.plot(inv_testY)\n",
    "plt.show()"
   ]
  },
  {
   "cell_type": "code",
   "execution_count": null,
   "metadata": {},
   "outputs": [],
   "source": []
  }
 ],
 "metadata": {
  "kernelspec": {
   "display_name": "Python 3",
   "language": "python",
   "name": "python3"
  },
  "language_info": {
   "codemirror_mode": {
    "name": "ipython",
    "version": 3
   },
   "file_extension": ".py",
   "mimetype": "text/x-python",
   "name": "python",
   "nbconvert_exporter": "python",
   "pygments_lexer": "ipython3",
   "version": "3.6.9"
  }
 },
 "nbformat": 4,
 "nbformat_minor": 2
}
