{
 "cells": [
  {
   "cell_type": "markdown",
   "metadata": {},
   "source": [
    "# 用 LSTM 做时间序列预测"
   ]
  },
  {
   "cell_type": "code",
   "execution_count": 12,
   "metadata": {},
   "outputs": [],
   "source": [
    "import math\n",
    "import numpy\n",
    "from datetime import datetime\n",
    "import matplotlib.pyplot as plt\n",
    "from keras.utils import print_summary\n",
    "from keras.models import load_model\n",
    "from sklearn.metrics import r2_score\n",
    "from sklearn.metrics import mean_squared_error\n",
    "from sklearn.metrics import mean_absolute_error\n",
    "from utils import data_tools, networks_factory, data_metrics\n",
    "from utils.constants import const\n",
    "%matplotlib inline"
   ]
  },
  {
   "cell_type": "code",
   "execution_count": 13,
   "metadata": {},
   "outputs": [],
   "source": [
    "# fix random seed for reproducibility\n",
    "numpy.random.seed(7)"
   ]
  },
  {
   "cell_type": "markdown",
   "metadata": {},
   "source": [
    "## 导入数据"
   ]
  },
  {
   "cell_type": "code",
   "execution_count": 14,
   "metadata": {},
   "outputs": [
    {
     "name": "stdout",
     "output_type": "stream",
     "text": [
      "# shape:  (1901, 1)\n",
      "# shape:  (1901,)\n"
     ]
    }
   ],
   "source": [
    "dataset, dates = data_tools.load_data_from_csv(const.DATA_DIR + \"apple_interpolate.csv\")\n",
    "print(\"# shape: \", dataset.shape)\n",
    "print(\"# shape: \", dates.shape)"
   ]
  },
  {
   "cell_type": "code",
   "execution_count": 15,
   "metadata": {
    "scrolled": true
   },
   "outputs": [
    {
     "data": {
      "image/png": "[encoded data removed]",
      "text/plain": [
       "<Figure size 432x288 with 1 Axes>"
      ]
     },
     "metadata": {
      "needs_background": "light"
     },
     "output_type": "display_data"
    }
   ],
   "source": [
    "# 中文乱码的处理\n",
    "plt.rcParams['font.sans-serif'] =['Microsoft YaHei']\n",
    "plt.rcParams['axes.unicode_minus'] = False\n",
    "\n",
    "ys, xs = dataset, [datetime.strptime(d, '%Y-%m-%d') for d in dates]\n",
    "fig = plt.figure(1)\n",
    "ax1 = plt.subplot(1, 1, 1)\n",
    "l1, = ax1.plot(xs, ys, color='xkcd:blue')\n",
    "\n",
    "plt.ylabel('价格/元/公斤')\n",
    "plt.xlabel('日期')\n",
    "plt.legend([l1], ['富士苹果日价格'], loc='upper right')\n",
    "plt.show()"
   ]
  },
  {
   "cell_type": "markdown",
   "metadata": {},
   "source": [
    "## 数据转化与处理"
   ]
  },
  {
   "cell_type": "code",
   "execution_count": 16,
   "metadata": {},
   "outputs": [],
   "source": [
    "# normalize the dataset\n",
    "scaler = data_tools.Po_MinMaxScaler\n",
    "scaled_dataset = scaler.fit_transform(dataset)"
   ]
  },
  {
   "cell_type": "code",
   "execution_count": 17,
   "metadata": {},
   "outputs": [
    {
     "name": "stdout",
     "output_type": "stream",
     "text": [
      "# shape:  (1871, 30)\n",
      "# shape:  (1871, 1)\n"
     ]
    }
   ],
   "source": [
    "# reshape into X=t and Y=t+1\n",
    "look_back = const.LOOK_BACK\n",
    "dataX, dataY = data_tools.create_dataset(scaled_dataset, look_back)\n",
    "dataY = dataY.reshape((len(dataY), 1))  # to be two dims for inverse_transform\n",
    "print(\"# shape: \", dataX.shape)  # lenth 应等于 len(dataset)-look_back\n",
    "print(\"# shape: \", dataY.shape)"
   ]
  },
  {
   "cell_type": "code",
   "execution_count": 18,
   "metadata": {},
   "outputs": [
    {
     "name": "stdout",
     "output_type": "stream",
     "text": [
      "# lenth:  1496 375\n",
      "True\n"
     ]
    }
   ],
   "source": [
    "train_size = int(len(dataX) * const.TRAIN_SCALE)\n",
    "test_size = len(dataX) - train_size\n",
    "trainX, testX = dataX[0:train_size,:], dataX[train_size:len(dataset),:]\n",
    "trainY, testY = dataY[0:train_size,:], dataY[train_size:len(dataset),:]\n",
    "print(\"# lenth: \", len(trainX), len(testX))\n",
    "print(len(dataX) == len(trainX)+len(testX))"
   ]
  },
  {
   "cell_type": "code",
   "execution_count": 19,
   "metadata": {},
   "outputs": [],
   "source": [
    "from sklearn.utils import shuffle\n",
    "from scipy.sparse import coo_matrix\n",
    "\n",
    "# shuffle train set (include validation set)\n",
    "trainX_sparse = coo_matrix(trainX)  # sparse matrix\n",
    "trainX, trainX_sparse, trainY = shuffle(trainX, trainX_sparse, trainY, random_state=0)"
   ]
  },
  {
   "cell_type": "markdown",
   "metadata": {},
   "source": [
    "The LSTM network expects the input data (X) to be provided with a specific array structure in the form of: **[samples, time steps, features]**.\n",
    "\n",
    "Currently, our data is in the form: **[samples, features]** and we are framing the problem as one time step for each sample. We can transform the prepared train and test input data into the expected structure using numpy.reshape() as follows:"
   ]
  },
  {
   "cell_type": "code",
   "execution_count": 20,
   "metadata": {},
   "outputs": [
    {
     "name": "stdout",
     "output_type": "stream",
     "text": [
      "(1496, 30, 1)\n",
      "(375, 30, 1)\n"
     ]
    }
   ],
   "source": [
    "# reshape input to be [samples, time steps, features]\n",
    "time_steps = look_back\n",
    "trainX = numpy.reshape(trainX, (trainX.shape[0], time_steps, trainX.shape[1]//time_steps)) \n",
    "print(trainX.shape)\n",
    "testX = numpy.reshape(testX, (testX.shape[0], time_steps, testX.shape[1]//time_steps))\n",
    "print(testX.shape)"
   ]
  },
  {
   "cell_type": "markdown",
   "metadata": {},
   "source": [
    "## 建立 LSTM 模型\n",
    "\n",
    "return_sequences：默认 False。在输出序列中，返回单个 hidden state值还是返回全部time step 的 hidden state值。 False 返回单个， true 返回全部。\n",
    "\n",
    "To stack LSTM layers, we need to change the configuration of the prior LSTM layer to output a 3D array as input for the subsequent layer."
   ]
  },
  {
   "cell_type": "code",
   "execution_count": 21,
   "metadata": {},
   "outputs": [],
   "source": [
    "n_epoch = networks_factory.EPOCHS\n",
    "n_batch_size = networks_factory.BATCH_SIZE\n",
    "model_dir = const.EXPERIMENTS_DIR + \"/apple/lstm_univariate/\""
   ]
  },
  {
   "cell_type": "code",
   "execution_count": 22,
   "metadata": {},
   "outputs": [
    {
     "name": "stdout",
     "output_type": "stream",
     "text": [
      "Train on 1122 samples, validate on 374 samples\n",
      "Epoch 1/10\n",
      " - 6s - loss: 0.1549 - val_loss: 0.0467\n",
      "Epoch 2/10\n",
      " - 3s - loss: 0.0320 - val_loss: 0.0147\n",
      "Epoch 3/10\n",
      " - 3s - loss: 0.0155 - val_loss: 0.0143\n",
      "Epoch 4/10\n",
      " - 3s - loss: 0.0144 - val_loss: 0.0162\n",
      "Epoch 5/10\n",
      " - 3s - loss: 0.0149 - val_loss: 0.0134\n",
      "Epoch 6/10\n",
      " - 3s - loss: 0.0135 - val_loss: 0.0142\n",
      "Epoch 7/10\n",
      " - 3s - loss: 0.0133 - val_loss: 0.0129\n",
      "Epoch 8/10\n",
      " - 3s - loss: 0.0122 - val_loss: 0.0121\n",
      "Epoch 9/10\n",
      " - 3s - loss: 0.0126 - val_loss: 0.0118\n",
      "Epoch 10/10\n",
      " - 3s - loss: 0.0116 - val_loss: 0.0119\n"
     ]
    }
   ],
   "source": [
    "n_dim = trainX.shape[2]\n",
    "\n",
    "# create and fit the LSTM network\n",
    "# s, model = networks_factory.create_lstm_model_dropout(lstm_neurons=networks_factory.HIDDEN_NEURONS, \n",
    "#                                               hidden_layers=networks_factory.HIDDEN_LAYERS, \n",
    "#                                               lenth=time_steps, dims=n_dim, n_out=1, dropout_rate=0.5)\n",
    "s, model = networks_factory.create_lstm_model(lstm_neurons=networks_factory.HIDDEN_NEURONS, \n",
    "                                              hidden_layers=networks_factory.HIDDEN_LAYERS, \n",
    "                                              lenth=time_steps, dims=n_dim, n_out=1)\n",
    "# model = load_model(model_dir + \"model.h5\")\n",
    "\n",
    "model.compile(loss='mean_squared_error', optimizer='adam')\n",
    "history = model.fit(trainX, trainY, epochs=10, batch_size=n_batch_size, validation_split=const.VALIDATION_SCALE, \n",
    "                    verbose=2, callbacks=[networks_factory.ES]) \n",
    "# epochs=30, nearly converge"
   ]
  },
  {
   "cell_type": "code",
   "execution_count": 23,
   "metadata": {},
   "outputs": [
    {
     "name": "stdout",
     "output_type": "stream",
     "text": [
      "_________________________________________________________________\n",
      "Layer (type)                 Output Shape              Param #   \n",
      "=================================================================\n",
      "lstm_3 (LSTM)                (None, 30, 32)            4352      \n",
      "_________________________________________________________________\n",
      "lstm_4 (LSTM)                (None, 32)                8320      \n",
      "_________________________________________________________________\n",
      "dense_2 (Dense)              (None, 1)                 33        \n",
      "=================================================================\n",
      "Total params: 12,705\n",
      "Trainable params: 12,705\n",
      "Non-trainable params: 0\n",
      "_________________________________________________________________\n"
     ]
    }
   ],
   "source": [
    "print_summary(model)  # after the model was built"
   ]
  },
  {
   "cell_type": "code",
   "execution_count": 24,
   "metadata": {},
   "outputs": [
    {
     "data": {
      "image/png": "[encoded data removed]",
      "text/plain": [
       "<Figure size 432x288 with 1 Axes>"
      ]
     },
     "metadata": {
      "needs_background": "light"
     },
     "output_type": "display_data"
    }
   ],
   "source": [
    "# Plot training & validation loss values\n",
    "plt.plot(history.history['loss'])\n",
    "plt.plot(history.history['val_loss'])\n",
    "plt.title('Model loss')\n",
    "plt.ylabel('Loss')\n",
    "plt.xlabel('Epoch')\n",
    "plt.legend(['Train', 'Validate'], loc='upper left')\n",
    "plt.show()"
   ]
  },
  {
   "cell_type": "markdown",
   "metadata": {},
   "source": [
    "## 预测评估\n",
    "Note that traing data are shuffled..."
   ]
  },
  {
   "cell_type": "code",
   "execution_count": 25,
   "metadata": {},
   "outputs": [
    {
     "name": "stdout",
     "output_type": "stream",
     "text": [
      "Train RMSE: 1.2745, Validate RMSE: 1.2986\n",
      "Train MAPE: 0.0855, Validate MAPE: 0.0870\n",
      "Train Dstat: 0.8796, Validate Dstat: 0.8981\n"
     ]
    }
   ],
   "source": [
    "n_validate = int(len(trainX) * const.VALIDATION_SCALE)\n",
    "\n",
    "# make a prediction\n",
    "train_predict = model.predict(trainX)\n",
    "validate_predict = train_predict[-n_validate:]\n",
    "# invert predictions\n",
    "inv_trainP = scaler.inverse_transform(train_predict)\n",
    "inv_trainY = scaler.inverse_transform(trainY)\n",
    "inv_validateP = inv_trainP[-n_validate:]\n",
    "inv_validateY = inv_trainY[-n_validate:]\n",
    "\n",
    "# calculate RMSE, MAPE, Dstat\n",
    "train_rmse = math.sqrt(mean_squared_error(inv_trainP, inv_trainY))\n",
    "validate_rmse = math.sqrt(mean_squared_error(inv_validateP, inv_validateY))\n",
    "print('Train RMSE: %.4f, Validate RMSE: %.4f' % (train_rmse, validate_rmse))\n",
    "\n",
    "train_mape = data_metrics.MAPE(inv_trainP, inv_trainY)\n",
    "validate_mape = data_metrics.MAPE(inv_validateP, inv_validateY)\n",
    "print('Train MAPE: %.4f, Validate MAPE: %.4f' % (train_mape, validate_mape))\n",
    "\n",
    "train_ds = data_metrics.Dstat(inv_trainP, inv_trainY)\n",
    "validate_ds = data_metrics.Dstat(inv_validateP, inv_validateY)\n",
    "print('Train Dstat: %.4f, Validate Dstat: %.4f' % (train_ds, validate_ds))"
   ]
  },
  {
   "cell_type": "code",
   "execution_count": 26,
   "metadata": {},
   "outputs": [
    {
     "name": "stdout",
     "output_type": "stream",
     "text": [
      "# shape:  (1496, 1)\n",
      "# shape:  (1496, 1)\n",
      "Train RMSE: 1.2745, Test RMSE: 0.7284\n",
      "Train MAPE: 0.0855, Test MAPE: 0.0720\n",
      "Train Dstat: 0.8796, Test Dstat: 0.8396\n"
     ]
    }
   ],
   "source": [
    "# make predictions\n",
    "trainPredict = model.predict(trainX)\n",
    "testPredict = model.predict(testX)\n",
    "print(\"# shape: \", trainPredict.shape)\n",
    "\n",
    "# invert predictions\n",
    "inv_trainP = scaler.inverse_transform(trainPredict)\n",
    "inv_trainY = scaler.inverse_transform(trainY)\n",
    "inv_testP = scaler.inverse_transform(testPredict)\n",
    "inv_testY = scaler.inverse_transform(testY)\n",
    "print(\"# shape: \", inv_trainP.shape)\n",
    "\n",
    "# calculate RMSE, MAPE, Dstat\n",
    "train_rmse = math.sqrt(mean_squared_error(inv_trainP, inv_trainY))\n",
    "test_rmse = math.sqrt(mean_squared_error(inv_testP, inv_testY))\n",
    "print('Train RMSE: %.4f, Test RMSE: %.4f' % (train_rmse, test_rmse))\n",
    "train_mape = data_metrics.MAPE(inv_trainP, inv_trainY)\n",
    "test_mape = data_metrics.MAPE(inv_testP, inv_testY)\n",
    "print('Train MAPE: %.4f, Test MAPE: %.4f' % (train_mape, test_mape))\n",
    "train_ds = data_metrics.Dstat(inv_trainP, inv_trainY)\n",
    "test_ds = data_metrics.Dstat(inv_testP, inv_testY)\n",
    "print('Train Dstat: %.4f, Test Dstat: %.4f' % (train_ds, test_ds))"
   ]
  },
  {
   "cell_type": "markdown",
   "metadata": {},
   "source": [
    "## 画出结果\n",
    "plot time's order"
   ]
  },
  {
   "cell_type": "code",
   "execution_count": 27,
   "metadata": {},
   "outputs": [],
   "source": [
    "# for time's order\n",
    "trainX, trainY = dataX[0:train_size,:], dataY[0:train_size,:]\n",
    "trainX = numpy.reshape(trainX, (trainX.shape[0], time_steps, trainX.shape[1]//time_steps)) \n",
    "trainPredict = model.predict(trainX)"
   ]
  },
  {
   "cell_type": "code",
   "execution_count": 28,
   "metadata": {},
   "outputs": [
    {
     "data": {
      "image/png": "[encoded data removed]",
      "text/plain": [
       "<Figure size 432x288 with 1 Axes>"
      ]
     },
     "metadata": {
      "needs_background": "light"
     },
     "output_type": "display_data"
    }
   ],
   "source": [
    "trainPredictPlot = numpy.empty_like(dataset)\n",
    "trainPredictPlot[:,:] = numpy.nan\n",
    "trainPredictPlot[look_back:len(trainPredict)+look_back,:] = inv_trainP[:]  # index from a to b-1\n",
    "\n",
    "# shift test predictions for plotting\n",
    "testPredictPlot = numpy.empty_like(dataset)\n",
    "testPredictPlot[:,:] = numpy.nan\n",
    "testPredictPlot[len(trainPredict)+look_back:len(dataset),:] = inv_testP[:]\n",
    "\n",
    "# plot baseline and predictions\n",
    "plt.plot(dataset)\n",
    "plt.plot(trainPredictPlot)\n",
    "plt.plot(testPredictPlot)\n",
    "plt.show()"
   ]
  },
  {
   "cell_type": "markdown",
   "metadata": {},
   "source": [
    "## Save Model"
   ]
  },
  {
   "cell_type": "code",
   "execution_count": 29,
   "metadata": {},
   "outputs": [],
   "source": [
    "# 保存参数，载入参数\n",
    "# model.save(model_dir + \"model.h5\")  # HDF5文件，pip install h5py\n",
    "# model.save_weights(model_dir + \"my_model_weights.h5\")\n",
    "# model.load_weights('my_model_weights.h5')"
   ]
  },
  {
   "cell_type": "markdown",
   "metadata": {},
   "source": [
    "参考：[Time Series Prediction with LSTM Recurrent Neural Networks in Python with Keras](https://machinelearningmastery.com/time-series-prediction-lstm-recurrent-neural-networks-python-keras/\"Title\")"
   ]
  }
 ],
 "metadata": {
  "kernelspec": {
   "display_name": "Python 3",
   "language": "python",
   "name": "python3"
  },
  "language_info": {
   "codemirror_mode": {
    "name": "ipython",
    "version": 3
   },
   "file_extension": ".py",
   "mimetype": "text/x-python",
   "name": "python",
   "nbconvert_exporter": "python",
   "pygments_lexer": "ipython3",
   "version": "3.6.8"
  }
 },
 "nbformat": 4,
 "nbformat_minor": 2
}
