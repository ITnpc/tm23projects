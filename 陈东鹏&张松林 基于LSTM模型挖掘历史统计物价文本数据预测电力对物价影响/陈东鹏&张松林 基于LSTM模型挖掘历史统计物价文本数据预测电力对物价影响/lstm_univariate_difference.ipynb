{
 "cells": [
  {
   "cell_type": "markdown",
   "metadata": {},
   "source": [
    "# 用 LSTM 做时间序列预测"
   ]
  },
  {
   "cell_type": "code",
   "execution_count": 14,
   "metadata": {},
   "outputs": [],
   "source": [
    "import numpy\n",
    "import matplotlib.pyplot as plt\n",
    "import pandas\n",
    "import math\n",
    "from keras.utils import print_summary\n",
    "from keras.models import Sequential\n",
    "from keras.models import load_model\n",
    "from keras.layers import Dense, LSTM, BatchNormalization\n",
    "from sklearn.preprocessing import MinMaxScaler\n",
    "from sklearn.metrics import mean_squared_error\n",
    "from sklearn.metrics import mean_absolute_error #平方绝对误差\n",
    "from sklearn.metrics import r2_score #R square\n",
    "from utils import data_tools, networks_factory, data_metrics\n",
    "from utils.constants import const\n",
    "%matplotlib inline"
   ]
  },
  {
   "cell_type": "code",
   "execution_count": 15,
   "metadata": {},
   "outputs": [],
   "source": [
    "# fix random seed for reproducibility\n",
    "numpy.random.seed(7)"
   ]
  },
  {
   "cell_type": "markdown",
   "metadata": {},
   "source": [
    "## 导入数据"
   ]
  },
  {
   "cell_type": "code",
   "execution_count": 16,
   "metadata": {},
   "outputs": [
    {
     "name": "stdout",
     "output_type": "stream",
     "text": [
      "# shape:  (1901, 1)\n"
     ]
    },
    {
     "data": {
      "image/png": "[encoded data removed]",
      "text/plain": [
       "<Figure size 432x288 with 1 Axes>"
      ]
     },
     "metadata": {
      "needs_background": "light"
     },
     "output_type": "display_data"
    }
   ],
   "source": [
    "dataset, dates = data_tools.load_data_from_csv(const.DATA_DIR + \"apple_interpolate.csv\")\n",
    "print(\"# shape: \", dataset.shape)\n",
    "\n",
    "# plot\n",
    "plt.plot(dataset)\n",
    "plt.show()"
   ]
  },
  {
   "cell_type": "markdown",
   "metadata": {},
   "source": [
    "## 数据转化与处理"
   ]
  },
  {
   "cell_type": "code",
   "execution_count": 17,
   "metadata": {},
   "outputs": [
    {
     "name": "stdout",
     "output_type": "stream",
     "text": [
      "# shape: (1900, 1)\n"
     ]
    }
   ],
   "source": [
    "# transform data to be stationary\n",
    "diff_internal = 1\n",
    "diff_series = data_tools.difference(dataset, diff_internal)\n",
    "diff_values = diff_series.values\n",
    "diff_values = diff_values.reshape(len(diff_values), 1)\n",
    "print(\"# shape:\", diff_values.shape)"
   ]
  },
  {
   "cell_type": "code",
   "execution_count": 18,
   "metadata": {},
   "outputs": [
    {
     "name": "stderr",
     "output_type": "stream",
     "text": [
      "C:\\Users\\demo\\Anaconda3\\envs\\tensorflow\\lib\\site-packages\\sklearn\\utils\\validation.py:595: DataConversionWarning: Data with input dtype object was converted to float64 by MinMaxScaler.\n",
      "  warnings.warn(msg, DataConversionWarning)\n"
     ]
    }
   ],
   "source": [
    "# rescale values to -1, 1\n",
    "scaler = data_tools.Po_MinMaxScaler\n",
    "scaled_values = scaler.fit_transform(diff_values)\n",
    "# scaled_values = scaled_values.reshape(len(scaled_values), 1)\n",
    "\n",
    "# test series_to_supervised 1\n",
    "# scaled_values = diff_values"
   ]
  },
  {
   "cell_type": "code",
   "execution_count": 19,
   "metadata": {},
   "outputs": [
    {
     "name": "stdout",
     "output_type": "stream",
     "text": [
      "# shape: (1870, 31)\n",
      "# train, test length: 1497 373\n",
      "# length: True\n"
     ]
    }
   ],
   "source": [
    "# transform into supervised learning problem X, y\n",
    "n_lag = const.LOOK_BACK\n",
    "n_seq = const.OUTPUT\n",
    "supervised = data_tools.series_to_supervised(scaled_values, n_lag, n_seq)\n",
    "supervised_values = supervised.values\n",
    "print(\"# shape:\", supervised_values.shape)\n",
    "\n",
    "# split into train and test sets\n",
    "n_test = int(len(supervised_values) * (1 - const.TRAIN_SCALE))\n",
    "train, test = supervised_values[0:-n_test], supervised_values[-n_test:]\n",
    "print(\"# train, test length:\", len(train), len(test))\n",
    "print(\"# length:\", len(diff_values) - n_lag == len(train) + len(test))  # single step\n",
    "\n",
    "# test series_to_supervised 2\n",
    "# for i in range(len(supervised_values)): \n",
    "#     if(not supervised_values[i][n_lag] - scaled_values[n_lag + i] < 0.0001):\n",
    "#         print(\"BAD.\")"
   ]
  },
  {
   "cell_type": "code",
   "execution_count": 20,
   "metadata": {},
   "outputs": [
    {
     "name": "stdout",
     "output_type": "stream",
     "text": [
      "(1497, 30)\n",
      "(1497, 1)\n"
     ]
    }
   ],
   "source": [
    "trainX, trainY = train[:, 0:n_lag], train[:, n_lag:]\n",
    "testX, testY = test[:, 0:n_lag], test[:, n_lag:]\n",
    "print(trainX.shape)\n",
    "print(trainY.shape)"
   ]
  },
  {
   "cell_type": "code",
   "execution_count": 21,
   "metadata": {},
   "outputs": [],
   "source": [
    "from sklearn.utils import shuffle\n",
    "from scipy.sparse import coo_matrix\n",
    "\n",
    "# shuffle train set (include validation set)\n",
    "trainX_sparse = coo_matrix(trainX)  # sparse matrix\n",
    "trainX, trainX_sparse, trainY = shuffle(trainX, trainX_sparse, trainY, random_state=0)"
   ]
  },
  {
   "cell_type": "markdown",
   "metadata": {},
   "source": [
    "## 建立 LSTM 模型\n",
    "\n",
    "return_sequences：默认 False。在输出序列中，返回单个 hidden state值还是返回全部time step 的 hidden state值。 False 返回单个， true 返回全部。\n",
    "\n",
    "To stack LSTM layers, we need to change the configuration of the prior LSTM layer to output a 3D array as input for the subsequent layer."
   ]
  },
  {
   "cell_type": "code",
   "execution_count": 22,
   "metadata": {},
   "outputs": [
    {
     "name": "stdout",
     "output_type": "stream",
     "text": [
      "(373, 30, 1)\n",
      "(373, 1)\n"
     ]
    }
   ],
   "source": [
    "# reshape training into [samples, timesteps, features]\n",
    "time_steps = n_lag\n",
    "trainX = numpy.reshape(trainX, (trainX.shape[0], time_steps, trainX.shape[1]//time_steps)) \n",
    "testX = numpy.reshape(testX, (testX.shape[0], time_steps, testX.shape[1]//time_steps))\n",
    "print(testX.shape)\n",
    "print(testY.shape)"
   ]
  },
  {
   "cell_type": "code",
   "execution_count": 23,
   "metadata": {},
   "outputs": [
    {
     "name": "stdout",
     "output_type": "stream",
     "text": [
      "Train on 1122 samples, validate on 375 samples\n",
      "Epoch 1/10\n",
      " - 4s - loss: 0.1202 - val_loss: 0.0049\n",
      "Epoch 2/10\n",
      " - 3s - loss: 0.0040 - val_loss: 0.0044\n",
      "Epoch 3/10\n",
      " - 3s - loss: 0.0033 - val_loss: 0.0043\n",
      "Epoch 4/10\n",
      " - 3s - loss: 0.0032 - val_loss: 0.0042\n",
      "Epoch 5/10\n",
      " - 3s - loss: 0.0032 - val_loss: 0.0043\n",
      "Epoch 6/10\n",
      " - 2s - loss: 0.0032 - val_loss: 0.0043\n",
      "Epoch 7/10\n",
      " - 2s - loss: 0.0033 - val_loss: 0.0048\n",
      "Epoch 8/10\n",
      " - 2s - loss: 0.0032 - val_loss: 0.0042\n",
      "Epoch 9/10\n",
      " - 2s - loss: 0.0033 - val_loss: 0.0044\n",
      "Epoch 10/10\n",
      " - 3s - loss: 0.0033 - val_loss: 0.0042\n"
     ]
    }
   ],
   "source": [
    "n_dim = trainX.shape[2]\n",
    "# create and fit the LSTM network\n",
    "s, model = networks_factory.create_lstm_model(lstm_neurons=networks_factory.HIDDEN_NEURONS, \n",
    "                                              hidden_layers=networks_factory.HIDDEN_LAYERS, \n",
    "                                              lenth=time_steps, dims=n_dim, n_out=1)\n",
    "# model = load_model(model_dir + \"model.h5\")\n",
    "\n",
    "n_epoch = networks_factory.EPOCHS\n",
    "n_batch_size = networks_factory.BATCH_SIZE\n",
    "model_dir = const.EXPERIMENTS_DIR + \"/apple/lstm_univariate/\"\n",
    "\n",
    "model.compile(loss='mean_squared_error', optimizer='adam')\n",
    "history = model.fit(trainX, trainY, epochs=10, batch_size=n_batch_size, validation_split=const.VALIDATION_SCALE,\n",
    "                    verbose=2, callbacks=[networks_factory.ES])  # verbose：debug信息"
   ]
  },
  {
   "cell_type": "code",
   "execution_count": 24,
   "metadata": {},
   "outputs": [
    {
     "name": "stdout",
     "output_type": "stream",
     "text": [
      "_________________________________________________________________\n",
      "Layer (type)                 Output Shape              Param #   \n",
      "=================================================================\n",
      "lstm_3 (LSTM)                (None, 30, 32)            4352      \n",
      "_________________________________________________________________\n",
      "lstm_4 (LSTM)                (None, 32)                8320      \n",
      "_________________________________________________________________\n",
      "dense_2 (Dense)              (None, 1)                 33        \n",
      "=================================================================\n",
      "Total params: 12,705\n",
      "Trainable params: 12,705\n",
      "Non-trainable params: 0\n",
      "_________________________________________________________________\n"
     ]
    }
   ],
   "source": [
    "print_summary(model)  # after the model was built"
   ]
  },
  {
   "cell_type": "code",
   "execution_count": 25,
   "metadata": {},
   "outputs": [
    {
     "data": {
      "image/png": "[encoded data removed]",
      "text/plain": [
       "<Figure size 432x288 with 1 Axes>"
      ]
     },
     "metadata": {
      "needs_background": "light"
     },
     "output_type": "display_data"
    }
   ],
   "source": [
    "# Plot training & validation loss values\n",
    "plt.plot(history.history['loss'])\n",
    "plt.plot(history.history['val_loss'])\n",
    "plt.title('Model loss')\n",
    "plt.ylabel('Loss')\n",
    "plt.xlabel('Epoch')\n",
    "plt.legend(['Train', 'Test'], loc='upper left')\n",
    "plt.show()"
   ]
  },
  {
   "cell_type": "markdown",
   "metadata": {},
   "source": [
    "## 预测评估\n",
    "Note that traing data are shuffled..."
   ]
  },
  {
   "cell_type": "code",
   "execution_count": 26,
   "metadata": {},
   "outputs": [],
   "source": [
    "# for time's order\n",
    "trainX, trainY = train[:, 0:n_lag], train[:, n_lag:]\n",
    "trainX = numpy.reshape(trainX, (trainX.shape[0], time_steps, trainX.shape[1]//time_steps)) "
   ]
  },
  {
   "cell_type": "code",
   "execution_count": 27,
   "metadata": {},
   "outputs": [
    {
     "name": "stdout",
     "output_type": "stream",
     "text": [
      "Train RMSE: 0.7820, Validate RMSE: 0.5727\n",
      "Train MAPE: 0.0637, Validate MAPE: 0.0722\n",
      "Train Dstat: 0.6718, Validate Dstat: 0.7212\n"
     ]
    }
   ],
   "source": [
    "n_validate = int(len(trainX) * const.VALIDATION_SCALE)\n",
    "\n",
    "# make a prediction\n",
    "train_predict = model.predict(trainX)\n",
    "validate_predict = train_predict[-n_validate:]\n",
    "# invert predictions\n",
    "inv_trainP = scaler.inverse_transform(train_predict)\n",
    "inv_trainY = scaler.inverse_transform(trainY)\n",
    "inv_validateP = inv_trainP[-n_validate:]\n",
    "inv_validateY = inv_trainY[-n_validate:]\n",
    "\n",
    "# invert trainPredict differencing\n",
    "inv_diff_trainP = train_predict.copy()\n",
    "# inv_diff_trainPredict = trainY.copy()  # test inv_diff's for loop; clear\n",
    "for i in range(len(train_predict)):\n",
    "    index = diff_internal + n_lag + i - 1  # 1 step forward\n",
    "    inv_diff_trainP[i] = dataset[index] + inv_diff_trainP[i]\n",
    "inv_diff_trainY = dataset[(diff_internal + n_lag):-n_test, :]\n",
    "\n",
    "inv_diff_validateP = inv_diff_trainP[-n_validate:]\n",
    "inv_diff_validateY = inv_diff_trainY[-n_validate:]\n",
    "\n",
    "# calculate RMSE, MAPE, Dstat\n",
    "train_rmse = math.sqrt(mean_squared_error(inv_diff_trainY, inv_diff_trainP))\n",
    "validate_rmse = math.sqrt(mean_squared_error(inv_diff_validateY, inv_diff_validateP))\n",
    "print('Train RMSE: %.4f, Validate RMSE: %.4f' % (train_rmse, validate_rmse))\n",
    "\n",
    "train_mape = data_metrics.MAPE(inv_diff_trainY, inv_diff_trainP)\n",
    "validate_mape = data_metrics.MAPE(inv_diff_validateY, inv_diff_validateP)\n",
    "print('Train MAPE: %.4f, Validate MAPE: %.4f' % (train_mape, validate_mape))\n",
    "\n",
    "train_ds = data_metrics.Dstat(inv_diff_trainY, inv_diff_trainP)\n",
    "validate_ds = data_metrics.Dstat(inv_diff_validateY, inv_diff_validateP)\n",
    "print('Train Dstat: %.4f, Validate Dstat: %.4f' % (train_ds, validate_ds))"
   ]
  },
  {
   "cell_type": "code",
   "execution_count": 28,
   "metadata": {},
   "outputs": [
    {
     "name": "stdout",
     "output_type": "stream",
     "text": [
      "# shape (1497, 1)\n",
      "# shape (1497, 1)\n",
      "# shape (373, 1)\n",
      "# shape (373, 1)\n"
     ]
    }
   ],
   "source": [
    "# make predictions\n",
    "trainPredict = model.predict(trainX)\n",
    "testPredict = model.predict(testX)\n",
    "\n",
    "# invert predictions\n",
    "inv_trainP = scaler.inverse_transform(trainPredict)\n",
    "inv_trainY = scaler.inverse_transform(trainY)\n",
    "inv_testP = scaler.inverse_transform(testPredict)\n",
    "inv_testY = scaler.inverse_transform(testY)\n",
    "\n",
    "# invert trainPredict differencing\n",
    "inv_diff_trainPredict = trainPredict.copy()\n",
    "# inv_diff_trainPredict = trainY.copy()  # test inv_diff's for loop; clear\n",
    "for i in range(len(trainPredict)):\n",
    "    index = diff_internal + n_lag + i - 1  # 1 step forward\n",
    "    inv_diff_trainPredict[i] = dataset[index] + inv_diff_trainPredict[i]\n",
    "print(\"# shape\", inv_diff_trainPredict.shape)\n",
    "# print(inv_diff_trainPredict)\n",
    "    \n",
    "inv_diff_trainY = dataset[(diff_internal + n_lag):-n_test, :]\n",
    "print(\"# shape\", inv_diff_trainY.shape)\n",
    "# print(inv_diff_trainY)\n",
    "\n",
    "# invert testPredict differencing\n",
    "inv_diff_testPredict = testPredict.copy()\n",
    "# inv_diff_testPredict = testY.copy()  # test inv_diff's for loop; clear\n",
    "for i in range(len(testPredict)):\n",
    "    index = -n_test + i - 1  # 1 step forward\n",
    "    inv_diff_testPredict[i] = dataset[index] + inv_diff_testPredict[i]\n",
    "print(\"# shape\", inv_diff_testPredict.shape)\n",
    "# print(inv_diff_testPredict)\n",
    "    \n",
    "inv_diff_testY = dataset[-n_test:, :]\n",
    "print(\"# shape\", inv_diff_testY.shape)\n",
    "# print(inv_diff_testY)"
   ]
  },
  {
   "cell_type": "code",
   "execution_count": 29,
   "metadata": {},
   "outputs": [
    {
     "name": "stdout",
     "output_type": "stream",
     "text": [
      "Train RMSE: 0.7820, Test RMSE: 0.5514\n",
      "Train MAPE: 0.0637, Test MAPE: 0.0662\n",
      "Train Dstat: 0.6718, Test Dstat: 0.6317\n"
     ]
    }
   ],
   "source": [
    "# calculate RMSE, MAPE, Dstat\n",
    "train_rmse = math.sqrt(mean_squared_error(inv_diff_trainY, inv_diff_trainPredict))\n",
    "test_rmse = math.sqrt(mean_squared_error(inv_diff_testY, inv_diff_testPredict))\n",
    "print('Train RMSE: %.4f, Test RMSE: %.4f' % (train_rmse, test_rmse))\n",
    "\n",
    "train_mape = data_metrics.MAPE(inv_diff_trainY, inv_diff_trainPredict)\n",
    "test_mape = data_metrics.MAPE(inv_diff_testY, inv_diff_testPredict)\n",
    "print('Train MAPE: %.4f, Test MAPE: %.4f' % (train_mape, test_mape))\n",
    "\n",
    "train_ds = data_metrics.Dstat(inv_diff_trainY, inv_diff_trainPredict)\n",
    "test_ds = data_metrics.Dstat(inv_diff_testY, inv_diff_testPredict)\n",
    "print('Train Dstat: %.4f, Test Dstat: %.4f' % (train_ds, test_ds))"
   ]
  },
  {
   "cell_type": "markdown",
   "metadata": {},
   "source": [
    "## 画出结果"
   ]
  },
  {
   "cell_type": "code",
   "execution_count": 30,
   "metadata": {},
   "outputs": [
    {
     "data": {
      "image/png": "[encoded data removed]",
      "text/plain": [
       "<Figure size 432x288 with 1 Axes>"
      ]
     },
     "metadata": {
      "needs_background": "light"
     },
     "output_type": "display_data"
    }
   ],
   "source": [
    "look_back = n_lag\n",
    "\n",
    "# shift train predictions for plotting\n",
    "trainPredictPlot = numpy.empty_like(dataset)\n",
    "trainPredictPlot[:, :] = numpy.nan\n",
    "trainPredictPlot[look_back:len(inv_diff_trainPredict)+look_back, :] = inv_diff_trainPredict[:]  # 不包括len(trainPredict)+look_back\n",
    "\n",
    "# shift test predictions for plotting\n",
    "testPredictPlot = numpy.empty_like(dataset)\n",
    "testPredictPlot[:, :] = numpy.nan\n",
    "testPredictPlot[len(inv_diff_trainPredict)+look_back+1:len(dataset),:] = inv_diff_testPredict[:]\n",
    "# 注意由于划分了训练集和测试集，总的samples数目会减少：len(dataset - lookback) - (len(trainX)+len(testX))\n",
    "\n",
    "# plot baseline and predictions\n",
    "plt.plot(dataset)\n",
    "plt.plot(trainPredictPlot)\n",
    "plt.plot(testPredictPlot)\n",
    "plt.show()"
   ]
  },
  {
   "cell_type": "markdown",
   "metadata": {},
   "source": [
    "## Save Model"
   ]
  },
  {
   "cell_type": "code",
   "execution_count": 31,
   "metadata": {},
   "outputs": [],
   "source": [
    "# 保存参数，载入参数\n",
    "# model.save(model_dir + \"model.h5\")  # HDF5文件，pip install h5py\n",
    "# model.save_weights(model_dir + \"my_model_weights.h5\")\n",
    "# model.load_weights('my_model_weights.h5')"
   ]
  },
  {
   "cell_type": "markdown",
   "metadata": {},
   "source": [
    "参考：[Time Series Prediction with LSTM Recurrent Neural Networks in Python with Keras](https://machinelearningmastery.com/time-series-prediction-lstm-recurrent-neural-networks-python-keras/\"Title\")"
   ]
  }
 ],
 "metadata": {
  "kernelspec": {
   "display_name": "Python 3",
   "language": "python",
   "name": "python3"
  },
  "language_info": {
   "codemirror_mode": {
    "name": "ipython",
    "version": 3
   },
   "file_extension": ".py",
   "mimetype": "text/x-python",
   "name": "python",
   "nbconvert_exporter": "python",
   "pygments_lexer": "ipython3",
   "version": "3.6.8"
  }
 },
 "nbformat": 4,
 "nbformat_minor": 2
}
