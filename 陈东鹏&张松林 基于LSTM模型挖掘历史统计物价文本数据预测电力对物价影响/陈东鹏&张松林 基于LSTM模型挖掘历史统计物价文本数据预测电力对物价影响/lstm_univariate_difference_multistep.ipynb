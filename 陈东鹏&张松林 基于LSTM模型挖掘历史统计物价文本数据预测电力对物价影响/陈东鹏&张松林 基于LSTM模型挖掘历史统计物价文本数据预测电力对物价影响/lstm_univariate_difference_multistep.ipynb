{
 "cells": [
  {
   "cell_type": "code",
   "execution_count": 14,
   "metadata": {},
   "outputs": [],
   "source": [
    "import math\n",
    "import numpy\n",
    "import keras\n",
    "import matplotlib.pyplot as plt\n",
    "from pandas import DataFrame\n",
    "from pandas import Series\n",
    "from pandas import concat\n",
    "from pandas import read_csv\n",
    "from pandas import datetime\n",
    "from sklearn.metrics import mean_squared_error\n",
    "from sklearn.preprocessing import MinMaxScaler\n",
    "from keras.models import Sequential\n",
    "from keras.layers import Dense\n",
    "from keras.layers import LSTM\n",
    "from keras.layers import BatchNormalization\n",
    "from math import sqrt\n",
    "from numpy import array\n",
    "from utils import data_tools, networks_factory, data_metrics\n",
    "from utils.constants import const\n",
    "%matplotlib inline"
   ]
  },
  {
   "cell_type": "code",
   "execution_count": 15,
   "metadata": {},
   "outputs": [],
   "source": [
    "# fix random seed for reproducibility\n",
    "numpy.random.seed(7)\n",
    "numpy.set_printoptions(threshold=10)"
   ]
  },
  {
   "cell_type": "code",
   "execution_count": 16,
   "metadata": {},
   "outputs": [],
   "source": [
    "# NOTICE: neeed \"\t\"\n",
    " \n",
    "# transform series into train and test sets for supervised learning\n",
    "def prepare_data(series, test_split, n_lag, n_seq):\n",
    "\t# extract raw values\n",
    "\traw_values = series.values\n",
    "\t# transform data to be stationary\n",
    "\tdiff_series = data_tools.difference(raw_values, 1)  # no difference\n",
    "\tdiff_values = diff_series.values\n",
    "\tdiff_values = diff_values.reshape(len(diff_values), 1)\n",
    "\t# rescale values to -1, 1\n",
    "\tscaler = MinMaxScaler(feature_range=(-1, 1))\n",
    "\tscaled_values = scaler.fit_transform(diff_values)\n",
    "\tscaled_values = scaled_values.reshape(len(scaled_values), 1)\n",
    "\t# transform into supervised learning problem X, y\n",
    "\tsupervised_values = data_tools.series_to_supervised(scaled_values, n_lag, n_seq)\n",
    "\t# split into train and test sets\n",
    "\tn_test = int(len(supervised_values) * test_split)\n",
    "\ttrain, test = supervised_values[0:-n_test], supervised_values[-n_test:]\n",
    "\treturn scaler, train, test\n",
    " \n",
    "# inverse data transform on forecasts\n",
    "def inverse_transform(series, forecasts, scaler, n_index):\n",
    "\tinverted = list()\n",
    "\tfor i in range(len(forecasts)):\n",
    "\t\t# create array from forecast\n",
    "\t\tforecast = array(forecasts[i])\n",
    "\t\tforecast = forecast.reshape(1, len(forecast))\n",
    "\t\t# invert scaling\n",
    "\t\tinv_scale = scaler.inverse_transform(forecast)\n",
    "\t\tinv_scale = inv_scale[0, :]\n",
    "\t\t# invert differencing\n",
    "\t\tindex = n_index + i\n",
    "\t\tlast_ob = series.values[index]\n",
    "\t\tinv_diff = data_tools.inverse_difference(last_ob, inv_scale)\n",
    "\t\t# store\n",
    "\t\tinverted.append(inv_diff)\n",
    "\tn_seq = len(forecast[0])\n",
    "\tinverted = numpy.array(inverted)\n",
    "\tinverted = numpy.reshape(inverted, (inverted.shape[0], n_seq))\n",
    "\treturn inverted\n",
    "\n",
    "# plot the forecasts in the context of the original dataset\n",
    "def plot_forecasts(series, forecasts, n_test):\n",
    "\t# plot the entire dataset in blue\n",
    "\tpyplot.plot(series.values)\n",
    "\t# plot the forecasts in red\n",
    "\tfor i in range(len(forecasts)):\n",
    "\t\toff_s = len(series) - n_test + i - 1\n",
    "\t\toff_e = off_s + len(forecasts[i]) + 1\n",
    "\t\txaxis = [x for x in range(off_s, off_e)]\n",
    "\t\tyaxis = [series.values[off_s]] + forecasts[i]\n",
    "\t\tpyplot.plot(xaxis, yaxis, color='red')\n",
    "\t# show the plot\n",
    "\tpyplot.show()"
   ]
  },
  {
   "cell_type": "code",
   "execution_count": 17,
   "metadata": {
    "scrolled": true
   },
   "outputs": [
    {
     "name": "stdout",
     "output_type": "stream",
     "text": [
      "# shape: (1495, 33) (373, 33)\n",
      "# shape: (1495, 33) (373, 33)\n"
     ]
    }
   ],
   "source": [
    "numpy.set_printoptions(threshold=10)\n",
    "\n",
    "# load dataset\n",
    "series = read_csv(const.DATA_DIR + \"apple_interpolate.csv\", engine='python')\n",
    "series = series['price']\n",
    "\n",
    "# configure\n",
    "n_lag = 30\n",
    "n_seq = 3\n",
    "test_split = 0.20\n",
    "\n",
    "# prepare data\n",
    "scaler, train, test = prepare_data(series, test_split, n_lag, n_seq)\n",
    "n_train = len(train)\n",
    "n_test = len(test)\n",
    "print(\"# shape:\", train.shape, test.shape)\n",
    "\n",
    "# dataframe to numpy array?\n",
    "train = train.values\n",
    "test = test.values\n",
    "print(\"# shape:\", train.shape, test.shape)"
   ]
  },
  {
   "cell_type": "code",
   "execution_count": 18,
   "metadata": {},
   "outputs": [
    {
     "name": "stdout",
     "output_type": "stream",
     "text": [
      "# shape: (1495, 30, 1) (1495, 3)\n",
      "# shape: (373, 30, 1) (373, 3)\n"
     ]
    }
   ],
   "source": [
    "# reshape training into [samples, timesteps, features]\n",
    "trainX, trainY = train[:, 0:n_lag], train[:, n_lag:]\n",
    "testX, testY = test[:, 0:n_lag], test[:, n_lag:]\n",
    "trainX = trainX.reshape(trainX.shape[0], n_lag, testX.shape[1]//n_lag)  # timesteps = n_lag\n",
    "testX = testX.reshape(testX.shape[0], n_lag, testX.shape[1]//n_lag)  # timesteps = n_lag\n",
    "print(\"# shape:\", trainX.shape, trainY.shape)\n",
    "print(\"# shape:\", testX.shape, testY.shape)"
   ]
  },
  {
   "cell_type": "code",
   "execution_count": 19,
   "metadata": {},
   "outputs": [
    {
     "name": "stdout",
     "output_type": "stream",
     "text": [
      "Train on 1495 samples, validate on 373 samples\n",
      "Epoch 1/10\n",
      " - 5s - loss: 0.0138 - val_loss: 0.0020\n",
      "Epoch 2/10\n",
      " - 3s - loss: 0.0138 - val_loss: 0.0020\n",
      "Epoch 3/10\n",
      " - 4s - loss: 0.0137 - val_loss: 0.0020\n",
      "Epoch 4/10\n",
      " - 3s - loss: 0.0136 - val_loss: 0.0020\n",
      "Epoch 5/10\n",
      " - 3s - loss: 0.0137 - val_loss: 0.0020\n",
      "Epoch 6/10\n",
      " - 3s - loss: 0.0136 - val_loss: 0.0020\n",
      "Epoch 7/10\n",
      " - 3s - loss: 0.0135 - val_loss: 0.0021\n",
      "Epoch 8/10\n",
      " - 3s - loss: 0.0135 - val_loss: 0.0020\n",
      "Epoch 9/10\n",
      " - 3s - loss: 0.0136 - val_loss: 0.0020\n",
      "Epoch 10/10\n",
      " - 3s - loss: 0.0135 - val_loss: 0.0021\n"
     ]
    }
   ],
   "source": [
    "# fit model\n",
    "n_epochs = 300\n",
    "n_batch = 30\n",
    "n_neurons = 32\n",
    "# design network\n",
    "s, model = networks_factory.create_lstm_model(n_neurons, 2, n_lag, 1, n_seq)\n",
    "model.compile(loss='mean_squared_error', optimizer='adam')\n",
    "history = model.fit(trainX, trainY, epochs=10, batch_size=n_batch, validation_data=(testX, testY), verbose=2)"
   ]
  },
  {
   "cell_type": "code",
   "execution_count": 20,
   "metadata": {},
   "outputs": [
    {
     "name": "stdout",
     "output_type": "stream",
     "text": [
      "_________________________________________________________________\n",
      "Layer (type)                 Output Shape              Param #   \n",
      "=================================================================\n",
      "lstm_3 (LSTM)                (None, 30, 32)            4352      \n",
      "_________________________________________________________________\n",
      "lstm_4 (LSTM)                (None, 32)                8320      \n",
      "_________________________________________________________________\n",
      "dense_2 (Dense)              (None, 3)                 99        \n",
      "=================================================================\n",
      "Total params: 12,771\n",
      "Trainable params: 12,771\n",
      "Non-trainable params: 0\n",
      "_________________________________________________________________\n"
     ]
    },
    {
     "data": {
      "text/plain": [
       "<matplotlib.legend.Legend at 0x1a162da0>"
      ]
     },
     "execution_count": 20,
     "metadata": {},
     "output_type": "execute_result"
    },
    {
     "data": {
      "image/png": "[encoded data removed]",
      "text/plain": [
       "<Figure size 432x288 with 1 Axes>"
      ]
     },
     "metadata": {
      "needs_background": "light"
     },
     "output_type": "display_data"
    }
   ],
   "source": [
    "keras.utils.print_summary(model)  # after the model was built\n",
    "\n",
    "# Plot training & validation loss values\n",
    "plt.plot(history.history['loss'])\n",
    "plt.plot(history.history['val_loss'])\n",
    "plt.title('Model loss')\n",
    "plt.ylabel('Loss')\n",
    "plt.xlabel('Epoch')\n",
    "plt.legend(['Train', 'Test'], loc='upper left')"
   ]
  },
  {
   "cell_type": "code",
   "execution_count": 21,
   "metadata": {},
   "outputs": [
    {
     "name": "stdout",
     "output_type": "stream",
     "text": [
      "# shape: (1495, 3) (373, 3)\n"
     ]
    }
   ],
   "source": [
    "# make predictions\n",
    "trainPredict = model.predict(trainX)\n",
    "testPredict = model.predict(testX)\n",
    "print(\"# shape:\", trainPredict.shape, testPredict.shape)"
   ]
  },
  {
   "cell_type": "code",
   "execution_count": 22,
   "metadata": {},
   "outputs": [],
   "source": [
    "# inverse transform forecasts and test\n",
    "diff_internal = 1\n",
    "tran_index = diff_internal + n_lag - 1  # 1 step forward\n",
    "test_index = -n_test - 1 - (n_seq-1)\n",
    "\n",
    "trainForecasts = inverse_transform(series, trainPredict, scaler, tran_index)\n",
    "trainActual = inverse_transform(series, trainY, scaler, tran_index)\n",
    "testForecasts = inverse_transform(series, testPredict, scaler, test_index)\n",
    "testActual = inverse_transform(series, testY, scaler, test_index)\n",
    "\n",
    "# test diff_invert; look the last column\n",
    "# print(trainActual.shape)\n",
    "# print(trainActual)\n",
    "# print(series.values[-(n_train+n_test):-n_test])\n",
    "# print(testActual.shape)\n",
    "# print(testActual)\n",
    "# print(series.values[-n_test:])"
   ]
  },
  {
   "cell_type": "code",
   "execution_count": 23,
   "metadata": {},
   "outputs": [
    {
     "name": "stdout",
     "output_type": "stream",
     "text": [
      "Train Score: 0.83 RMSE\n",
      "Test Score: 0.37 RMSE\n"
     ]
    }
   ],
   "source": [
    "# calculate root mean squared error\n",
    "trainScoreRMSE = math.sqrt(mean_squared_error(trainActual, trainForecasts, multioutput='uniform_average'))\n",
    "testScoreRMSE = math.sqrt(mean_squared_error(testActual, testForecasts, multioutput='uniform_average'))\n",
    "print('Train Score: %.2f RMSE' % (trainScoreRMSE))\n",
    "print('Test Score: %.2f RMSE' % (testScoreRMSE))"
   ]
  },
  {
   "cell_type": "code",
   "execution_count": 24,
   "metadata": {},
   "outputs": [],
   "source": [
    "# plot forecasts\n",
    "# plot_forecasts(series, forecasts, n_test+2)"
   ]
  },
  {
   "cell_type": "code",
   "execution_count": null,
   "metadata": {},
   "outputs": [],
   "source": []
  }
 ],
 "metadata": {
  "kernelspec": {
   "display_name": "Python 3",
   "language": "python",
   "name": "python3"
  },
  "language_info": {
   "codemirror_mode": {
    "name": "ipython",
    "version": 3
   },
   "file_extension": ".py",
   "mimetype": "text/x-python",
   "name": "python",
   "nbconvert_exporter": "python",
   "pygments_lexer": "ipython3",
   "version": "3.6.8"
  }
 },
 "nbformat": 4,
 "nbformat_minor": 2
}
